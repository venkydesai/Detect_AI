{
 "cells": [
  {
   "cell_type": "markdown",
   "metadata": {},
   "source": [
    "# Adding Noise\n",
    "\n",
    "I found that my models performed well on training and validation sets, but they struggled on the test set. Initially, the I ran a heuristic using the grammar counts and found it to perform well on the training and validation sets. When I submitted the heuristic on the test set, it performed a lot worse. This leads me to believe that the grammar is the test data is noisy. Perhaps the hosts decided to add grammar errors to the LLM essays to prevent people from using my heuristic. Hence, I am going to add some noise to the grammar errors in the training set to see how performance is affected. "
   ]
  },
  {
   "cell_type": "code",
   "execution_count": 1,
   "metadata": {},
   "outputs": [],
   "source": [
    "import pandas as pd\n",
    "import numpy as np \n",
    "import matplotlib.pyplot as plt\n",
    "from sklearn.preprocessing import RobustScaler\n",
    "from sklearn.metrics import roc_auc_score\n",
    "from sklearn.ensemble import RandomForestClassifier \n",
    "from catboost import CatBoostClassifier\n",
    "import torch\n",
    "import torch.nn as nn\n",
    "from torch.utils.data import TensorDataset, DataLoader\n",
    "import pickle \n",
    "import tqdm\n",
    "\n",
    "%matplotlib inline"
   ]
  },
  {
   "cell_type": "code",
   "execution_count": 2,
   "metadata": {},
   "outputs": [],
   "source": [
    "# Getting the data\n",
    "training_data = pd.read_csv('../../data/train.csv')\n",
    "valid_data = pd.read_csv('../../data/validation.csv')"
   ]
  },
  {
   "cell_type": "code",
   "execution_count": 3,
   "metadata": {},
   "outputs": [],
   "source": [
    "# Adding Gaussian Noise and absolute valuing it to maintain positives in grammar errors\n",
    "noise = np.random.normal(0,7,training_data.shape[0])\n",
    "training_data['grammar_errors'] = np.abs(training_data['grammar_errors'] + noise)"
   ]
  },
  {
   "cell_type": "code",
   "execution_count": 4,
   "metadata": {},
   "outputs": [],
   "source": [
    "# Dropping and scaling\n",
    "X_train = training_data.drop(['LLM_written','prompt','essay','row_id'],axis=1)\n",
    "y_train = training_data['LLM_written'].values\n",
    "\n",
    "X_valid = valid_data.drop(['LLM_written','prompt','essay','row_id'],axis=1)\n",
    "y_valid = valid_data['LLM_written'].values"
   ]
  },
  {
   "cell_type": "code",
   "execution_count": 5,
   "metadata": {},
   "outputs": [],
   "source": [
    "# Creating a scalar and scaling the data\n",
    "numerical = ['word_count','stop_word_count','stop_word_ratio','unique_word_count','unique_word_ratio',\n",
    "             'count_question','count_exclamation','count_semi','count_colon','grammar_errors']\n",
    "scalar = RobustScaler()\n",
    "X_train[numerical] = scalar.fit_transform(X_train[numerical])\n",
    "X_valid[numerical] = scalar.transform(X_valid[numerical])"
   ]
  },
  {
   "cell_type": "code",
   "execution_count": 6,
   "metadata": {},
   "outputs": [],
   "source": [
    "# Saving the scalar\n",
    "with open('../../models/custom-features/noisy-grammar-errors/scalar-noisy.pkl','wb') as file:\n",
    "    pickle.dump(scalar,file)"
   ]
  },
  {
   "cell_type": "code",
   "execution_count": 7,
   "metadata": {},
   "outputs": [],
   "source": [
    "# Creating a dictionary for the model performances\n",
    "performances = {\n",
    "    'model':[],\n",
    "    'Train ROC AUC':[],\n",
    "    'Valid ROC AUC':[]\n",
    "}"
   ]
  },
  {
   "cell_type": "markdown",
   "metadata": {},
   "source": [
    "## Random Forest"
   ]
  },
  {
   "cell_type": "code",
   "execution_count": 8,
   "metadata": {},
   "outputs": [
    {
     "data": {
      "text/html": [
       "<style>#sk-container-id-1 {color: black;background-color: white;}#sk-container-id-1 pre{padding: 0;}#sk-container-id-1 div.sk-toggleable {background-color: white;}#sk-container-id-1 label.sk-toggleable__label {cursor: pointer;display: block;width: 100%;margin-bottom: 0;padding: 0.3em;box-sizing: border-box;text-align: center;}#sk-container-id-1 label.sk-toggleable__label-arrow:before {content: \"▸\";float: left;margin-right: 0.25em;color: #696969;}#sk-container-id-1 label.sk-toggleable__label-arrow:hover:before {color: black;}#sk-container-id-1 div.sk-estimator:hover label.sk-toggleable__label-arrow:before {color: black;}#sk-container-id-1 div.sk-toggleable__content {max-height: 0;max-width: 0;overflow: hidden;text-align: left;background-color: #f0f8ff;}#sk-container-id-1 div.sk-toggleable__content pre {margin: 0.2em;color: black;border-radius: 0.25em;background-color: #f0f8ff;}#sk-container-id-1 input.sk-toggleable__control:checked~div.sk-toggleable__content {max-height: 200px;max-width: 100%;overflow: auto;}#sk-container-id-1 input.sk-toggleable__control:checked~label.sk-toggleable__label-arrow:before {content: \"▾\";}#sk-container-id-1 div.sk-estimator input.sk-toggleable__control:checked~label.sk-toggleable__label {background-color: #d4ebff;}#sk-container-id-1 div.sk-label input.sk-toggleable__control:checked~label.sk-toggleable__label {background-color: #d4ebff;}#sk-container-id-1 input.sk-hidden--visually {border: 0;clip: rect(1px 1px 1px 1px);clip: rect(1px, 1px, 1px, 1px);height: 1px;margin: -1px;overflow: hidden;padding: 0;position: absolute;width: 1px;}#sk-container-id-1 div.sk-estimator {font-family: monospace;background-color: #f0f8ff;border: 1px dotted black;border-radius: 0.25em;box-sizing: border-box;margin-bottom: 0.5em;}#sk-container-id-1 div.sk-estimator:hover {background-color: #d4ebff;}#sk-container-id-1 div.sk-parallel-item::after {content: \"\";width: 100%;border-bottom: 1px solid gray;flex-grow: 1;}#sk-container-id-1 div.sk-label:hover label.sk-toggleable__label {background-color: #d4ebff;}#sk-container-id-1 div.sk-serial::before {content: \"\";position: absolute;border-left: 1px solid gray;box-sizing: border-box;top: 0;bottom: 0;left: 50%;z-index: 0;}#sk-container-id-1 div.sk-serial {display: flex;flex-direction: column;align-items: center;background-color: white;padding-right: 0.2em;padding-left: 0.2em;position: relative;}#sk-container-id-1 div.sk-item {position: relative;z-index: 1;}#sk-container-id-1 div.sk-parallel {display: flex;align-items: stretch;justify-content: center;background-color: white;position: relative;}#sk-container-id-1 div.sk-item::before, #sk-container-id-1 div.sk-parallel-item::before {content: \"\";position: absolute;border-left: 1px solid gray;box-sizing: border-box;top: 0;bottom: 0;left: 50%;z-index: -1;}#sk-container-id-1 div.sk-parallel-item {display: flex;flex-direction: column;z-index: 1;position: relative;background-color: white;}#sk-container-id-1 div.sk-parallel-item:first-child::after {align-self: flex-end;width: 50%;}#sk-container-id-1 div.sk-parallel-item:last-child::after {align-self: flex-start;width: 50%;}#sk-container-id-1 div.sk-parallel-item:only-child::after {width: 0;}#sk-container-id-1 div.sk-dashed-wrapped {border: 1px dashed gray;margin: 0 0.4em 0.5em 0.4em;box-sizing: border-box;padding-bottom: 0.4em;background-color: white;}#sk-container-id-1 div.sk-label label {font-family: monospace;font-weight: bold;display: inline-block;line-height: 1.2em;}#sk-container-id-1 div.sk-label-container {text-align: center;}#sk-container-id-1 div.sk-container {/* jupyter's `normalize.less` sets `[hidden] { display: none; }` but bootstrap.min.css set `[hidden] { display: none !important; }` so we also need the `!important` here to be able to override the default hidden behavior on the sphinx rendered scikit-learn.org. See: https://github.com/scikit-learn/scikit-learn/issues/21755 */display: inline-block !important;position: relative;}#sk-container-id-1 div.sk-text-repr-fallback {display: none;}</style><div id=\"sk-container-id-1\" class=\"sk-top-container\"><div class=\"sk-text-repr-fallback\"><pre>RandomForestClassifier(class_weight=&#x27;balanced&#x27;, n_estimators=1000,\n",
       "                       random_state=42)</pre><b>In a Jupyter environment, please rerun this cell to show the HTML representation or trust the notebook. <br />On GitHub, the HTML representation is unable to render, please try loading this page with nbviewer.org.</b></div><div class=\"sk-container\" hidden><div class=\"sk-item\"><div class=\"sk-estimator sk-toggleable\"><input class=\"sk-toggleable__control sk-hidden--visually\" id=\"sk-estimator-id-1\" type=\"checkbox\" checked><label for=\"sk-estimator-id-1\" class=\"sk-toggleable__label sk-toggleable__label-arrow\">RandomForestClassifier</label><div class=\"sk-toggleable__content\"><pre>RandomForestClassifier(class_weight=&#x27;balanced&#x27;, n_estimators=1000,\n",
       "                       random_state=42)</pre></div></div></div></div></div>"
      ],
      "text/plain": [
       "RandomForestClassifier(class_weight='balanced', n_estimators=1000,\n",
       "                       random_state=42)"
      ]
     },
     "execution_count": 8,
     "metadata": {},
     "output_type": "execute_result"
    }
   ],
   "source": [
    "forest = RandomForestClassifier(n_estimators=1000,criterion='gini',bootstrap=True,random_state=42,class_weight='balanced')\n",
    "forest.fit(X_train,y_train)"
   ]
  },
  {
   "cell_type": "code",
   "execution_count": 9,
   "metadata": {},
   "outputs": [
    {
     "name": "stdout",
     "output_type": "stream",
     "text": [
      "Predictions for Random Forest\n",
      "Training ROC AUC: 0.9999999999999999\n",
      "Validation ROC AUC: 0.9790311497751699\n"
     ]
    }
   ],
   "source": [
    "# Making predictions\n",
    "print('Predictions for Random Forest')\n",
    "train_preds = forest.predict_proba(X_train)[:,1]\n",
    "valid_preds = forest.predict_proba(X_valid)[:,1]\n",
    "train_score = roc_auc_score(y_train,train_preds)\n",
    "valid_score = roc_auc_score(y_valid,valid_preds)\n",
    "print(f'Training ROC AUC: {train_score}')\n",
    "print(f'Validation ROC AUC: {valid_score}')"
   ]
  },
  {
   "cell_type": "code",
   "execution_count": 10,
   "metadata": {},
   "outputs": [],
   "source": [
    "# Adding the metrics\n",
    "model = 'Random Forest'\n",
    "performances['model'].append(model)\n",
    "performances['Train ROC AUC'].append(train_score)\n",
    "performances['Valid ROC AUC'].append(valid_score)"
   ]
  },
  {
   "cell_type": "code",
   "execution_count": 11,
   "metadata": {},
   "outputs": [],
   "source": [
    "# Saving the model\n",
    "with open('../../models/custom-features/noisy-grammar-errors/forest-noisy.pkl','wb') as file:\n",
    "    pickle.dump(forest,file)"
   ]
  },
  {
   "cell_type": "markdown",
   "metadata": {},
   "source": [
    "## Gradient Boosting"
   ]
  },
  {
   "cell_type": "code",
   "execution_count": 12,
   "metadata": {},
   "outputs": [],
   "source": [
    "# Creating the balanced class sample weights\n",
    "sample_weights =  X_train.shape[0] / (2.0 * np.bincount(y_train.astype(int)))"
   ]
  },
  {
   "cell_type": "code",
   "execution_count": 13,
   "metadata": {},
   "outputs": [
    {
     "name": "stdout",
     "output_type": "stream",
     "text": [
      "0:\ttest: 0.8190560\tbest: 0.8190560 (0)\ttotal: 163ms\tremaining: 2m 43s\n",
      "1:\ttest: 0.8652213\tbest: 0.8652213 (1)\ttotal: 259ms\tremaining: 2m 9s\n",
      "2:\ttest: 0.8803605\tbest: 0.8803605 (2)\ttotal: 345ms\tremaining: 1m 54s\n",
      "3:\ttest: 0.9121654\tbest: 0.9121654 (3)\ttotal: 571ms\tremaining: 2m 22s\n",
      "4:\ttest: 0.9122913\tbest: 0.9122913 (4)\ttotal: 778ms\tremaining: 2m 34s\n",
      "5:\ttest: 0.9118936\tbest: 0.9122913 (4)\ttotal: 970ms\tremaining: 2m 40s\n",
      "6:\ttest: 0.9169757\tbest: 0.9169757 (6)\ttotal: 1.12s\tremaining: 2m 39s\n",
      "7:\ttest: 0.9338937\tbest: 0.9338937 (7)\ttotal: 1.25s\tremaining: 2m 34s\n",
      "8:\ttest: 0.9356246\tbest: 0.9356246 (8)\ttotal: 1.44s\tremaining: 2m 39s\n",
      "9:\ttest: 0.9348269\tbest: 0.9356246 (8)\ttotal: 1.63s\tremaining: 2m 41s\n",
      "10:\ttest: 0.9340028\tbest: 0.9356246 (8)\ttotal: 1.9s\tremaining: 2m 50s\n",
      "11:\ttest: 0.9376996\tbest: 0.9376996 (11)\ttotal: 2.05s\tremaining: 2m 48s\n",
      "12:\ttest: 0.9421244\tbest: 0.9421244 (12)\ttotal: 2.19s\tremaining: 2m 45s\n",
      "13:\ttest: 0.9427249\tbest: 0.9427249 (13)\ttotal: 2.28s\tremaining: 2m 40s\n",
      "14:\ttest: 0.9451025\tbest: 0.9451025 (14)\ttotal: 2.37s\tremaining: 2m 35s\n",
      "15:\ttest: 0.9446614\tbest: 0.9451025 (14)\ttotal: 2.56s\tremaining: 2m 37s\n",
      "16:\ttest: 0.9461717\tbest: 0.9461717 (16)\ttotal: 2.63s\tremaining: 2m 32s\n",
      "17:\ttest: 0.9453216\tbest: 0.9461717 (16)\ttotal: 2.73s\tremaining: 2m 29s\n",
      "18:\ttest: 0.9472467\tbest: 0.9472467 (18)\ttotal: 2.85s\tremaining: 2m 27s\n",
      "19:\ttest: 0.9468142\tbest: 0.9472467 (18)\ttotal: 2.94s\tremaining: 2m 24s\n",
      "20:\ttest: 0.9496843\tbest: 0.9496843 (20)\ttotal: 3.05s\tremaining: 2m 22s\n",
      "21:\ttest: 0.9508591\tbest: 0.9508591 (21)\ttotal: 3.21s\tremaining: 2m 22s\n",
      "22:\ttest: 0.9520808\tbest: 0.9520808 (22)\ttotal: 3.32s\tremaining: 2m 21s\n",
      "23:\ttest: 0.9530975\tbest: 0.9530975 (23)\ttotal: 3.42s\tremaining: 2m 19s\n",
      "24:\ttest: 0.9537789\tbest: 0.9537789 (24)\ttotal: 3.53s\tremaining: 2m 17s\n",
      "25:\ttest: 0.9527353\tbest: 0.9537789 (24)\ttotal: 3.63s\tremaining: 2m 15s\n",
      "26:\ttest: 0.9525613\tbest: 0.9537789 (24)\ttotal: 3.77s\tremaining: 2m 16s\n",
      "27:\ttest: 0.9514694\tbest: 0.9537789 (24)\ttotal: 4.06s\tremaining: 2m 20s\n",
      "28:\ttest: 0.9529383\tbest: 0.9537789 (24)\ttotal: 4.34s\tremaining: 2m 25s\n",
      "29:\ttest: 0.9524238\tbest: 0.9537789 (24)\ttotal: 4.49s\tremaining: 2m 25s\n",
      "30:\ttest: 0.9533389\tbest: 0.9537789 (24)\ttotal: 4.63s\tremaining: 2m 24s\n",
      "31:\ttest: 0.9532232\tbest: 0.9537789 (24)\ttotal: 4.74s\tremaining: 2m 23s\n",
      "32:\ttest: 0.9548230\tbest: 0.9548230 (32)\ttotal: 4.87s\tremaining: 2m 22s\n",
      "33:\ttest: 0.9545044\tbest: 0.9548230 (32)\ttotal: 4.98s\tremaining: 2m 21s\n",
      "34:\ttest: 0.9550029\tbest: 0.9550029 (34)\ttotal: 5.11s\tremaining: 2m 20s\n",
      "35:\ttest: 0.9545229\tbest: 0.9550029 (34)\ttotal: 5.43s\tremaining: 2m 25s\n",
      "36:\ttest: 0.9555993\tbest: 0.9555993 (36)\ttotal: 5.56s\tremaining: 2m 24s\n",
      "37:\ttest: 0.9563372\tbest: 0.9563372 (37)\ttotal: 5.73s\tremaining: 2m 25s\n",
      "38:\ttest: 0.9555671\tbest: 0.9563372 (37)\ttotal: 5.84s\tremaining: 2m 23s\n",
      "39:\ttest: 0.9562427\tbest: 0.9563372 (37)\ttotal: 5.96s\tremaining: 2m 22s\n",
      "40:\ttest: 0.9571649\tbest: 0.9571649 (40)\ttotal: 6.08s\tremaining: 2m 22s\n",
      "41:\ttest: 0.9569764\tbest: 0.9571649 (40)\ttotal: 6.19s\tremaining: 2m 21s\n",
      "42:\ttest: 0.9596083\tbest: 0.9596083 (42)\ttotal: 6.31s\tremaining: 2m 20s\n",
      "43:\ttest: 0.9600344\tbest: 0.9600344 (43)\ttotal: 6.45s\tremaining: 2m 20s\n",
      "44:\ttest: 0.9600209\tbest: 0.9600344 (43)\ttotal: 6.53s\tremaining: 2m 18s\n",
      "45:\ttest: 0.9599646\tbest: 0.9600344 (43)\ttotal: 6.59s\tremaining: 2m 16s\n",
      "46:\ttest: 0.9604825\tbest: 0.9604825 (46)\ttotal: 6.72s\tremaining: 2m 16s\n",
      "47:\ttest: 0.9603359\tbest: 0.9604825 (46)\ttotal: 6.83s\tremaining: 2m 15s\n",
      "48:\ttest: 0.9602545\tbest: 0.9604825 (46)\ttotal: 6.92s\tremaining: 2m 14s\n",
      "49:\ttest: 0.9597173\tbest: 0.9604825 (46)\ttotal: 7.02s\tremaining: 2m 13s\n",
      "50:\ttest: 0.9597021\tbest: 0.9604825 (46)\ttotal: 7.13s\tremaining: 2m 12s\n",
      "51:\ttest: 0.9594971\tbest: 0.9604825 (46)\ttotal: 7.25s\tremaining: 2m 12s\n",
      "52:\ttest: 0.9596156\tbest: 0.9604825 (46)\ttotal: 7.36s\tremaining: 2m 11s\n",
      "53:\ttest: 0.9593411\tbest: 0.9604825 (46)\ttotal: 7.49s\tremaining: 2m 11s\n",
      "54:\ttest: 0.9604311\tbest: 0.9604825 (46)\ttotal: 7.58s\tremaining: 2m 10s\n",
      "55:\ttest: 0.9614952\tbest: 0.9614952 (55)\ttotal: 7.72s\tremaining: 2m 10s\n",
      "56:\ttest: 0.9612656\tbest: 0.9614952 (55)\ttotal: 7.84s\tremaining: 2m 9s\n",
      "57:\ttest: 0.9618259\tbest: 0.9618259 (57)\ttotal: 7.98s\tremaining: 2m 9s\n",
      "58:\ttest: 0.9627247\tbest: 0.9627247 (58)\ttotal: 8.12s\tremaining: 2m 9s\n",
      "59:\ttest: 0.9634156\tbest: 0.9634156 (59)\ttotal: 8.24s\tremaining: 2m 9s\n",
      "60:\ttest: 0.9634680\tbest: 0.9634680 (60)\ttotal: 8.33s\tremaining: 2m 8s\n",
      "61:\ttest: 0.9631357\tbest: 0.9634680 (60)\ttotal: 8.44s\tremaining: 2m 7s\n",
      "62:\ttest: 0.9632220\tbest: 0.9634680 (60)\ttotal: 8.57s\tremaining: 2m 7s\n",
      "63:\ttest: 0.9623883\tbest: 0.9634680 (60)\ttotal: 8.67s\tremaining: 2m 6s\n",
      "64:\ttest: 0.9625571\tbest: 0.9634680 (60)\ttotal: 8.78s\tremaining: 2m 6s\n",
      "65:\ttest: 0.9624957\tbest: 0.9634680 (60)\ttotal: 9.05s\tremaining: 2m 8s\n",
      "66:\ttest: 0.9622548\tbest: 0.9634680 (60)\ttotal: 9.29s\tremaining: 2m 9s\n",
      "67:\ttest: 0.9623159\tbest: 0.9634680 (60)\ttotal: 9.42s\tremaining: 2m 9s\n",
      "68:\ttest: 0.9621203\tbest: 0.9634680 (60)\ttotal: 9.58s\tremaining: 2m 9s\n",
      "69:\ttest: 0.9622134\tbest: 0.9634680 (60)\ttotal: 9.68s\tremaining: 2m 8s\n",
      "70:\ttest: 0.9621861\tbest: 0.9634680 (60)\ttotal: 9.81s\tremaining: 2m 8s\n",
      "Stopped by overfitting detector  (10 iterations wait)\n",
      "\n",
      "bestTest = 0.9634680137\n",
      "bestIteration = 60\n",
      "\n",
      "Shrink model to first 61 iterations.\n"
     ]
    },
    {
     "data": {
      "text/plain": [
       "<catboost.core.CatBoostClassifier at 0x13603abc0>"
      ]
     },
     "execution_count": 13,
     "metadata": {},
     "output_type": "execute_result"
    }
   ],
   "source": [
    "catboost = CatBoostClassifier(iterations=1000,learning_rate=0.3,loss_function='Logloss',early_stopping_rounds=10,random_seed=42,eval_metric='AUC',\n",
    "                              class_weights=sample_weights)\n",
    "catboost.fit(X_train,y_train,eval_set=(X_valid,y_valid),use_best_model=True)"
   ]
  },
  {
   "cell_type": "code",
   "execution_count": 14,
   "metadata": {},
   "outputs": [
    {
     "name": "stdout",
     "output_type": "stream",
     "text": [
      "Predictions for Gradient Boosting\n",
      "Training ROC AUC: 0.9974400280375522\n",
      "Validation ROC AUC: 0.963468013742788\n"
     ]
    }
   ],
   "source": [
    "# Making predictions\n",
    "print('Predictions for Gradient Boosting')\n",
    "train_preds = catboost.predict_proba(X_train)[:,1]\n",
    "valid_preds = catboost.predict_proba(X_valid)[:,1]\n",
    "train_score = roc_auc_score(y_train,train_preds)\n",
    "valid_score = roc_auc_score(y_valid,valid_preds)\n",
    "print(f'Training ROC AUC: {train_score}')\n",
    "print(f'Validation ROC AUC: {valid_score}')"
   ]
  },
  {
   "cell_type": "code",
   "execution_count": 15,
   "metadata": {},
   "outputs": [],
   "source": [
    "# Adding the metrics\n",
    "model = 'Gradient Boosting'\n",
    "performances['model'].append(model)\n",
    "performances['Train ROC AUC'].append(train_score)\n",
    "performances['Valid ROC AUC'].append(valid_score)"
   ]
  },
  {
   "cell_type": "code",
   "execution_count": 16,
   "metadata": {},
   "outputs": [],
   "source": [
    "catboost.save_model('../../models/custom-features/noisy-grammar-errors/catboost-noisy')"
   ]
  },
  {
   "cell_type": "markdown",
   "metadata": {},
   "source": [
    "## ANN"
   ]
  },
  {
   "cell_type": "code",
   "execution_count": 17,
   "metadata": {},
   "outputs": [],
   "source": [
    "# Class for the model\n",
    "class ANN(nn.Module):\n",
    "    # Constructor\n",
    "    def __init__(self,num_features,model_layers,include_dropout,dropout_rate):\n",
    "        # Calling super constructor\n",
    "        super().__init__()\n",
    "        self.model = nn.Sequential()\n",
    "\n",
    "        # Adding the layers\n",
    "        in_features = num_features\n",
    "        for index in range(len(model_layers)):\n",
    "            model_layer = nn.Linear(in_features,model_layers[index],bias=True)\n",
    "            self.model.append(model_layer)\n",
    "            self.model.append(nn.ReLU())\n",
    "            in_features = model_layers[index]\n",
    "\n",
    "            # Adding dropout if specified\n",
    "            if include_dropout[index]:\n",
    "                self.model.append(nn.Dropout(p=dropout_rate))\n",
    "        \n",
    "        # Adding the final layer\n",
    "        self.model.append(nn.Linear(in_features,1))\n",
    "\n",
    "    # Forward class\n",
    "    def forward(self,X):\n",
    "        # Running the input through the model \n",
    "        return nn.functional.sigmoid(self.model(X))"
   ]
  },
  {
   "cell_type": "code",
   "execution_count": 18,
   "metadata": {},
   "outputs": [
    {
     "data": {
      "text/plain": [
       "ANN(\n",
       "  (model): Sequential(\n",
       "    (0): Linear(in_features=515, out_features=10, bias=True)\n",
       "    (1): ReLU()\n",
       "    (2): Dropout(p=0.2, inplace=False)\n",
       "    (3): Linear(in_features=10, out_features=20, bias=True)\n",
       "    (4): ReLU()\n",
       "    (5): Dropout(p=0.2, inplace=False)\n",
       "    (6): Linear(in_features=20, out_features=10, bias=True)\n",
       "    (7): ReLU()\n",
       "    (8): Dropout(p=0.2, inplace=False)\n",
       "    (9): Linear(in_features=10, out_features=1, bias=True)\n",
       "  )\n",
       ")"
      ]
     },
     "execution_count": 18,
     "metadata": {},
     "output_type": "execute_result"
    }
   ],
   "source": [
    "# Defining the model\n",
    "num_features = X_train.shape[1]\n",
    "layers = [10,20,10]\n",
    "include_dropout = [True] * 3\n",
    "dropout_rate = 0.2\n",
    "\n",
    "model = ANN(num_features,layers,include_dropout,dropout_rate)\n",
    "model"
   ]
  },
  {
   "cell_type": "code",
   "execution_count": 19,
   "metadata": {},
   "outputs": [],
   "source": [
    "# Putting both into Tensors and into a dataloader for iterating\n",
    "X_train_tensor = torch.from_numpy(X_train.values)\n",
    "y_train_tensor = torch.from_numpy(y_train)\n",
    "X_valid_tensor = torch.from_numpy(X_valid.values)\n",
    "y_valid_tensor = torch.from_numpy(y_valid)\n",
    "training_dataset = TensorDataset(X_train_tensor,y_train_tensor)\n",
    "valid_dataset = TensorDataset(X_valid_tensor,y_valid_tensor)\n",
    "training_loader = DataLoader(training_dataset,batch_size=32,shuffle=True)\n",
    "valid_loader = DataLoader(training_dataset,batch_size=32,shuffle=True)"
   ]
  },
  {
   "cell_type": "code",
   "execution_count": 20,
   "metadata": {},
   "outputs": [
    {
     "name": "stderr",
     "output_type": "stream",
     "text": [
      "  1%|          | 1/100 [00:17<28:49, 17.47s/it]"
     ]
    },
    {
     "name": "stdout",
     "output_type": "stream",
     "text": [
      "----------EPOCH 0 loss----------\n",
      "Train Loss: 0.15548073185390615\n",
      "Valid Loss: 0.07184538585395327\n",
      "Training ROC AUC: 0.9832093116136904\n",
      "Validation ROC AUC: 0.996252430926567\n",
      "--------------------------------------\n",
      "\n",
      "----------EPOCH 1 loss----------\n",
      "Train Loss: 0.07213605031569639\n",
      "Valid Loss: 0.057330823953940305\n",
      "Training ROC AUC: 0.9960683076029786\n",
      "Validation ROC AUC: 0.9979391181065036\n",
      "--------------------------------------\n",
      "\n"
     ]
    },
    {
     "name": "stderr",
     "output_type": "stream",
     "text": [
      "  2%|▏         | 2/100 [00:36<30:29, 18.67s/it]"
     ]
    },
    {
     "name": "stdout",
     "output_type": "stream",
     "text": [
      "----------EPOCH 2 loss----------\n",
      "Train Loss: 0.059960483572211315\n",
      "Valid Loss: 0.04447883544251581\n",
      "Training ROC AUC: 0.9973341312899803\n"
     ]
    },
    {
     "name": "stderr",
     "output_type": "stream",
     "text": [
      "  3%|▎         | 3/100 [00:56<30:31, 18.88s/it]"
     ]
    },
    {
     "name": "stdout",
     "output_type": "stream",
     "text": [
      "Validation ROC AUC: 0.9986769321134917\n",
      "--------------------------------------\n",
      "\n"
     ]
    },
    {
     "name": "stderr",
     "output_type": "stream",
     "text": [
      "  4%|▍         | 4/100 [01:14<29:40, 18.55s/it]"
     ]
    },
    {
     "name": "stdout",
     "output_type": "stream",
     "text": [
      "----------EPOCH 3 loss----------\n",
      "Train Loss: 0.050430897343347936\n",
      "Valid Loss: 0.040965720355305525\n",
      "Training ROC AUC: 0.9981616749236584\n",
      "Validation ROC AUC: 0.9989550085364688\n",
      "--------------------------------------\n",
      "\n",
      "----------EPOCH 4 loss----------\n",
      "Train Loss: 0.04500849927231249\n",
      "Valid Loss: 0.035416259768852654\n",
      "Training ROC AUC: 0.9984217484027962\n",
      "Validation ROC AUC: 0.999152898372448\n"
     ]
    },
    {
     "name": "stderr",
     "output_type": "stream",
     "text": [
      "  5%|▌         | 5/100 [01:31<28:23, 17.93s/it]"
     ]
    },
    {
     "name": "stdout",
     "output_type": "stream",
     "text": [
      "--------------------------------------\n",
      "\n"
     ]
    },
    {
     "name": "stderr",
     "output_type": "stream",
     "text": [
      "  6%|▌         | 6/100 [01:47<27:32, 17.58s/it]"
     ]
    },
    {
     "name": "stdout",
     "output_type": "stream",
     "text": [
      "----------EPOCH 5 loss----------\n",
      "Train Loss: 0.03987627622783802\n",
      "Valid Loss: 0.029829606965866798\n",
      "Training ROC AUC: 0.9987509416961851\n",
      "Validation ROC AUC: 0.999347364938559\n",
      "--------------------------------------\n",
      "\n"
     ]
    },
    {
     "name": "stderr",
     "output_type": "stream",
     "text": [
      "  7%|▋         | 7/100 [02:03<26:19, 16.99s/it]"
     ]
    },
    {
     "name": "stdout",
     "output_type": "stream",
     "text": [
      "----------EPOCH 6 loss----------\n",
      "Train Loss: 0.035794999970806256\n",
      "Valid Loss: 0.02554142341664836\n",
      "Training ROC AUC: 0.9990005747421732\n",
      "Validation ROC AUC: 0.9995378229312473\n",
      "--------------------------------------\n",
      "\n"
     ]
    },
    {
     "name": "stderr",
     "output_type": "stream",
     "text": [
      "  8%|▊         | 8/100 [02:18<25:07, 16.38s/it]"
     ]
    },
    {
     "name": "stdout",
     "output_type": "stream",
     "text": [
      "----------EPOCH 7 loss----------\n",
      "Train Loss: 0.03190407585529926\n",
      "Valid Loss: 0.025731194350296673\n",
      "Training ROC AUC: 0.9992243745194599\n",
      "Validation ROC AUC: 0.999524257279486\n",
      "--------------------------------------\n",
      "\n"
     ]
    },
    {
     "name": "stderr",
     "output_type": "stream",
     "text": [
      "  9%|▉         | 9/100 [02:34<24:45, 16.33s/it]"
     ]
    },
    {
     "name": "stdout",
     "output_type": "stream",
     "text": [
      "----------EPOCH 8 loss----------\n",
      "Train Loss: 0.029568468095927263\n",
      "Valid Loss: 0.023589441029243177\n",
      "Training ROC AUC: 0.9993316297760202\n",
      "Validation ROC AUC: 0.9996721889733087\n",
      "--------------------------------------\n",
      "\n",
      "----------EPOCH 9 loss----------\n",
      "Train Loss: 0.027177477740001132\n",
      "Valid Loss: 0.023561887640783805\n",
      "Training ROC AUC: 0.9994386971307018\n",
      "Validation ROC AUC: 0.9994458082449228\n"
     ]
    },
    {
     "name": "stderr",
     "output_type": "stream",
     "text": [
      " 10%|█         | 10/100 [02:51<24:33, 16.38s/it]"
     ]
    },
    {
     "name": "stdout",
     "output_type": "stream",
     "text": [
      "--------------------------------------\n",
      "\n"
     ]
    },
    {
     "name": "stderr",
     "output_type": "stream",
     "text": [
      " 11%|█         | 11/100 [03:09<24:49, 16.74s/it]"
     ]
    },
    {
     "name": "stdout",
     "output_type": "stream",
     "text": [
      "----------EPOCH 10 loss----------\n",
      "Train Loss: 0.025481793908825687\n",
      "Valid Loss: 0.017256168723099125\n",
      "Training ROC AUC: 0.9994326281159828\n",
      "Validation ROC AUC: 0.9997754205379042\n",
      "--------------------------------------\n",
      "\n"
     ]
    },
    {
     "name": "stderr",
     "output_type": "stream",
     "text": [
      " 12%|█▏        | 12/100 [03:25<24:17, 16.56s/it]"
     ]
    },
    {
     "name": "stdout",
     "output_type": "stream",
     "text": [
      "----------EPOCH 11 loss----------\n",
      "Train Loss: 0.023146008039745404\n",
      "Valid Loss: 0.018574911981851412\n",
      "Training ROC AUC: 0.9995766948625316\n",
      "Validation ROC AUC: 0.9997470279160207\n",
      "--------------------------------------\n",
      "\n"
     ]
    },
    {
     "name": "stderr",
     "output_type": "stream",
     "text": [
      " 13%|█▎        | 13/100 [03:42<24:17, 16.75s/it]"
     ]
    },
    {
     "name": "stdout",
     "output_type": "stream",
     "text": [
      "----------EPOCH 12 loss----------\n",
      "Train Loss: 0.021664092393845223\n",
      "Valid Loss: 0.016021389436626902\n",
      "Training ROC AUC: 0.9996117342434178\n",
      "Validation ROC AUC: 0.9998071284400704\n",
      "--------------------------------------\n",
      "\n"
     ]
    },
    {
     "name": "stderr",
     "output_type": "stream",
     "text": [
      " 14%|█▍        | 14/100 [03:59<24:11, 16.88s/it]"
     ]
    },
    {
     "name": "stdout",
     "output_type": "stream",
     "text": [
      "----------EPOCH 13 loss----------\n",
      "Train Loss: 0.020819074145949638\n",
      "Valid Loss: 0.015695704585161525\n",
      "Training ROC AUC: 0.9996259435131097\n",
      "Validation ROC AUC: 0.9998069351387119\n",
      "--------------------------------------\n",
      "\n"
     ]
    },
    {
     "name": "stderr",
     "output_type": "stream",
     "text": [
      " 15%|█▌        | 15/100 [04:16<23:58, 16.92s/it]"
     ]
    },
    {
     "name": "stdout",
     "output_type": "stream",
     "text": [
      "----------EPOCH 14 loss----------\n",
      "Train Loss: 0.019129049537795737\n",
      "Valid Loss: 0.014189964465831392\n",
      "Training ROC AUC: 0.9996802439165093\n",
      "Validation ROC AUC: 0.9998383449896212\n",
      "--------------------------------------\n",
      "\n"
     ]
    },
    {
     "name": "stderr",
     "output_type": "stream",
     "text": [
      " 16%|█▌        | 16/100 [04:32<23:14, 16.60s/it]"
     ]
    },
    {
     "name": "stdout",
     "output_type": "stream",
     "text": [
      "----------EPOCH 15 loss----------\n",
      "Train Loss: 0.01720099637296215\n",
      "Valid Loss: 0.013706107561415527\n",
      "Training ROC AUC: 0.9997418433360091\n",
      "Validation ROC AUC: 0.9998458059901002\n",
      "--------------------------------------\n",
      "\n"
     ]
    },
    {
     "name": "stderr",
     "output_type": "stream",
     "text": [
      " 17%|█▋        | 17/100 [04:47<22:15, 16.10s/it]"
     ]
    },
    {
     "name": "stdout",
     "output_type": "stream",
     "text": [
      "----------EPOCH 16 loss----------\n",
      "Train Loss: 0.016360417455354815\n",
      "Valid Loss: 0.012710389209943166\n",
      "Training ROC AUC: 0.9997625730168885\n",
      "Validation ROC AUC: 0.9998614148048235\n",
      "--------------------------------------\n",
      "\n"
     ]
    },
    {
     "name": "stderr",
     "output_type": "stream",
     "text": [
      " 18%|█▊        | 18/100 [05:03<21:53, 16.02s/it]"
     ]
    },
    {
     "name": "stdout",
     "output_type": "stream",
     "text": [
      "----------EPOCH 17 loss----------\n",
      "Train Loss: 0.017467646433461236\n",
      "Valid Loss: 0.013419286382904126\n",
      "Training ROC AUC: 0.9996862880936234\n",
      "Validation ROC AUC: 0.9998484938508895\n",
      "--------------------------------------\n",
      "\n"
     ]
    },
    {
     "name": "stderr",
     "output_type": "stream",
     "text": [
      " 19%|█▉        | 19/100 [05:20<22:06, 16.38s/it]"
     ]
    },
    {
     "name": "stdout",
     "output_type": "stream",
     "text": [
      "----------EPOCH 18 loss----------\n",
      "Train Loss: 0.015120316519969045\n",
      "Valid Loss: 0.010860149374303196\n",
      "Training ROC AUC: 0.999791958063065\n",
      "Validation ROC AUC: 0.9999080749450316\n",
      "--------------------------------------\n",
      "\n"
     ]
    },
    {
     "name": "stderr",
     "output_type": "stream",
     "text": [
      " 20%|██        | 20/100 [05:38<22:42, 17.04s/it]"
     ]
    },
    {
     "name": "stdout",
     "output_type": "stream",
     "text": [
      "----------EPOCH 19 loss----------\n",
      "Train Loss: 0.01662468200055376\n",
      "Valid Loss: 0.012217899381755925\n",
      "Training ROC AUC: 0.9998015615769252\n",
      "Validation ROC AUC: 0.9999005199936131\n",
      "--------------------------------------\n",
      "\n"
     ]
    },
    {
     "name": "stderr",
     "output_type": "stream",
     "text": [
      " 21%|██        | 21/100 [05:57<23:06, 17.55s/it]"
     ]
    },
    {
     "name": "stdout",
     "output_type": "stream",
     "text": [
      "----------EPOCH 20 loss----------\n",
      "Train Loss: 0.014290222890315006\n",
      "Valid Loss: 0.019663896029190008\n",
      "Training ROC AUC: 0.9998037310877029\n",
      "Validation ROC AUC: 0.9996084794373036\n",
      "--------------------------------------\n",
      "\n"
     ]
    },
    {
     "name": "stderr",
     "output_type": "stream",
     "text": [
      " 22%|██▏       | 22/100 [06:13<22:14, 17.10s/it]"
     ]
    },
    {
     "name": "stdout",
     "output_type": "stream",
     "text": [
      "----------EPOCH 21 loss----------\n",
      "Train Loss: 0.015172626830149137\n",
      "Valid Loss: 0.010187049774002126\n",
      "Training ROC AUC: 0.9998244661680614\n",
      "Validation ROC AUC: 0.9999078341282556\n",
      "--------------------------------------\n",
      "\n",
      "----------EPOCH 22 loss----------\n",
      "Train Loss: 0.013517312973863587\n",
      "Valid Loss: 0.009767471316964095\n",
      "Training ROC AUC: 0.9998456407660341\n",
      "Validation ROC AUC: 0.9999124593222128\n"
     ]
    },
    {
     "name": "stderr",
     "output_type": "stream",
     "text": [
      " 23%|██▎       | 23/100 [06:31<22:07, 17.24s/it]"
     ]
    },
    {
     "name": "stdout",
     "output_type": "stream",
     "text": [
      "--------------------------------------\n",
      "\n"
     ]
    },
    {
     "name": "stderr",
     "output_type": "stream",
     "text": [
      " 24%|██▍       | 24/100 [06:48<21:57, 17.34s/it]"
     ]
    },
    {
     "name": "stdout",
     "output_type": "stream",
     "text": [
      "----------EPOCH 23 loss----------\n",
      "Train Loss: 0.011624289319139114\n",
      "Valid Loss: 0.009239218251122998\n",
      "Training ROC AUC: 0.9998736856614517\n",
      "Validation ROC AUC: 0.9999229224331756\n",
      "--------------------------------------\n",
      "\n"
     ]
    },
    {
     "name": "stderr",
     "output_type": "stream",
     "text": [
      " 25%|██▌       | 25/100 [06:59<19:13, 15.38s/it]"
     ]
    },
    {
     "name": "stdout",
     "output_type": "stream",
     "text": [
      "----------EPOCH 24 loss----------\n",
      "Train Loss: 0.011743819478686773\n",
      "Valid Loss: 0.008473692603081834\n",
      "Training ROC AUC: 0.9998741845733378\n",
      "Validation ROC AUC: 0.9999343380122846\n",
      "--------------------------------------\n",
      "\n"
     ]
    },
    {
     "name": "stderr",
     "output_type": "stream",
     "text": [
      " 26%|██▌       | 26/100 [07:10<17:05, 13.86s/it]"
     ]
    },
    {
     "name": "stdout",
     "output_type": "stream",
     "text": [
      "----------EPOCH 25 loss----------\n",
      "Train Loss: 0.010703944289423247\n",
      "Valid Loss: 0.007786346420083328\n",
      "Training ROC AUC: 0.999888523430533\n",
      "Validation ROC AUC: 0.9999390398788479\n",
      "--------------------------------------\n",
      "\n"
     ]
    },
    {
     "name": "stderr",
     "output_type": "stream",
     "text": [
      " 27%|██▋       | 27/100 [07:20<15:36, 12.83s/it]"
     ]
    },
    {
     "name": "stdout",
     "output_type": "stream",
     "text": [
      "----------EPOCH 26 loss----------\n",
      "Train Loss: 0.012211542225723756\n",
      "Valid Loss: 0.008502485822754686\n",
      "Training ROC AUC: 0.9998496396203942\n",
      "Validation ROC AUC: 0.9999292387440456\n",
      "--------------------------------------\n",
      "\n"
     ]
    },
    {
     "name": "stderr",
     "output_type": "stream",
     "text": [
      " 28%|██▊       | 28/100 [07:31<14:43, 12.27s/it]"
     ]
    },
    {
     "name": "stdout",
     "output_type": "stream",
     "text": [
      "----------EPOCH 27 loss----------\n",
      "Train Loss: 0.011149361385940111\n",
      "Valid Loss: 0.008331237979871292\n",
      "Training ROC AUC: 0.9998732893396721\n",
      "Validation ROC AUC: 0.9999375323442308\n",
      "--------------------------------------\n",
      "\n"
     ]
    },
    {
     "name": "stderr",
     "output_type": "stream",
     "text": [
      " 28%|██▊       | 28/100 [07:42<19:48, 16.51s/it]"
     ]
    },
    {
     "name": "stdout",
     "output_type": "stream",
     "text": [
      "----------EPOCH 28 loss----------\n",
      "Train Loss: 0.009842425130615649\n",
      "Valid Loss: 0.009764087401873804\n",
      "Training ROC AUC: 0.9998994562961935\n",
      "Validation ROC AUC: 0.9999229191934879\n",
      "--------------------------------------\n",
      "\n",
      "Found no improvement!\n"
     ]
    },
    {
     "name": "stderr",
     "output_type": "stream",
     "text": [
      "\n"
     ]
    }
   ],
   "source": [
    "# Model training\n",
    "EPOCHS = 100\n",
    "LEARNING_RATE = 0.003\n",
    "LOSS = nn.BCELoss()\n",
    "OPTIMIZER = torch.optim.Adam(model.parameters(),LEARNING_RATE)\n",
    "history = []\n",
    "early_stopping_threshold = 10\n",
    "best_roc_auc = 0\n",
    "current_count = 0\n",
    "\n",
    "for epoch in tqdm.tqdm(range(EPOCHS)):\n",
    "    train_loss = 0\n",
    "    train_preds = None\n",
    "    valid_preds = None\n",
    "    train_targets = None\n",
    "    valid_targets = None\n",
    "    for X,y in training_loader:\n",
    "        # Making predictions\n",
    "        X = X.to(torch.float32)\n",
    "        y = y.to(torch.float32)\n",
    "        pred = model(X)\n",
    "        if train_preds is None:\n",
    "            train_preds = pred.detach().numpy()\n",
    "        else:\n",
    "            train_preds = np.append(train_preds,pred.detach().numpy(),axis=0)\n",
    "        \n",
    "        # Getting the targets\n",
    "        if train_targets is None:\n",
    "            train_targets = y.numpy()\n",
    "        else:\n",
    "            train_targets = np.append(train_targets,y.detach().numpy(),axis=0)\n",
    "\n",
    "        # Getting the loss\n",
    "        loss = LOSS(pred,y.view(-1,1))\n",
    "\n",
    "        # Calculating the gradients\n",
    "        loss.backward()\n",
    "\n",
    "        # Taking a step with the optimizer\n",
    "        OPTIMIZER.step()\n",
    "\n",
    "        # Clear the gradients\n",
    "        OPTIMIZER.zero_grad()\n",
    "\n",
    "        # Adding the loss\n",
    "        train_loss += loss.item()\n",
    "    \n",
    "    # Going through a validation loop\n",
    "    model.eval()\n",
    "    val_loss = 0\n",
    "    for X,y in valid_loader:\n",
    "        # Making predictions\n",
    "        X = X.to(torch.float32)\n",
    "        y = y.to(torch.float32)\n",
    "        with torch.no_grad():\n",
    "            pred = model(X)\n",
    "            loss = LOSS(pred,y.view(-1,1))\n",
    "\n",
    "        val_loss += loss.item()\n",
    "        if valid_preds is None:\n",
    "            valid_preds = pred.detach().numpy()\n",
    "        else:\n",
    "            valid_preds = np.append(valid_preds,pred.detach().numpy(),axis=0)\n",
    "        \n",
    "        # Getting the targets\n",
    "        if valid_targets is None:\n",
    "            valid_targets = y.numpy()\n",
    "        else:\n",
    "            valid_targets = np.append(valid_targets,y.detach().numpy(),axis=0)\n",
    "    \n",
    "    # Early Stopping\n",
    "    if roc_auc_score(valid_targets,valid_preds) - best_roc_auc > 1e-4:\n",
    "        best_roc_auc = roc_auc_score(valid_targets,valid_preds)\n",
    "        count = 0\n",
    "\n",
    "        # Saving the best model\n",
    "        torch.save(model.state_dict(),'../../models/custom-features/noisy-grammar-errors/ann.pt')\n",
    "    else:\n",
    "        count += 1\n",
    "\n",
    "    # Appending the average example loss to the history\n",
    "    print(f'----------EPOCH {epoch} loss----------')\n",
    "    print(f'Train Loss: {train_loss / len(training_loader)}')\n",
    "    print(f'Valid Loss: {val_loss / len(valid_loader)}')\n",
    "    print(f'Training ROC AUC: {roc_auc_score(train_targets,train_preds)}')\n",
    "    print(f'Validation ROC AUC: {roc_auc_score(valid_targets,valid_preds)}')\n",
    "    history.append([train_loss / len(training_loader),val_loss / len(valid_loader),roc_auc_score(train_targets,train_preds),roc_auc_score(valid_targets,valid_preds)])\n",
    "    print('--------------------------------------')\n",
    "    print()\n",
    "\n",
    "    # Stopping the loop \n",
    "    if count == 10:\n",
    "        print('Found no improvement!')\n",
    "        break"
   ]
  },
  {
   "cell_type": "code",
   "execution_count": 21,
   "metadata": {},
   "outputs": [],
   "source": [
    "# Putting history into a dataframe\n",
    "history_df = pd.DataFrame(history,columns=['Training Loss','Validation Loss','Training ROC AUC','Validation ROC AUC'])"
   ]
  },
  {
   "cell_type": "code",
   "execution_count": 22,
   "metadata": {},
   "outputs": [
    {
     "data": {
      "image/png": "[encoded data removed]",
      "text/plain": [
       "<Figure size 640x480 with 1 Axes>"
      ]
     },
     "metadata": {},
     "output_type": "display_data"
    }
   ],
   "source": [
    "# Plotting the loss\n",
    "history_df[['Training Loss','Validation Loss']].plot(title='Loss vs. Epochs',xlabel='Epochs',ylabel='Loss')\n",
    "plt.show()"
   ]
  },
  {
   "cell_type": "code",
   "execution_count": 23,
   "metadata": {},
   "outputs": [
    {
     "data": {
      "image/png": "[encoded data removed]",
      "text/plain": [
       "<Figure size 640x480 with 1 Axes>"
      ]
     },
     "metadata": {},
     "output_type": "display_data"
    }
   ],
   "source": [
    "# Plotting the ROC AUC\n",
    "history_df[['Training ROC AUC','Validation ROC AUC']].plot(title='ROC AUC vs. Epochs',xlabel='Epochs',ylabel='ROC AUC')\n",
    "plt.show()"
   ]
  },
  {
   "cell_type": "code",
   "execution_count": 24,
   "metadata": {},
   "outputs": [],
   "source": [
    "# Loading the best model\n",
    "ann_clf = ANN(num_features,layers,include_dropout,dropout_rate)\n",
    "ann_clf = torch.load('../../models/custom-features/noisy-grammar-errors/ann.pt')"
   ]
  },
  {
   "cell_type": "code",
   "execution_count": 25,
   "metadata": {},
   "outputs": [],
   "source": [
    "# Inference loop \n",
    "with torch.no_grad():\n",
    "    model.eval()\n",
    "    train_preds = None\n",
    "    val_preds = None\n",
    "    train_targets = None\n",
    "    val_targets = None\n",
    "    for X,y in training_loader:\n",
    "        # Making predictions\n",
    "        X = X.to(torch.float32)\n",
    "        y = y.to(torch.float32)\n",
    "        pred = model(X)\n",
    "        if train_preds is None:\n",
    "            train_preds = pred.detach().numpy()\n",
    "        else:\n",
    "            train_preds = np.append(train_preds,pred.detach().numpy(),axis=0)\n",
    "\n",
    "        # Getting the targets\n",
    "        if train_targets is None:\n",
    "            train_targets = y.numpy()\n",
    "        else:\n",
    "            train_targets = np.append(train_targets,y.detach().numpy(),axis=0)\n",
    "    for X,y in valid_loader:\n",
    "        # Making predictions\n",
    "        X = X.to(torch.float32)\n",
    "        y = y.to(torch.float32)\n",
    "        pred = model(X)\n",
    "        if valid_preds is None:\n",
    "            valid_preds = pred.detach().numpy()\n",
    "        else:\n",
    "            valid_preds = np.append(valid_preds,pred.detach().numpy(),axis=0)\n",
    "\n",
    "        # Getting the targets\n",
    "        if valid_targets is None:\n",
    "            valid_targets = y.numpy()\n",
    "        else:\n",
    "            valid_targets = np.append(valid_targets,y.detach().numpy(),axis=0)"
   ]
  },
  {
   "cell_type": "code",
   "execution_count": 26,
   "metadata": {},
   "outputs": [
    {
     "name": "stdout",
     "output_type": "stream",
     "text": [
      "Predictions for ANN\n",
      "Training ROC AUC: 0.999922919193488\n",
      "Validation ROC AUC: 0.999922919193488\n"
     ]
    }
   ],
   "source": [
    "# Making predictions\n",
    "print('Predictions for ANN')\n",
    "train_score = roc_auc_score(train_targets,train_preds)\n",
    "valid_score = roc_auc_score(valid_targets,valid_preds)\n",
    "print(f'Training ROC AUC: {train_score}')\n",
    "print(f'Validation ROC AUC: {valid_score}')"
   ]
  },
  {
   "cell_type": "code",
   "execution_count": 27,
   "metadata": {},
   "outputs": [],
   "source": [
    "# Adding the metrics\n",
    "model = 'ANN'\n",
    "performances['model'].append(model)\n",
    "performances['Train ROC AUC'].append(train_score)\n",
    "performances['Valid ROC AUC'].append(valid_score)"
   ]
  },
  {
   "cell_type": "code",
   "execution_count": 28,
   "metadata": {},
   "outputs": [
    {
     "data": {
      "text/html": [
       "<div>\n",
       "<style scoped>\n",
       "    .dataframe tbody tr th:only-of-type {\n",
       "        vertical-align: middle;\n",
       "    }\n",
       "\n",
       "    .dataframe tbody tr th {\n",
       "        vertical-align: top;\n",
       "    }\n",
       "\n",
       "    .dataframe thead th {\n",
       "        text-align: right;\n",
       "    }\n",
       "</style>\n",
       "<table border=\"1\" class=\"dataframe\">\n",
       "  <thead>\n",
       "    <tr style=\"text-align: right;\">\n",
       "      <th></th>\n",
       "      <th>model</th>\n",
       "      <th>Train ROC AUC</th>\n",
       "      <th>Valid ROC AUC</th>\n",
       "    </tr>\n",
       "  </thead>\n",
       "  <tbody>\n",
       "    <tr>\n",
       "      <th>0</th>\n",
       "      <td>Random Forest</td>\n",
       "      <td>1.000000</td>\n",
       "      <td>0.979031</td>\n",
       "    </tr>\n",
       "    <tr>\n",
       "      <th>1</th>\n",
       "      <td>Gradient Boosting</td>\n",
       "      <td>0.997440</td>\n",
       "      <td>0.963468</td>\n",
       "    </tr>\n",
       "    <tr>\n",
       "      <th>2</th>\n",
       "      <td>ANN</td>\n",
       "      <td>0.999923</td>\n",
       "      <td>0.999923</td>\n",
       "    </tr>\n",
       "  </tbody>\n",
       "</table>\n",
       "</div>"
      ],
      "text/plain": [
       "               model  Train ROC AUC  Valid ROC AUC\n",
       "0      Random Forest       1.000000       0.979031\n",
       "1  Gradient Boosting       0.997440       0.963468\n",
       "2                ANN       0.999923       0.999923"
      ]
     },
     "execution_count": 28,
     "metadata": {},
     "output_type": "execute_result"
    }
   ],
   "source": [
    "# Printing out the model performances in a dataframe and saving it\n",
    "metrics_df = pd.DataFrame().from_dict(performances)\n",
    "metrics_df"
   ]
  },
  {
   "cell_type": "code",
   "execution_count": 29,
   "metadata": {},
   "outputs": [],
   "source": [
    "# Saving the performances\n",
    "metrics_df.to_csv('../../models/custom-features/noisy-grammar-errors/metrics.csv',index=False)"
   ]
  },
  {
   "cell_type": "code",
   "execution_count": 30,
   "metadata": {},
   "outputs": [],
   "source": [
    "# Saving the noisy training data for future reference if needed\n",
    "training_data.to_csv('../../data/train-noisy-grammar.csv',index=False)"
   ]
  },
  {
   "cell_type": "markdown",
   "metadata": {},
   "source": [
    "Some notes here:\n",
    "\n",
    "1. The added noise revealed overfitting in the Random Forest and Gradient Boosting Models.\n",
    "2. The ANN maintained similar performance as without the noise. \n",
    "3. I am going to submit the ANN to the competition for testing. If there is an improvement in the score, then I am on the right track.\n",
    "4. Gradient Boosting and Random Forest models seem to \"over-rely\" on grammar errors."
   ]
  }
 ],
 "metadata": {
  "kernelspec": {
   "display_name": "authentic-ai",
   "language": "python",
   "name": "python3"
  },
  "language_info": {
   "codemirror_mode": {
    "name": "ipython",
    "version": 3
   },
   "file_extension": ".py",
   "mimetype": "text/x-python",
   "name": "python",
   "nbconvert_exporter": "python",
   "pygments_lexer": "ipython3",
   "version": "3.10.0"
  }
 },
 "nbformat": 4,
 "nbformat_minor": 2
}
