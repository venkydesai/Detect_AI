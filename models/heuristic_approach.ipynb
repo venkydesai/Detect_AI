{
 "cells": [
  {
   "cell_type": "markdown",
   "metadata": {},
   "source": [
    "# Heuristics\n",
    "\n",
    "This notebook will try some heuristics to solve the problem."
   ]
  },
  {
   "cell_type": "code",
   "execution_count": 2,
   "metadata": {},
   "outputs": [],
   "source": [
    "# Importing libraries\n",
    "import pandas as pd \n",
    "import numpy as np \n",
    "from sklearn.metrics import roc_auc_score\n",
    "from tqdm import tqdm\n",
    "\n",
    "tqdm.pandas()"
   ]
  },
  {
   "cell_type": "code",
   "execution_count": 3,
   "metadata": {},
   "outputs": [],
   "source": [
    "# Getting the data\n",
    "training = pd.read_csv('../../data/train.csv')\n",
    "valid = pd.read_csv('../../data/validation.csv')"
   ]
  },
  {
   "cell_type": "markdown",
   "metadata": {},
   "source": [
    "## Grammar Errors\n",
    "\n",
    "Papers state that human evaluators are able to identify human essays by looking at the grammatical errors. In my EDA, I found that there was a big discrepancy in the grammatical errors between the student essays and LLM essays. Thus, I am going to make a simple rule: if there are at least 7 grammatical errors, the essay will be classified as a student essay and LLM otherwise."
   ]
  },
  {
   "cell_type": "code",
   "execution_count": 4,
   "metadata": {},
   "outputs": [
    {
     "name": "stderr",
     "output_type": "stream",
     "text": [
      "100%|██████████| 44733/44733 [00:00<00:00, 136769.19it/s]\n",
      "100%|██████████| 5195/5195 [00:00<00:00, 126009.34it/s]\n"
     ]
    }
   ],
   "source": [
    "def grammar_heuristic(count:int) -> int:\n",
    "    if count >= 7:\n",
    "        return 0\n",
    "    else:\n",
    "        return 1\n",
    "\n",
    "training['prediction'] = training['grammar_errors'].progress_apply(grammar_heuristic)\n",
    "valid['prediction'] = valid['grammar_errors'].progress_apply(grammar_heuristic)"
   ]
  },
  {
   "cell_type": "code",
   "execution_count": 5,
   "metadata": {},
   "outputs": [
    {
     "name": "stdout",
     "output_type": "stream",
     "text": [
      "Predictions for Grammar Counts Heuristic\n",
      "Training ROC AUC: 0.8584432769906309\n",
      "Validation ROC AUC: 0.9286537943641512\n"
     ]
    }
   ],
   "source": [
    "# Checking the scores\n",
    "print('Predictions for Grammar Counts Heuristic')\n",
    "train_score = roc_auc_score(training['LLM_written'].values,training['prediction'].values)\n",
    "valid_score = roc_auc_score(valid['LLM_written'].values,valid['prediction'].values)\n",
    "print(f'Training ROC AUC: {train_score}')\n",
    "print(f'Validation ROC AUC: {valid_score}')"
   ]
  },
  {
   "cell_type": "markdown",
   "metadata": {},
   "source": [
    "## Word Counts\n",
    "\n",
    "I found in EDA that students tend to write essays with more words than LLMs. I want to see if this heuristic is suitable"
   ]
  },
  {
   "cell_type": "code",
   "execution_count": 6,
   "metadata": {},
   "outputs": [
    {
     "name": "stderr",
     "output_type": "stream",
     "text": [
      "100%|██████████| 44733/44733 [00:00<00:00, 57401.01it/s]\n",
      "100%|██████████| 5195/5195 [00:00<00:00, 458714.75it/s]\n"
     ]
    }
   ],
   "source": [
    "def word_count_heuristic(count:int) -> int:\n",
    "    if count >= 500:\n",
    "        return 0\n",
    "    else:\n",
    "        return 1\n",
    "\n",
    "training['prediction'] = training['word_count'].progress_apply(word_count_heuristic)\n",
    "valid['prediction'] = valid['word_count'].progress_apply(word_count_heuristic)"
   ]
  },
  {
   "cell_type": "code",
   "execution_count": 7,
   "metadata": {},
   "outputs": [
    {
     "name": "stdout",
     "output_type": "stream",
     "text": [
      "Predictions for Word Counts Heuristic\n",
      "Training ROC AUC: 0.583361635243965\n",
      "Validation ROC AUC: 0.806776728661547\n"
     ]
    }
   ],
   "source": [
    "# Checking the scores\n",
    "print('Predictions for Word Counts Heuristic')\n",
    "train_score = roc_auc_score(training['LLM_written'].values,training['prediction'].values)\n",
    "valid_score = roc_auc_score(valid['LLM_written'].values,valid['prediction'].values)\n",
    "print(f'Training ROC AUC: {train_score}')\n",
    "print(f'Validation ROC AUC: {valid_score}')"
   ]
  }
 ],
 "metadata": {
  "kernelspec": {
   "display_name": "authentic-ai",
   "language": "python",
   "name": "python3"
  },
  "language_info": {
   "codemirror_mode": {
    "name": "ipython",
    "version": 3
   },
   "file_extension": ".py",
   "mimetype": "text/x-python",
   "name": "python",
   "nbconvert_exporter": "python",
   "pygments_lexer": "ipython3",
   "version": "3.10.0"
  }
 },
 "nbformat": 4,
 "nbformat_minor": 2
}
