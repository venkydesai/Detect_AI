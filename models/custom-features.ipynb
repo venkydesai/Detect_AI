{
 "cells": [
  {
   "cell_type": "markdown",
   "metadata": {},
   "source": [
    "# Custom Features\n",
    "\n",
    "This notebook will build models using the custom features I came up with"
   ]
  },
  {
   "cell_type": "code",
   "execution_count": 1,
   "metadata": {},
   "outputs": [],
   "source": [
    "# Importing libraries\n",
    "import pandas as pd\n",
    "import numpy as np \n",
    "import matplotlib.pyplot as plt \n",
    "import seaborn\n",
    "from sklearn.preprocessing import RobustScaler\n",
    "from sklearn.linear_model import LogisticRegression\n",
    "from sklearn.tree import DecisionTreeClassifier\n",
    "from sklearn.ensemble import RandomForestClassifier\n",
    "from catboost import CatBoostClassifier\n",
    "from sklearn.metrics import roc_auc_score\n",
    "import torch\n",
    "import torch.nn as nn\n",
    "from torch.utils.data import TensorDataset, DataLoader\n",
    "import tqdm\n",
    "import pickle\n",
    "\n",
    "%matplotlib inline"
   ]
  },
  {
   "cell_type": "code",
   "execution_count": 2,
   "metadata": {},
   "outputs": [],
   "source": [
    "# Getting the data\n",
    "training = pd.read_csv('../../data/train.csv')\n",
    "valid = pd.read_csv('../../data/validation.csv')"
   ]
  },
  {
   "cell_type": "code",
   "execution_count": 3,
   "metadata": {},
   "outputs": [],
   "source": [
    "# Separating data into X and y\n",
    "X_train = training.drop(['row_id','essay','LLM_written','prompt'],axis=1)\n",
    "X_valid = valid.drop(['row_id','essay','LLM_written','prompt'],axis=1)\n",
    "y_train = training['LLM_written'].values\n",
    "y_valid = valid['LLM_written'].values"
   ]
  },
  {
   "cell_type": "code",
   "execution_count": 4,
   "metadata": {},
   "outputs": [],
   "source": [
    "# Building the scalar\n",
    "numerical = ['word_count','stop_word_count','stop_word_ratio','unique_word_count','unique_word_ratio',\n",
    "             'count_question','count_exclamation','count_semi','count_colon','grammar_errors']\n",
    "scalar = RobustScaler()\n",
    "X_train[numerical] = scalar.fit_transform(X_train[numerical])\n",
    "X_valid[numerical] = scalar.fit_transform(X_valid[numerical])"
   ]
  },
  {
   "cell_type": "code",
   "execution_count": 5,
   "metadata": {},
   "outputs": [],
   "source": [
    "# Saving the scalar\n",
    "with open('../../models/custom-features/scalar.pkl','wb') as file:\n",
    "    pickle.dump(scalar,file)"
   ]
  },
  {
   "cell_type": "code",
   "execution_count": 6,
   "metadata": {},
   "outputs": [],
   "source": [
    "# Creating a dictionary for the model performances\n",
    "performances = {\n",
    "    'model':[],\n",
    "    'Train ROC AUC':[],\n",
    "    'Valid ROC AUC':[]\n",
    "}"
   ]
  },
  {
   "cell_type": "markdown",
   "metadata": {},
   "source": [
    "## Logistic Regression "
   ]
  },
  {
   "cell_type": "code",
   "execution_count": 7,
   "metadata": {},
   "outputs": [
    {
     "data": {
      "text/html": [
       "<style>#sk-container-id-1 {color: black;background-color: white;}#sk-container-id-1 pre{padding: 0;}#sk-container-id-1 div.sk-toggleable {background-color: white;}#sk-container-id-1 label.sk-toggleable__label {cursor: pointer;display: block;width: 100%;margin-bottom: 0;padding: 0.3em;box-sizing: border-box;text-align: center;}#sk-container-id-1 label.sk-toggleable__label-arrow:before {content: \"▸\";float: left;margin-right: 0.25em;color: #696969;}#sk-container-id-1 label.sk-toggleable__label-arrow:hover:before {color: black;}#sk-container-id-1 div.sk-estimator:hover label.sk-toggleable__label-arrow:before {color: black;}#sk-container-id-1 div.sk-toggleable__content {max-height: 0;max-width: 0;overflow: hidden;text-align: left;background-color: #f0f8ff;}#sk-container-id-1 div.sk-toggleable__content pre {margin: 0.2em;color: black;border-radius: 0.25em;background-color: #f0f8ff;}#sk-container-id-1 input.sk-toggleable__control:checked~div.sk-toggleable__content {max-height: 200px;max-width: 100%;overflow: auto;}#sk-container-id-1 input.sk-toggleable__control:checked~label.sk-toggleable__label-arrow:before {content: \"▾\";}#sk-container-id-1 div.sk-estimator input.sk-toggleable__control:checked~label.sk-toggleable__label {background-color: #d4ebff;}#sk-container-id-1 div.sk-label input.sk-toggleable__control:checked~label.sk-toggleable__label {background-color: #d4ebff;}#sk-container-id-1 input.sk-hidden--visually {border: 0;clip: rect(1px 1px 1px 1px);clip: rect(1px, 1px, 1px, 1px);height: 1px;margin: -1px;overflow: hidden;padding: 0;position: absolute;width: 1px;}#sk-container-id-1 div.sk-estimator {font-family: monospace;background-color: #f0f8ff;border: 1px dotted black;border-radius: 0.25em;box-sizing: border-box;margin-bottom: 0.5em;}#sk-container-id-1 div.sk-estimator:hover {background-color: #d4ebff;}#sk-container-id-1 div.sk-parallel-item::after {content: \"\";width: 100%;border-bottom: 1px solid gray;flex-grow: 1;}#sk-container-id-1 div.sk-label:hover label.sk-toggleable__label {background-color: #d4ebff;}#sk-container-id-1 div.sk-serial::before {content: \"\";position: absolute;border-left: 1px solid gray;box-sizing: border-box;top: 0;bottom: 0;left: 50%;z-index: 0;}#sk-container-id-1 div.sk-serial {display: flex;flex-direction: column;align-items: center;background-color: white;padding-right: 0.2em;padding-left: 0.2em;position: relative;}#sk-container-id-1 div.sk-item {position: relative;z-index: 1;}#sk-container-id-1 div.sk-parallel {display: flex;align-items: stretch;justify-content: center;background-color: white;position: relative;}#sk-container-id-1 div.sk-item::before, #sk-container-id-1 div.sk-parallel-item::before {content: \"\";position: absolute;border-left: 1px solid gray;box-sizing: border-box;top: 0;bottom: 0;left: 50%;z-index: -1;}#sk-container-id-1 div.sk-parallel-item {display: flex;flex-direction: column;z-index: 1;position: relative;background-color: white;}#sk-container-id-1 div.sk-parallel-item:first-child::after {align-self: flex-end;width: 50%;}#sk-container-id-1 div.sk-parallel-item:last-child::after {align-self: flex-start;width: 50%;}#sk-container-id-1 div.sk-parallel-item:only-child::after {width: 0;}#sk-container-id-1 div.sk-dashed-wrapped {border: 1px dashed gray;margin: 0 0.4em 0.5em 0.4em;box-sizing: border-box;padding-bottom: 0.4em;background-color: white;}#sk-container-id-1 div.sk-label label {font-family: monospace;font-weight: bold;display: inline-block;line-height: 1.2em;}#sk-container-id-1 div.sk-label-container {text-align: center;}#sk-container-id-1 div.sk-container {/* jupyter's `normalize.less` sets `[hidden] { display: none; }` but bootstrap.min.css set `[hidden] { display: none !important; }` so we also need the `!important` here to be able to override the default hidden behavior on the sphinx rendered scikit-learn.org. See: https://github.com/scikit-learn/scikit-learn/issues/21755 */display: inline-block !important;position: relative;}#sk-container-id-1 div.sk-text-repr-fallback {display: none;}</style><div id=\"sk-container-id-1\" class=\"sk-top-container\"><div class=\"sk-text-repr-fallback\"><pre>LogisticRegression(C=0.8, class_weight=&#x27;balanced&#x27;, max_iter=1000,\n",
       "                   random_state=42)</pre><b>In a Jupyter environment, please rerun this cell to show the HTML representation or trust the notebook. <br />On GitHub, the HTML representation is unable to render, please try loading this page with nbviewer.org.</b></div><div class=\"sk-container\" hidden><div class=\"sk-item\"><div class=\"sk-estimator sk-toggleable\"><input class=\"sk-toggleable__control sk-hidden--visually\" id=\"sk-estimator-id-1\" type=\"checkbox\" checked><label for=\"sk-estimator-id-1\" class=\"sk-toggleable__label sk-toggleable__label-arrow\">LogisticRegression</label><div class=\"sk-toggleable__content\"><pre>LogisticRegression(C=0.8, class_weight=&#x27;balanced&#x27;, max_iter=1000,\n",
       "                   random_state=42)</pre></div></div></div></div></div>"
      ],
      "text/plain": [
       "LogisticRegression(C=0.8, class_weight='balanced', max_iter=1000,\n",
       "                   random_state=42)"
      ]
     },
     "execution_count": 7,
     "metadata": {},
     "output_type": "execute_result"
    }
   ],
   "source": [
    "# Building the model\n",
    "log_reg = LogisticRegression(penalty='l2',C=0.8,class_weight='balanced',random_state=42,max_iter=1000)\n",
    "log_reg.fit(X_train,y_train)"
   ]
  },
  {
   "cell_type": "code",
   "execution_count": 8,
   "metadata": {},
   "outputs": [
    {
     "name": "stdout",
     "output_type": "stream",
     "text": [
      "Predictions for Logistic Regression\n",
      "Training ROC AUC: 0.9974600784639372\n",
      "Validation ROC AUC: 0.9317791360976686\n"
     ]
    }
   ],
   "source": [
    "# Making predictions\n",
    "print('Predictions for Logistic Regression')\n",
    "train_preds = log_reg.predict_proba(X_train)[:,1]\n",
    "valid_preds = log_reg.predict_proba(X_valid)[:,1]\n",
    "train_score = roc_auc_score(y_train,train_preds)\n",
    "valid_score = roc_auc_score(y_valid,valid_preds)\n",
    "print(f'Training ROC AUC: {train_score}')\n",
    "print(f'Validation ROC AUC: {valid_score}')"
   ]
  },
  {
   "cell_type": "code",
   "execution_count": 9,
   "metadata": {},
   "outputs": [],
   "source": [
    "# Adding the metrics\n",
    "model = 'Logistic Regression'\n",
    "performances['model'].append(model)\n",
    "performances['Train ROC AUC'].append(train_score)\n",
    "performances['Valid ROC AUC'].append(valid_score)"
   ]
  },
  {
   "cell_type": "code",
   "execution_count": 10,
   "metadata": {},
   "outputs": [],
   "source": [
    "# Saving the model\n",
    "with open('../../models/custom-features/log-reg.pkl','wb') as file:\n",
    "    pickle.dump(log_reg,file)"
   ]
  },
  {
   "cell_type": "markdown",
   "metadata": {},
   "source": [
    "## Decision Tree"
   ]
  },
  {
   "cell_type": "code",
   "execution_count": 11,
   "metadata": {},
   "outputs": [
    {
     "data": {
      "text/html": [
       "<style>#sk-container-id-2 {color: black;background-color: white;}#sk-container-id-2 pre{padding: 0;}#sk-container-id-2 div.sk-toggleable {background-color: white;}#sk-container-id-2 label.sk-toggleable__label {cursor: pointer;display: block;width: 100%;margin-bottom: 0;padding: 0.3em;box-sizing: border-box;text-align: center;}#sk-container-id-2 label.sk-toggleable__label-arrow:before {content: \"▸\";float: left;margin-right: 0.25em;color: #696969;}#sk-container-id-2 label.sk-toggleable__label-arrow:hover:before {color: black;}#sk-container-id-2 div.sk-estimator:hover label.sk-toggleable__label-arrow:before {color: black;}#sk-container-id-2 div.sk-toggleable__content {max-height: 0;max-width: 0;overflow: hidden;text-align: left;background-color: #f0f8ff;}#sk-container-id-2 div.sk-toggleable__content pre {margin: 0.2em;color: black;border-radius: 0.25em;background-color: #f0f8ff;}#sk-container-id-2 input.sk-toggleable__control:checked~div.sk-toggleable__content {max-height: 200px;max-width: 100%;overflow: auto;}#sk-container-id-2 input.sk-toggleable__control:checked~label.sk-toggleable__label-arrow:before {content: \"▾\";}#sk-container-id-2 div.sk-estimator input.sk-toggleable__control:checked~label.sk-toggleable__label {background-color: #d4ebff;}#sk-container-id-2 div.sk-label input.sk-toggleable__control:checked~label.sk-toggleable__label {background-color: #d4ebff;}#sk-container-id-2 input.sk-hidden--visually {border: 0;clip: rect(1px 1px 1px 1px);clip: rect(1px, 1px, 1px, 1px);height: 1px;margin: -1px;overflow: hidden;padding: 0;position: absolute;width: 1px;}#sk-container-id-2 div.sk-estimator {font-family: monospace;background-color: #f0f8ff;border: 1px dotted black;border-radius: 0.25em;box-sizing: border-box;margin-bottom: 0.5em;}#sk-container-id-2 div.sk-estimator:hover {background-color: #d4ebff;}#sk-container-id-2 div.sk-parallel-item::after {content: \"\";width: 100%;border-bottom: 1px solid gray;flex-grow: 1;}#sk-container-id-2 div.sk-label:hover label.sk-toggleable__label {background-color: #d4ebff;}#sk-container-id-2 div.sk-serial::before {content: \"\";position: absolute;border-left: 1px solid gray;box-sizing: border-box;top: 0;bottom: 0;left: 50%;z-index: 0;}#sk-container-id-2 div.sk-serial {display: flex;flex-direction: column;align-items: center;background-color: white;padding-right: 0.2em;padding-left: 0.2em;position: relative;}#sk-container-id-2 div.sk-item {position: relative;z-index: 1;}#sk-container-id-2 div.sk-parallel {display: flex;align-items: stretch;justify-content: center;background-color: white;position: relative;}#sk-container-id-2 div.sk-item::before, #sk-container-id-2 div.sk-parallel-item::before {content: \"\";position: absolute;border-left: 1px solid gray;box-sizing: border-box;top: 0;bottom: 0;left: 50%;z-index: -1;}#sk-container-id-2 div.sk-parallel-item {display: flex;flex-direction: column;z-index: 1;position: relative;background-color: white;}#sk-container-id-2 div.sk-parallel-item:first-child::after {align-self: flex-end;width: 50%;}#sk-container-id-2 div.sk-parallel-item:last-child::after {align-self: flex-start;width: 50%;}#sk-container-id-2 div.sk-parallel-item:only-child::after {width: 0;}#sk-container-id-2 div.sk-dashed-wrapped {border: 1px dashed gray;margin: 0 0.4em 0.5em 0.4em;box-sizing: border-box;padding-bottom: 0.4em;background-color: white;}#sk-container-id-2 div.sk-label label {font-family: monospace;font-weight: bold;display: inline-block;line-height: 1.2em;}#sk-container-id-2 div.sk-label-container {text-align: center;}#sk-container-id-2 div.sk-container {/* jupyter's `normalize.less` sets `[hidden] { display: none; }` but bootstrap.min.css set `[hidden] { display: none !important; }` so we also need the `!important` here to be able to override the default hidden behavior on the sphinx rendered scikit-learn.org. See: https://github.com/scikit-learn/scikit-learn/issues/21755 */display: inline-block !important;position: relative;}#sk-container-id-2 div.sk-text-repr-fallback {display: none;}</style><div id=\"sk-container-id-2\" class=\"sk-top-container\"><div class=\"sk-text-repr-fallback\"><pre>DecisionTreeClassifier(class_weight=&#x27;balanced&#x27;, random_state=42)</pre><b>In a Jupyter environment, please rerun this cell to show the HTML representation or trust the notebook. <br />On GitHub, the HTML representation is unable to render, please try loading this page with nbviewer.org.</b></div><div class=\"sk-container\" hidden><div class=\"sk-item\"><div class=\"sk-estimator sk-toggleable\"><input class=\"sk-toggleable__control sk-hidden--visually\" id=\"sk-estimator-id-2\" type=\"checkbox\" checked><label for=\"sk-estimator-id-2\" class=\"sk-toggleable__label sk-toggleable__label-arrow\">DecisionTreeClassifier</label><div class=\"sk-toggleable__content\"><pre>DecisionTreeClassifier(class_weight=&#x27;balanced&#x27;, random_state=42)</pre></div></div></div></div></div>"
      ],
      "text/plain": [
       "DecisionTreeClassifier(class_weight='balanced', random_state=42)"
      ]
     },
     "execution_count": 11,
     "metadata": {},
     "output_type": "execute_result"
    }
   ],
   "source": [
    "d_tree = DecisionTreeClassifier(criterion='gini',random_state=42,class_weight='balanced')\n",
    "d_tree.fit(X_train,y_train)"
   ]
  },
  {
   "cell_type": "code",
   "execution_count": 12,
   "metadata": {},
   "outputs": [
    {
     "name": "stdout",
     "output_type": "stream",
     "text": [
      "Predictions for Decision Tree\n",
      "Training ROC AUC: 1.0\n",
      "Validation ROC AUC: 0.8600532900266858\n"
     ]
    }
   ],
   "source": [
    "# Making predictions\n",
    "print('Predictions for Decision Tree')\n",
    "train_preds = d_tree.predict_proba(X_train)[:,1]\n",
    "valid_preds = d_tree.predict_proba(X_valid)[:,1]\n",
    "train_score = roc_auc_score(y_train,train_preds)\n",
    "valid_score = roc_auc_score(y_valid,valid_preds)\n",
    "print(f'Training ROC AUC: {train_score}')\n",
    "print(f'Validation ROC AUC: {valid_score}')"
   ]
  },
  {
   "cell_type": "code",
   "execution_count": 13,
   "metadata": {},
   "outputs": [],
   "source": [
    "# Adding the metrics\n",
    "model = 'Decision Tree'\n",
    "performances['model'].append(model)\n",
    "performances['Train ROC AUC'].append(train_score)\n",
    "performances['Valid ROC AUC'].append(valid_score)"
   ]
  },
  {
   "cell_type": "code",
   "execution_count": 14,
   "metadata": {},
   "outputs": [],
   "source": [
    "# Saving the model\n",
    "with open('../../models/custom-features/d-tree.pkl','wb') as file:\n",
    "    pickle.dump(d_tree,file)"
   ]
  },
  {
   "cell_type": "markdown",
   "metadata": {},
   "source": [
    "## Random Forest"
   ]
  },
  {
   "cell_type": "code",
   "execution_count": 15,
   "metadata": {},
   "outputs": [
    {
     "data": {
      "text/html": [
       "<style>#sk-container-id-3 {color: black;background-color: white;}#sk-container-id-3 pre{padding: 0;}#sk-container-id-3 div.sk-toggleable {background-color: white;}#sk-container-id-3 label.sk-toggleable__label {cursor: pointer;display: block;width: 100%;margin-bottom: 0;padding: 0.3em;box-sizing: border-box;text-align: center;}#sk-container-id-3 label.sk-toggleable__label-arrow:before {content: \"▸\";float: left;margin-right: 0.25em;color: #696969;}#sk-container-id-3 label.sk-toggleable__label-arrow:hover:before {color: black;}#sk-container-id-3 div.sk-estimator:hover label.sk-toggleable__label-arrow:before {color: black;}#sk-container-id-3 div.sk-toggleable__content {max-height: 0;max-width: 0;overflow: hidden;text-align: left;background-color: #f0f8ff;}#sk-container-id-3 div.sk-toggleable__content pre {margin: 0.2em;color: black;border-radius: 0.25em;background-color: #f0f8ff;}#sk-container-id-3 input.sk-toggleable__control:checked~div.sk-toggleable__content {max-height: 200px;max-width: 100%;overflow: auto;}#sk-container-id-3 input.sk-toggleable__control:checked~label.sk-toggleable__label-arrow:before {content: \"▾\";}#sk-container-id-3 div.sk-estimator input.sk-toggleable__control:checked~label.sk-toggleable__label {background-color: #d4ebff;}#sk-container-id-3 div.sk-label input.sk-toggleable__control:checked~label.sk-toggleable__label {background-color: #d4ebff;}#sk-container-id-3 input.sk-hidden--visually {border: 0;clip: rect(1px 1px 1px 1px);clip: rect(1px, 1px, 1px, 1px);height: 1px;margin: -1px;overflow: hidden;padding: 0;position: absolute;width: 1px;}#sk-container-id-3 div.sk-estimator {font-family: monospace;background-color: #f0f8ff;border: 1px dotted black;border-radius: 0.25em;box-sizing: border-box;margin-bottom: 0.5em;}#sk-container-id-3 div.sk-estimator:hover {background-color: #d4ebff;}#sk-container-id-3 div.sk-parallel-item::after {content: \"\";width: 100%;border-bottom: 1px solid gray;flex-grow: 1;}#sk-container-id-3 div.sk-label:hover label.sk-toggleable__label {background-color: #d4ebff;}#sk-container-id-3 div.sk-serial::before {content: \"\";position: absolute;border-left: 1px solid gray;box-sizing: border-box;top: 0;bottom: 0;left: 50%;z-index: 0;}#sk-container-id-3 div.sk-serial {display: flex;flex-direction: column;align-items: center;background-color: white;padding-right: 0.2em;padding-left: 0.2em;position: relative;}#sk-container-id-3 div.sk-item {position: relative;z-index: 1;}#sk-container-id-3 div.sk-parallel {display: flex;align-items: stretch;justify-content: center;background-color: white;position: relative;}#sk-container-id-3 div.sk-item::before, #sk-container-id-3 div.sk-parallel-item::before {content: \"\";position: absolute;border-left: 1px solid gray;box-sizing: border-box;top: 0;bottom: 0;left: 50%;z-index: -1;}#sk-container-id-3 div.sk-parallel-item {display: flex;flex-direction: column;z-index: 1;position: relative;background-color: white;}#sk-container-id-3 div.sk-parallel-item:first-child::after {align-self: flex-end;width: 50%;}#sk-container-id-3 div.sk-parallel-item:last-child::after {align-self: flex-start;width: 50%;}#sk-container-id-3 div.sk-parallel-item:only-child::after {width: 0;}#sk-container-id-3 div.sk-dashed-wrapped {border: 1px dashed gray;margin: 0 0.4em 0.5em 0.4em;box-sizing: border-box;padding-bottom: 0.4em;background-color: white;}#sk-container-id-3 div.sk-label label {font-family: monospace;font-weight: bold;display: inline-block;line-height: 1.2em;}#sk-container-id-3 div.sk-label-container {text-align: center;}#sk-container-id-3 div.sk-container {/* jupyter's `normalize.less` sets `[hidden] { display: none; }` but bootstrap.min.css set `[hidden] { display: none !important; }` so we also need the `!important` here to be able to override the default hidden behavior on the sphinx rendered scikit-learn.org. See: https://github.com/scikit-learn/scikit-learn/issues/21755 */display: inline-block !important;position: relative;}#sk-container-id-3 div.sk-text-repr-fallback {display: none;}</style><div id=\"sk-container-id-3\" class=\"sk-top-container\"><div class=\"sk-text-repr-fallback\"><pre>RandomForestClassifier(class_weight=&#x27;balanced&#x27;, n_estimators=1000,\n",
       "                       random_state=42)</pre><b>In a Jupyter environment, please rerun this cell to show the HTML representation or trust the notebook. <br />On GitHub, the HTML representation is unable to render, please try loading this page with nbviewer.org.</b></div><div class=\"sk-container\" hidden><div class=\"sk-item\"><div class=\"sk-estimator sk-toggleable\"><input class=\"sk-toggleable__control sk-hidden--visually\" id=\"sk-estimator-id-3\" type=\"checkbox\" checked><label for=\"sk-estimator-id-3\" class=\"sk-toggleable__label sk-toggleable__label-arrow\">RandomForestClassifier</label><div class=\"sk-toggleable__content\"><pre>RandomForestClassifier(class_weight=&#x27;balanced&#x27;, n_estimators=1000,\n",
       "                       random_state=42)</pre></div></div></div></div></div>"
      ],
      "text/plain": [
       "RandomForestClassifier(class_weight='balanced', n_estimators=1000,\n",
       "                       random_state=42)"
      ]
     },
     "execution_count": 15,
     "metadata": {},
     "output_type": "execute_result"
    }
   ],
   "source": [
    "forest = RandomForestClassifier(n_estimators=1000,criterion='gini',bootstrap=True,random_state=42,class_weight='balanced')\n",
    "forest.fit(X_train,y_train)"
   ]
  },
  {
   "cell_type": "code",
   "execution_count": 16,
   "metadata": {},
   "outputs": [
    {
     "name": "stdout",
     "output_type": "stream",
     "text": [
      "Predictions for Random Forest\n",
      "Training ROC AUC: 0.9999999999999999\n",
      "Validation ROC AUC: 0.9859071953777226\n"
     ]
    }
   ],
   "source": [
    "# Making predictions\n",
    "print('Predictions for Random Forest')\n",
    "train_preds = forest.predict_proba(X_train)[:,1]\n",
    "valid_preds = forest.predict_proba(X_valid)[:,1]\n",
    "train_score = roc_auc_score(y_train,train_preds)\n",
    "valid_score = roc_auc_score(y_valid,valid_preds)\n",
    "print(f'Training ROC AUC: {train_score}')\n",
    "print(f'Validation ROC AUC: {valid_score}')"
   ]
  },
  {
   "cell_type": "code",
   "execution_count": 17,
   "metadata": {},
   "outputs": [],
   "source": [
    "# Adding the metrics\n",
    "model = 'Random Forest'\n",
    "performances['model'].append(model)\n",
    "performances['Train ROC AUC'].append(train_score)\n",
    "performances['Valid ROC AUC'].append(valid_score)"
   ]
  },
  {
   "cell_type": "code",
   "execution_count": 18,
   "metadata": {},
   "outputs": [],
   "source": [
    "# Saving the model\n",
    "with open('../../models/custom-features/forest.pkl','wb') as file:\n",
    "    pickle.dump(forest,file)"
   ]
  },
  {
   "cell_type": "markdown",
   "metadata": {},
   "source": [
    "## Gradient Boosting"
   ]
  },
  {
   "cell_type": "code",
   "execution_count": 19,
   "metadata": {},
   "outputs": [],
   "source": [
    "# Creating the balanced class sample weights\n",
    "sample_weights =  X_train.shape[0] / (2.0 * np.bincount(y_train.astype(int)))"
   ]
  },
  {
   "cell_type": "code",
   "execution_count": 20,
   "metadata": {},
   "outputs": [
    {
     "name": "stdout",
     "output_type": "stream",
     "text": [
      "0:\ttest: 0.9479212\tbest: 0.9479212 (0)\ttotal: 224ms\tremaining: 3m 43s\n",
      "1:\ttest: 0.9602616\tbest: 0.9602616 (1)\ttotal: 339ms\tremaining: 2m 49s\n",
      "2:\ttest: 0.9629547\tbest: 0.9629547 (2)\ttotal: 450ms\tremaining: 2m 29s\n",
      "3:\ttest: 0.9707497\tbest: 0.9707497 (3)\ttotal: 569ms\tremaining: 2m 21s\n",
      "4:\ttest: 0.9694198\tbest: 0.9707497 (3)\ttotal: 672ms\tremaining: 2m 13s\n",
      "5:\ttest: 0.9725215\tbest: 0.9725215 (5)\ttotal: 838ms\tremaining: 2m 18s\n",
      "6:\ttest: 0.9730902\tbest: 0.9730902 (6)\ttotal: 994ms\tremaining: 2m 21s\n",
      "7:\ttest: 0.9719524\tbest: 0.9730902 (6)\ttotal: 1.11s\tremaining: 2m 17s\n",
      "8:\ttest: 0.9727295\tbest: 0.9730902 (6)\ttotal: 1.19s\tremaining: 2m 11s\n",
      "9:\ttest: 0.9724007\tbest: 0.9730902 (6)\ttotal: 1.36s\tremaining: 2m 15s\n",
      "10:\ttest: 0.9727144\tbest: 0.9730902 (6)\ttotal: 1.56s\tremaining: 2m 20s\n",
      "11:\ttest: 0.9726935\tbest: 0.9730902 (6)\ttotal: 1.69s\tremaining: 2m 18s\n",
      "12:\ttest: 0.9722915\tbest: 0.9730902 (6)\ttotal: 1.82s\tremaining: 2m 18s\n",
      "13:\ttest: 0.9735241\tbest: 0.9735241 (13)\ttotal: 1.96s\tremaining: 2m 18s\n",
      "14:\ttest: 0.9741955\tbest: 0.9741955 (14)\ttotal: 2.06s\tremaining: 2m 15s\n",
      "15:\ttest: 0.9744533\tbest: 0.9744533 (15)\ttotal: 2.17s\tremaining: 2m 13s\n",
      "16:\ttest: 0.9749031\tbest: 0.9749031 (16)\ttotal: 2.31s\tremaining: 2m 13s\n",
      "17:\ttest: 0.9749687\tbest: 0.9749687 (17)\ttotal: 2.44s\tremaining: 2m 12s\n",
      "18:\ttest: 0.9747165\tbest: 0.9749687 (17)\ttotal: 2.52s\tremaining: 2m 10s\n",
      "19:\ttest: 0.9763451\tbest: 0.9763451 (19)\ttotal: 2.71s\tremaining: 2m 12s\n",
      "20:\ttest: 0.9763810\tbest: 0.9763810 (20)\ttotal: 2.81s\tremaining: 2m 11s\n",
      "21:\ttest: 0.9756127\tbest: 0.9763810 (20)\ttotal: 2.96s\tremaining: 2m 11s\n",
      "22:\ttest: 0.9753234\tbest: 0.9763810 (20)\ttotal: 3.05s\tremaining: 2m 9s\n",
      "23:\ttest: 0.9760438\tbest: 0.9763810 (20)\ttotal: 3.15s\tremaining: 2m 8s\n",
      "24:\ttest: 0.9757543\tbest: 0.9763810 (20)\ttotal: 3.27s\tremaining: 2m 7s\n",
      "25:\ttest: 0.9764428\tbest: 0.9764428 (25)\ttotal: 3.38s\tremaining: 2m 6s\n",
      "26:\ttest: 0.9765145\tbest: 0.9765145 (26)\ttotal: 3.46s\tremaining: 2m 4s\n",
      "27:\ttest: 0.9759331\tbest: 0.9765145 (26)\ttotal: 3.56s\tremaining: 2m 3s\n",
      "28:\ttest: 0.9758657\tbest: 0.9765145 (26)\ttotal: 3.63s\tremaining: 2m 1s\n",
      "29:\ttest: 0.9763092\tbest: 0.9765145 (26)\ttotal: 3.71s\tremaining: 1m 59s\n",
      "30:\ttest: 0.9758799\tbest: 0.9765145 (26)\ttotal: 3.94s\tremaining: 2m 3s\n",
      "31:\ttest: 0.9757877\tbest: 0.9765145 (26)\ttotal: 4.01s\tremaining: 2m 1s\n",
      "32:\ttest: 0.9758679\tbest: 0.9765145 (26)\ttotal: 4.23s\tremaining: 2m 4s\n",
      "33:\ttest: 0.9760444\tbest: 0.9765145 (26)\ttotal: 4.41s\tremaining: 2m 5s\n",
      "34:\ttest: 0.9762624\tbest: 0.9765145 (26)\ttotal: 4.5s\tremaining: 2m 4s\n",
      "35:\ttest: 0.9765689\tbest: 0.9765689 (35)\ttotal: 4.6s\tremaining: 2m 3s\n",
      "36:\ttest: 0.9767420\tbest: 0.9767420 (36)\ttotal: 4.71s\tremaining: 2m 2s\n",
      "37:\ttest: 0.9767380\tbest: 0.9767420 (36)\ttotal: 4.84s\tremaining: 2m 2s\n",
      "38:\ttest: 0.9767205\tbest: 0.9767420 (36)\ttotal: 4.92s\tremaining: 2m 1s\n",
      "39:\ttest: 0.9766937\tbest: 0.9767420 (36)\ttotal: 5.01s\tremaining: 2m\n",
      "40:\ttest: 0.9775538\tbest: 0.9775538 (40)\ttotal: 5.14s\tremaining: 2m\n",
      "41:\ttest: 0.9775902\tbest: 0.9775902 (41)\ttotal: 5.24s\tremaining: 1m 59s\n",
      "42:\ttest: 0.9773220\tbest: 0.9775902 (41)\ttotal: 5.33s\tremaining: 1m 58s\n",
      "43:\ttest: 0.9773450\tbest: 0.9775902 (41)\ttotal: 5.46s\tremaining: 1m 58s\n",
      "44:\ttest: 0.9772642\tbest: 0.9775902 (41)\ttotal: 5.56s\tremaining: 1m 57s\n",
      "45:\ttest: 0.9772794\tbest: 0.9775902 (41)\ttotal: 5.64s\tremaining: 1m 56s\n",
      "46:\ttest: 0.9771787\tbest: 0.9775902 (41)\ttotal: 5.71s\tremaining: 1m 55s\n",
      "47:\ttest: 0.9776552\tbest: 0.9776552 (47)\ttotal: 5.81s\tremaining: 1m 55s\n",
      "48:\ttest: 0.9776514\tbest: 0.9776552 (47)\ttotal: 5.89s\tremaining: 1m 54s\n",
      "49:\ttest: 0.9774719\tbest: 0.9776552 (47)\ttotal: 6.02s\tremaining: 1m 54s\n",
      "50:\ttest: 0.9774471\tbest: 0.9776552 (47)\ttotal: 6.1s\tremaining: 1m 53s\n",
      "51:\ttest: 0.9781422\tbest: 0.9781422 (51)\ttotal: 6.18s\tremaining: 1m 52s\n",
      "52:\ttest: 0.9784435\tbest: 0.9784435 (52)\ttotal: 6.29s\tremaining: 1m 52s\n",
      "53:\ttest: 0.9784641\tbest: 0.9784641 (53)\ttotal: 6.4s\tremaining: 1m 52s\n",
      "54:\ttest: 0.9783682\tbest: 0.9784641 (53)\ttotal: 6.46s\tremaining: 1m 51s\n",
      "55:\ttest: 0.9783554\tbest: 0.9784641 (53)\ttotal: 6.59s\tremaining: 1m 51s\n",
      "56:\ttest: 0.9783651\tbest: 0.9784641 (53)\ttotal: 6.67s\tremaining: 1m 50s\n",
      "57:\ttest: 0.9783660\tbest: 0.9784641 (53)\ttotal: 6.74s\tremaining: 1m 49s\n",
      "58:\ttest: 0.9781716\tbest: 0.9784641 (53)\ttotal: 6.84s\tremaining: 1m 49s\n",
      "59:\ttest: 0.9781969\tbest: 0.9784641 (53)\ttotal: 6.95s\tremaining: 1m 48s\n",
      "60:\ttest: 0.9781703\tbest: 0.9784641 (53)\ttotal: 7.05s\tremaining: 1m 48s\n",
      "61:\ttest: 0.9784634\tbest: 0.9784641 (53)\ttotal: 7.16s\tremaining: 1m 48s\n",
      "62:\ttest: 0.9784107\tbest: 0.9784641 (53)\ttotal: 7.24s\tremaining: 1m 47s\n",
      "63:\ttest: 0.9784732\tbest: 0.9784732 (63)\ttotal: 7.34s\tremaining: 1m 47s\n",
      "64:\ttest: 0.9785848\tbest: 0.9785848 (64)\ttotal: 7.44s\tremaining: 1m 47s\n",
      "65:\ttest: 0.9785135\tbest: 0.9785848 (64)\ttotal: 7.57s\tremaining: 1m 47s\n",
      "66:\ttest: 0.9782035\tbest: 0.9785848 (64)\ttotal: 7.63s\tremaining: 1m 46s\n",
      "67:\ttest: 0.9783690\tbest: 0.9785848 (64)\ttotal: 7.71s\tremaining: 1m 45s\n",
      "68:\ttest: 0.9783729\tbest: 0.9785848 (64)\ttotal: 7.88s\tremaining: 1m 46s\n",
      "69:\ttest: 0.9783468\tbest: 0.9785848 (64)\ttotal: 7.96s\tremaining: 1m 45s\n",
      "70:\ttest: 0.9783084\tbest: 0.9785848 (64)\ttotal: 8.02s\tremaining: 1m 44s\n",
      "71:\ttest: 0.9784787\tbest: 0.9785848 (64)\ttotal: 8.12s\tremaining: 1m 44s\n",
      "72:\ttest: 0.9784775\tbest: 0.9785848 (64)\ttotal: 8.2s\tremaining: 1m 44s\n",
      "73:\ttest: 0.9784715\tbest: 0.9785848 (64)\ttotal: 8.27s\tremaining: 1m 43s\n",
      "74:\ttest: 0.9784160\tbest: 0.9785848 (64)\ttotal: 8.35s\tremaining: 1m 43s\n",
      "Stopped by overfitting detector  (10 iterations wait)\n",
      "\n",
      "bestTest = 0.9785848356\n",
      "bestIteration = 64\n",
      "\n",
      "Shrink model to first 65 iterations.\n"
     ]
    },
    {
     "data": {
      "text/plain": [
       "<catboost.core.CatBoostClassifier at 0x12bc31510>"
      ]
     },
     "execution_count": 20,
     "metadata": {},
     "output_type": "execute_result"
    }
   ],
   "source": [
    "catboost = CatBoostClassifier(iterations=1000,learning_rate=0.3,loss_function='Logloss',early_stopping_rounds=10,random_seed=42,eval_metric='AUC',\n",
    "                              class_weights=sample_weights)\n",
    "catboost.fit(X_train,y_train,eval_set=(X_valid,y_valid),use_best_model=True)"
   ]
  },
  {
   "cell_type": "code",
   "execution_count": 21,
   "metadata": {},
   "outputs": [
    {
     "name": "stdout",
     "output_type": "stream",
     "text": [
      "Predictions for Gradient Boosting\n",
      "Training ROC AUC: 0.9986163402368267\n",
      "Validation ROC AUC: 0.9785848356006757\n"
     ]
    }
   ],
   "source": [
    "# Making predictions\n",
    "print('Predictions for Gradient Boosting')\n",
    "train_preds = catboost.predict_proba(X_train)[:,1]\n",
    "valid_preds = catboost.predict_proba(X_valid)[:,1]\n",
    "train_score = roc_auc_score(y_train,train_preds)\n",
    "valid_score = roc_auc_score(y_valid,valid_preds)\n",
    "print(f'Training ROC AUC: {train_score}')\n",
    "print(f'Validation ROC AUC: {valid_score}')"
   ]
  },
  {
   "cell_type": "code",
   "execution_count": 22,
   "metadata": {},
   "outputs": [],
   "source": [
    "# Adding the metrics\n",
    "model = 'Gradient Boosting'\n",
    "performances['model'].append(model)\n",
    "performances['Train ROC AUC'].append(train_score)\n",
    "performances['Valid ROC AUC'].append(valid_score)"
   ]
  },
  {
   "cell_type": "code",
   "execution_count": 23,
   "metadata": {},
   "outputs": [],
   "source": [
    "catboost.save_model('../../models/custom-features/gradient-boosting')"
   ]
  },
  {
   "cell_type": "markdown",
   "metadata": {},
   "source": [
    "## Artificial Neural Network"
   ]
  },
  {
   "cell_type": "code",
   "execution_count": 24,
   "metadata": {},
   "outputs": [],
   "source": [
    "# Class for the model\n",
    "class ANN(nn.Module):\n",
    "    # Constructor\n",
    "    def __init__(self,num_features,model_layers,include_dropout,dropout_rate):\n",
    "        # Calling super constructor\n",
    "        super().__init__()\n",
    "        self.model = nn.Sequential()\n",
    "\n",
    "        # Adding the layers\n",
    "        in_features = num_features\n",
    "        for index in range(len(model_layers)):\n",
    "            model_layer = nn.Linear(in_features,model_layers[index],bias=True)\n",
    "            self.model.append(model_layer)\n",
    "            self.model.append(nn.ReLU())\n",
    "            in_features = model_layers[index]\n",
    "\n",
    "            # Adding dropout if specified\n",
    "            if include_dropout[index]:\n",
    "                self.model.append(nn.Dropout(p=dropout_rate))\n",
    "        \n",
    "        # Adding the final layer\n",
    "        self.model.append(nn.Linear(in_features,1))\n",
    "\n",
    "    # Forward class\n",
    "    def forward(self,X):\n",
    "        # Running the input through the model \n",
    "        return nn.functional.sigmoid(self.model(X))"
   ]
  },
  {
   "cell_type": "code",
   "execution_count": 38,
   "metadata": {},
   "outputs": [
    {
     "data": {
      "text/plain": [
       "ANN(\n",
       "  (model): Sequential(\n",
       "    (0): Linear(in_features=515, out_features=10, bias=True)\n",
       "    (1): ReLU()\n",
       "    (2): Dropout(p=0.2, inplace=False)\n",
       "    (3): Linear(in_features=10, out_features=20, bias=True)\n",
       "    (4): ReLU()\n",
       "    (5): Dropout(p=0.2, inplace=False)\n",
       "    (6): Linear(in_features=20, out_features=10, bias=True)\n",
       "    (7): ReLU()\n",
       "    (8): Dropout(p=0.2, inplace=False)\n",
       "    (9): Linear(in_features=10, out_features=1, bias=True)\n",
       "  )\n",
       ")"
      ]
     },
     "execution_count": 38,
     "metadata": {},
     "output_type": "execute_result"
    }
   ],
   "source": [
    "# Defining the model\n",
    "num_features = X_train.shape[1]\n",
    "layers = [10,20,10]\n",
    "include_dropout = [True] * 3\n",
    "dropout_rate = 0.2\n",
    "\n",
    "model = ANN(num_features,layers,include_dropout,dropout_rate)\n",
    "model"
   ]
  },
  {
   "cell_type": "code",
   "execution_count": 26,
   "metadata": {},
   "outputs": [],
   "source": [
    "# Putting both into Tensors and into a dataloader for iterating\n",
    "X_train_tensor = torch.from_numpy(X_train.values)\n",
    "y_train_tensor = torch.from_numpy(y_train)\n",
    "X_valid_tensor = torch.from_numpy(X_valid.values)\n",
    "y_valid_tensor = torch.from_numpy(y_valid)\n",
    "training_dataset = TensorDataset(X_train_tensor,y_train_tensor)\n",
    "valid_dataset = TensorDataset(X_valid_tensor,y_valid_tensor)\n",
    "training_loader = DataLoader(training_dataset,batch_size=32,shuffle=True)\n",
    "valid_loader = DataLoader(training_dataset,batch_size=32,shuffle=True)"
   ]
  },
  {
   "cell_type": "code",
   "execution_count": 39,
   "metadata": {},
   "outputs": [
    {
     "name": "stderr",
     "output_type": "stream",
     "text": [
      "  1%|          | 1/100 [00:16<27:53, 16.90s/it]"
     ]
    },
    {
     "name": "stdout",
     "output_type": "stream",
     "text": [
      "----------EPOCH 0 loss----------\n",
      "Train Loss: 0.17523469295597852\n",
      "Valid Loss: 0.06133931316435337\n",
      "Training ROC AUC: 0.9826113549191988\n",
      "Validation ROC AUC: 0.9968036259706403\n",
      "--------------------------------------\n",
      "\n"
     ]
    },
    {
     "name": "stderr",
     "output_type": "stream",
     "text": [
      "  2%|▏         | 2/100 [00:31<25:31, 15.63s/it]"
     ]
    },
    {
     "name": "stdout",
     "output_type": "stream",
     "text": [
      "----------EPOCH 1 loss----------\n",
      "Train Loss: 0.059304974036508085\n",
      "Valid Loss: 0.041513790785520206\n",
      "Training ROC AUC: 0.9969987761108289\n",
      "Validation ROC AUC: 0.9984761330380725\n",
      "--------------------------------------\n",
      "\n"
     ]
    },
    {
     "name": "stderr",
     "output_type": "stream",
     "text": [
      "  3%|▎         | 3/100 [00:44<23:15, 14.38s/it]"
     ]
    },
    {
     "name": "stdout",
     "output_type": "stream",
     "text": [
      "----------EPOCH 2 loss----------\n",
      "Train Loss: 0.04602861723193325\n",
      "Valid Loss: 0.040320645036253794\n",
      "Training ROC AUC: 0.9981683529996408\n",
      "Validation ROC AUC: 0.9986425082732443\n",
      "--------------------------------------\n",
      "\n"
     ]
    },
    {
     "name": "stderr",
     "output_type": "stream",
     "text": [
      "  4%|▍         | 4/100 [00:56<21:34, 13.48s/it]"
     ]
    },
    {
     "name": "stdout",
     "output_type": "stream",
     "text": [
      "----------EPOCH 3 loss----------\n",
      "Train Loss: 0.039939898742418316\n",
      "Valid Loss: 0.029006859966375878\n",
      "Training ROC AUC: 0.998557952427607\n",
      "Validation ROC AUC: 0.9992336205877913\n",
      "--------------------------------------\n",
      "\n"
     ]
    },
    {
     "name": "stderr",
     "output_type": "stream",
     "text": [
      "  5%|▌         | 5/100 [01:08<20:37, 13.02s/it]"
     ]
    },
    {
     "name": "stdout",
     "output_type": "stream",
     "text": [
      "----------EPOCH 4 loss----------\n",
      "Train Loss: 0.034670909388663344\n",
      "Valid Loss: 0.024342880057786707\n",
      "Training ROC AUC: 0.9990265375983779\n",
      "Validation ROC AUC: 0.9994127461533516\n",
      "--------------------------------------\n",
      "\n"
     ]
    },
    {
     "name": "stderr",
     "output_type": "stream",
     "text": [
      "  6%|▌         | 6/100 [01:20<19:43, 12.59s/it]"
     ]
    },
    {
     "name": "stdout",
     "output_type": "stream",
     "text": [
      "----------EPOCH 5 loss----------\n",
      "Train Loss: 0.030344368200033847\n",
      "Valid Loss: 0.024460082912298974\n",
      "Training ROC AUC: 0.9991516392138782\n",
      "Validation ROC AUC: 0.999488672551192\n",
      "--------------------------------------\n",
      "\n",
      "----------EPOCH 6 loss----------\n",
      "Train Loss: 0.02571788602907585\n",
      "Valid Loss: 0.018867333283332104\n",
      "Training ROC AUC: 0.9993121678928776\n"
     ]
    },
    {
     "name": "stderr",
     "output_type": "stream",
     "text": [
      "  7%|▋         | 7/100 [01:33<19:36, 12.65s/it]"
     ]
    },
    {
     "name": "stdout",
     "output_type": "stream",
     "text": [
      "Validation ROC AUC: 0.999626578491874\n",
      "--------------------------------------\n",
      "\n"
     ]
    },
    {
     "name": "stderr",
     "output_type": "stream",
     "text": [
      "  8%|▊         | 8/100 [01:42<17:48, 11.61s/it]"
     ]
    },
    {
     "name": "stdout",
     "output_type": "stream",
     "text": [
      "----------EPOCH 7 loss----------\n",
      "Train Loss: 0.02486624473993637\n",
      "Valid Loss: 0.0173577059081247\n",
      "Training ROC AUC: 0.9994462391233699\n",
      "Validation ROC AUC: 0.9996154264073545\n",
      "--------------------------------------\n",
      "\n"
     ]
    },
    {
     "name": "stderr",
     "output_type": "stream",
     "text": [
      "  9%|▉         | 9/100 [01:51<16:11, 10.68s/it]"
     ]
    },
    {
     "name": "stdout",
     "output_type": "stream",
     "text": [
      "----------EPOCH 8 loss----------\n",
      "Train Loss: 0.019279808228412198\n",
      "Valid Loss: 0.01546343307604788\n",
      "Training ROC AUC: 0.9995975627700806\n",
      "Validation ROC AUC: 0.9997058234096844\n",
      "--------------------------------------\n",
      "\n"
     ]
    },
    {
     "name": "stderr",
     "output_type": "stream",
     "text": [
      " 10%|█         | 10/100 [01:58<14:30,  9.67s/it]"
     ]
    },
    {
     "name": "stdout",
     "output_type": "stream",
     "text": [
      "----------EPOCH 9 loss----------\n",
      "Train Loss: 0.020548446414863163\n",
      "Valid Loss: 0.014747764018905898\n",
      "Training ROC AUC: 0.9995095393788451\n",
      "Validation ROC AUC: 0.9997438778598045\n",
      "--------------------------------------\n",
      "\n"
     ]
    },
    {
     "name": "stderr",
     "output_type": "stream",
     "text": [
      " 11%|█         | 11/100 [02:08<14:31,  9.79s/it]"
     ]
    },
    {
     "name": "stdout",
     "output_type": "stream",
     "text": [
      "----------EPOCH 10 loss----------\n",
      "Train Loss: 0.01791842827779602\n",
      "Valid Loss: 0.011927022879685169\n",
      "Training ROC AUC: 0.9995669714802311\n",
      "Validation ROC AUC: 0.9998210644961106\n",
      "--------------------------------------\n",
      "\n"
     ]
    },
    {
     "name": "stderr",
     "output_type": "stream",
     "text": [
      " 12%|█▏        | 12/100 [02:18<14:15,  9.72s/it]"
     ]
    },
    {
     "name": "stdout",
     "output_type": "stream",
     "text": [
      "----------EPOCH 11 loss----------\n",
      "Train Loss: 0.021226174344130638\n",
      "Valid Loss: 0.012851987957520098\n",
      "Training ROC AUC: 0.9996523124101567\n",
      "Validation ROC AUC: 0.9998124685250854\n",
      "--------------------------------------\n",
      "\n"
     ]
    },
    {
     "name": "stderr",
     "output_type": "stream",
     "text": [
      " 13%|█▎        | 13/100 [02:27<14:01,  9.67s/it]"
     ]
    },
    {
     "name": "stdout",
     "output_type": "stream",
     "text": [
      "----------EPOCH 12 loss----------\n",
      "Train Loss: 0.015273139873068414\n",
      "Valid Loss: 0.016638685549545482\n",
      "Training ROC AUC: 0.9997384492233291\n",
      "Validation ROC AUC: 0.99957188824607\n",
      "--------------------------------------\n",
      "\n"
     ]
    },
    {
     "name": "stderr",
     "output_type": "stream",
     "text": [
      " 14%|█▍        | 14/100 [02:37<13:45,  9.60s/it]"
     ]
    },
    {
     "name": "stdout",
     "output_type": "stream",
     "text": [
      "----------EPOCH 13 loss----------\n",
      "Train Loss: 0.013713585459762997\n",
      "Valid Loss: 0.009418375950474537\n",
      "Training ROC AUC: 0.9997518377721697\n",
      "Validation ROC AUC: 0.999870129564393\n",
      "--------------------------------------\n",
      "\n"
     ]
    },
    {
     "name": "stderr",
     "output_type": "stream",
     "text": [
      " 15%|█▌        | 15/100 [02:46<13:13,  9.34s/it]"
     ]
    },
    {
     "name": "stdout",
     "output_type": "stream",
     "text": [
      "----------EPOCH 14 loss----------\n",
      "Train Loss: 0.012751208005137628\n",
      "Valid Loss: 0.008430808173202402\n",
      "Training ROC AUC: 0.999811698559339\n",
      "Validation ROC AUC: 0.999898558902736\n",
      "--------------------------------------\n",
      "\n"
     ]
    },
    {
     "name": "stderr",
     "output_type": "stream",
     "text": [
      " 16%|█▌        | 16/100 [02:54<12:41,  9.07s/it]"
     ]
    },
    {
     "name": "stdout",
     "output_type": "stream",
     "text": [
      "----------EPOCH 15 loss----------\n",
      "Train Loss: 0.011673642979542868\n",
      "Valid Loss: 0.007618624810026159\n",
      "Training ROC AUC: 0.9998124048112297\n",
      "Validation ROC AUC: 0.9999065868485402\n",
      "--------------------------------------\n",
      "\n"
     ]
    },
    {
     "name": "stderr",
     "output_type": "stream",
     "text": [
      " 17%|█▋        | 17/100 [03:03<12:39,  9.15s/it]"
     ]
    },
    {
     "name": "stdout",
     "output_type": "stream",
     "text": [
      "----------EPOCH 16 loss----------\n",
      "Train Loss: 0.013054468734680956\n",
      "Valid Loss: 0.009123503961473295\n",
      "Training ROC AUC: 0.9998388212236944\n",
      "Validation ROC AUC: 0.9998888268812687\n",
      "--------------------------------------\n",
      "\n"
     ]
    },
    {
     "name": "stderr",
     "output_type": "stream",
     "text": [
      " 18%|█▊        | 18/100 [03:13<12:48,  9.38s/it]"
     ]
    },
    {
     "name": "stdout",
     "output_type": "stream",
     "text": [
      "----------EPOCH 17 loss----------\n",
      "Train Loss: 0.011924254989508337\n",
      "Valid Loss: 0.01132976502940655\n",
      "Training ROC AUC: 0.9998186001737638\n",
      "Validation ROC AUC: 0.9998704708114841\n",
      "--------------------------------------\n",
      "\n"
     ]
    },
    {
     "name": "stderr",
     "output_type": "stream",
     "text": [
      " 19%|█▉        | 19/100 [03:23<12:57,  9.60s/it]"
     ]
    },
    {
     "name": "stdout",
     "output_type": "stream",
     "text": [
      "----------EPOCH 18 loss----------\n",
      "Train Loss: 0.011457608858596226\n",
      "Valid Loss: 0.006831111925397922\n",
      "Training ROC AUC: 0.9998651890408452\n",
      "Validation ROC AUC: 0.9999238079477787\n",
      "--------------------------------------\n",
      "\n"
     ]
    },
    {
     "name": "stderr",
     "output_type": "stream",
     "text": [
      " 20%|██        | 20/100 [03:32<12:33,  9.42s/it]"
     ]
    },
    {
     "name": "stdout",
     "output_type": "stream",
     "text": [
      "----------EPOCH 19 loss----------\n",
      "Train Loss: 0.009171291655462415\n",
      "Valid Loss: 0.006572139732119328\n",
      "Training ROC AUC: 0.9998872977487347\n",
      "Validation ROC AUC: 0.9999341760279058\n",
      "--------------------------------------\n",
      "\n"
     ]
    },
    {
     "name": "stderr",
     "output_type": "stream",
     "text": [
      " 21%|██        | 21/100 [03:44<13:03,  9.92s/it]"
     ]
    },
    {
     "name": "stdout",
     "output_type": "stream",
     "text": [
      "----------EPOCH 20 loss----------\n",
      "Train Loss: 0.010645820796627991\n",
      "Valid Loss: 0.008432985249276579\n",
      "Training ROC AUC: 0.9998120516852844\n",
      "Validation ROC AUC: 0.9999245206790445\n",
      "--------------------------------------\n",
      "\n"
     ]
    },
    {
     "name": "stderr",
     "output_type": "stream",
     "text": [
      " 22%|██▏       | 22/100 [03:58<14:41, 11.31s/it]"
     ]
    },
    {
     "name": "stdout",
     "output_type": "stream",
     "text": [
      "----------EPOCH 21 loss----------\n",
      "Train Loss: 0.008741160909715558\n",
      "Valid Loss: 0.007101712001271797\n",
      "Training ROC AUC: 0.9999062628797828\n",
      "Validation ROC AUC: 0.9999381900008081\n",
      "--------------------------------------\n",
      "\n"
     ]
    },
    {
     "name": "stderr",
     "output_type": "stream",
     "text": [
      " 23%|██▎       | 23/100 [04:12<15:38, 12.19s/it]"
     ]
    },
    {
     "name": "stdout",
     "output_type": "stream",
     "text": [
      "----------EPOCH 22 loss----------\n",
      "Train Loss: 0.008964991844773142\n",
      "Valid Loss: 0.006116751682916227\n",
      "Training ROC AUC: 0.9999058017642518\n",
      "Validation ROC AUC: 0.9999515958279822\n",
      "--------------------------------------\n",
      "\n"
     ]
    },
    {
     "name": "stderr",
     "output_type": "stream",
     "text": [
      " 23%|██▎       | 23/100 [04:22<14:37, 11.39s/it]"
     ]
    },
    {
     "name": "stdout",
     "output_type": "stream",
     "text": [
      "----------EPOCH 23 loss----------\n",
      "Train Loss: 0.007413232929500575\n",
      "Valid Loss: 0.009759653000686229\n",
      "Training ROC AUC: 0.9999219818438837\n",
      "Validation ROC AUC: 0.999899626919739\n",
      "--------------------------------------\n",
      "\n",
      "Found no improvement!\n"
     ]
    },
    {
     "name": "stderr",
     "output_type": "stream",
     "text": [
      "\n"
     ]
    }
   ],
   "source": [
    "# Model training\n",
    "EPOCHS = 100\n",
    "LEARNING_RATE = 0.003\n",
    "LOSS = nn.BCELoss()\n",
    "OPTIMIZER = torch.optim.Adam(model.parameters(),LEARNING_RATE)\n",
    "history = []\n",
    "early_stopping_threshold = 10\n",
    "best_roc_auc = 0\n",
    "current_count = 0\n",
    "\n",
    "for epoch in tqdm.tqdm(range(EPOCHS)):\n",
    "    train_loss = 0\n",
    "    train_preds = None\n",
    "    valid_preds = None\n",
    "    train_targets = None\n",
    "    valid_targets = None\n",
    "    for X,y in training_loader:\n",
    "        # Making predictions\n",
    "        X = X.to(torch.float32)\n",
    "        y = y.to(torch.float32)\n",
    "        pred = model(X)\n",
    "        if train_preds is None:\n",
    "            train_preds = pred.detach().numpy()\n",
    "        else:\n",
    "            train_preds = np.append(train_preds,pred.detach().numpy(),axis=0)\n",
    "        \n",
    "        # Getting the targets\n",
    "        if train_targets is None:\n",
    "            train_targets = y.numpy()\n",
    "        else:\n",
    "            train_targets = np.append(train_targets,y.detach().numpy(),axis=0)\n",
    "\n",
    "        # Getting the loss\n",
    "        loss = LOSS(pred,y.view(-1,1))\n",
    "\n",
    "        # Calculating the gradients\n",
    "        loss.backward()\n",
    "\n",
    "        # Taking a step with the optimizer\n",
    "        OPTIMIZER.step()\n",
    "\n",
    "        # Clear the gradients\n",
    "        OPTIMIZER.zero_grad()\n",
    "\n",
    "        # Adding the loss\n",
    "        train_loss += loss.item()\n",
    "    \n",
    "    # Going through a validation loop\n",
    "    model.eval()\n",
    "    val_loss = 0\n",
    "    for X,y in valid_loader:\n",
    "        # Making predictions\n",
    "        X = X.to(torch.float32)\n",
    "        y = y.to(torch.float32)\n",
    "        with torch.no_grad():\n",
    "            pred = model(X)\n",
    "            loss = LOSS(pred,y.view(-1,1))\n",
    "\n",
    "        val_loss += loss.item()\n",
    "        if valid_preds is None:\n",
    "            valid_preds = pred.detach().numpy()\n",
    "        else:\n",
    "            valid_preds = np.append(valid_preds,pred.detach().numpy(),axis=0)\n",
    "        \n",
    "        # Getting the targets\n",
    "        if valid_targets is None:\n",
    "            valid_targets = y.numpy()\n",
    "        else:\n",
    "            valid_targets = np.append(valid_targets,y.detach().numpy(),axis=0)\n",
    "    \n",
    "    # Early Stopping\n",
    "    if roc_auc_score(valid_targets,valid_preds) - best_roc_auc > 1e-4:\n",
    "        best_roc_auc = roc_auc_score(valid_targets,valid_preds)\n",
    "        count = 0\n",
    "\n",
    "        # Saving the best model\n",
    "        torch.save(model.state_dict(),'../../models/custom-features/ann.pt')\n",
    "    else:\n",
    "        count += 1\n",
    "\n",
    "    # Appending the average example loss to the history\n",
    "    print(f'----------EPOCH {epoch} loss----------')\n",
    "    print(f'Train Loss: {train_loss / len(training_loader)}')\n",
    "    print(f'Valid Loss: {val_loss / len(valid_loader)}')\n",
    "    print(f'Training ROC AUC: {roc_auc_score(train_targets,train_preds)}')\n",
    "    print(f'Validation ROC AUC: {roc_auc_score(valid_targets,valid_preds)}')\n",
    "    history.append([train_loss / len(training_loader),val_loss / len(valid_loader),roc_auc_score(train_targets,train_preds),roc_auc_score(valid_targets,valid_preds)])\n",
    "    print('--------------------------------------')\n",
    "    print()\n",
    "\n",
    "    # Stopping the loop \n",
    "    if count == 10:\n",
    "        print('Found no improvement!')\n",
    "        break"
   ]
  },
  {
   "cell_type": "code",
   "execution_count": 40,
   "metadata": {},
   "outputs": [],
   "source": [
    "# Putting history into a dataframe\n",
    "history_df = pd.DataFrame(history,columns=['Training Loss','Validation Loss','Training ROC AUC','Validation ROC AUC'])"
   ]
  },
  {
   "cell_type": "code",
   "execution_count": 44,
   "metadata": {},
   "outputs": [
    {
     "data": {
      "image/png": "[encoded data removed]",
      "text/plain": [
       "<Figure size 640x480 with 1 Axes>"
      ]
     },
     "metadata": {},
     "output_type": "display_data"
    }
   ],
   "source": [
    "# Plotting the loss\n",
    "history_df[['Training Loss','Validation Loss']].plot(title='Loss vs. Epochs',xlabel='Epochs',ylabel='Loss')\n",
    "plt.show()"
   ]
  },
  {
   "cell_type": "code",
   "execution_count": 45,
   "metadata": {},
   "outputs": [
    {
     "data": {
      "image/png": "[encoded data removed]",
      "text/plain": [
       "<Figure size 640x480 with 1 Axes>"
      ]
     },
     "metadata": {},
     "output_type": "display_data"
    }
   ],
   "source": [
    "# Plotting the ROC AUC\n",
    "history_df[['Training ROC AUC','Validation ROC AUC']].plot(title='ROC AUC vs. Epochs',xlabel='Epochs',ylabel='ROC AUC')\n",
    "plt.show()"
   ]
  },
  {
   "cell_type": "code",
   "execution_count": 47,
   "metadata": {},
   "outputs": [],
   "source": [
    "# Loading the best model\n",
    "ann_clf = ANN(num_features,layers,include_dropout,dropout_rate)\n",
    "ann_clf = torch.load('../../models/custom-features/ann.pt')"
   ]
  },
  {
   "cell_type": "code",
   "execution_count": 48,
   "metadata": {},
   "outputs": [],
   "source": [
    "# Inference loop \n",
    "with torch.no_grad():\n",
    "    model.eval()\n",
    "    train_preds = None\n",
    "    val_preds = None\n",
    "    train_targets = None\n",
    "    val_targets = None\n",
    "    for X,y in training_loader:\n",
    "        # Making predictions\n",
    "        X = X.to(torch.float32)\n",
    "        y = y.to(torch.float32)\n",
    "        pred = model(X)\n",
    "        if train_preds is None:\n",
    "            train_preds = pred.detach().numpy()\n",
    "        else:\n",
    "            train_preds = np.append(train_preds,pred.detach().numpy(),axis=0)\n",
    "\n",
    "        # Getting the targets\n",
    "        if train_targets is None:\n",
    "            train_targets = y.numpy()\n",
    "        else:\n",
    "            train_targets = np.append(train_targets,y.detach().numpy(),axis=0)\n",
    "    for X,y in valid_loader:\n",
    "        # Making predictions\n",
    "        X = X.to(torch.float32)\n",
    "        y = y.to(torch.float32)\n",
    "        pred = model(X)\n",
    "        if valid_preds is None:\n",
    "            valid_preds = pred.detach().numpy()\n",
    "        else:\n",
    "            valid_preds = np.append(valid_preds,pred.detach().numpy(),axis=0)\n",
    "\n",
    "        # Getting the targets\n",
    "        if valid_targets is None:\n",
    "            valid_targets = y.numpy()\n",
    "        else:\n",
    "            valid_targets = np.append(valid_targets,y.detach().numpy(),axis=0)"
   ]
  },
  {
   "cell_type": "code",
   "execution_count": 49,
   "metadata": {},
   "outputs": [
    {
     "name": "stdout",
     "output_type": "stream",
     "text": [
      "Predictions for ANN\n",
      "Training ROC AUC: 0.999899626919739\n",
      "Validation ROC AUC: 0.9998996269197389\n"
     ]
    }
   ],
   "source": [
    "# Making predictions\n",
    "print('Predictions for ANN')\n",
    "train_score = roc_auc_score(train_targets,train_preds)\n",
    "valid_score = roc_auc_score(valid_targets,valid_preds)\n",
    "print(f'Training ROC AUC: {train_score}')\n",
    "print(f'Validation ROC AUC: {valid_score}')"
   ]
  },
  {
   "cell_type": "code",
   "execution_count": 50,
   "metadata": {},
   "outputs": [],
   "source": [
    "# Adding the metrics\n",
    "model = 'ANN'\n",
    "performances['model'].append(model)\n",
    "performances['Train ROC AUC'].append(train_score)\n",
    "performances['Valid ROC AUC'].append(valid_score)"
   ]
  },
  {
   "cell_type": "code",
   "execution_count": 53,
   "metadata": {},
   "outputs": [
    {
     "data": {
      "text/html": [
       "<div>\n",
       "<style scoped>\n",
       "    .dataframe tbody tr th:only-of-type {\n",
       "        vertical-align: middle;\n",
       "    }\n",
       "\n",
       "    .dataframe tbody tr th {\n",
       "        vertical-align: top;\n",
       "    }\n",
       "\n",
       "    .dataframe thead th {\n",
       "        text-align: right;\n",
       "    }\n",
       "</style>\n",
       "<table border=\"1\" class=\"dataframe\">\n",
       "  <thead>\n",
       "    <tr style=\"text-align: right;\">\n",
       "      <th></th>\n",
       "      <th>model</th>\n",
       "      <th>Train ROC AUC</th>\n",
       "      <th>Valid ROC AUC</th>\n",
       "    </tr>\n",
       "  </thead>\n",
       "  <tbody>\n",
       "    <tr>\n",
       "      <th>0</th>\n",
       "      <td>Logistic Regression</td>\n",
       "      <td>0.997460</td>\n",
       "      <td>0.931779</td>\n",
       "    </tr>\n",
       "    <tr>\n",
       "      <th>1</th>\n",
       "      <td>Decision Tree</td>\n",
       "      <td>1.000000</td>\n",
       "      <td>0.860053</td>\n",
       "    </tr>\n",
       "    <tr>\n",
       "      <th>2</th>\n",
       "      <td>Random Forest</td>\n",
       "      <td>1.000000</td>\n",
       "      <td>0.985907</td>\n",
       "    </tr>\n",
       "    <tr>\n",
       "      <th>3</th>\n",
       "      <td>Gradient Boosting</td>\n",
       "      <td>0.998616</td>\n",
       "      <td>0.978585</td>\n",
       "    </tr>\n",
       "    <tr>\n",
       "      <th>4</th>\n",
       "      <td>ANN</td>\n",
       "      <td>0.999900</td>\n",
       "      <td>0.999900</td>\n",
       "    </tr>\n",
       "  </tbody>\n",
       "</table>\n",
       "</div>"
      ],
      "text/plain": [
       "                 model  Train ROC AUC  Valid ROC AUC\n",
       "0  Logistic Regression       0.997460       0.931779\n",
       "1        Decision Tree       1.000000       0.860053\n",
       "2        Random Forest       1.000000       0.985907\n",
       "3    Gradient Boosting       0.998616       0.978585\n",
       "4                  ANN       0.999900       0.999900"
      ]
     },
     "execution_count": 53,
     "metadata": {},
     "output_type": "execute_result"
    }
   ],
   "source": [
    "# Printing out the model performances in a dataframe and saving it\n",
    "metrics_df = pd.DataFrame().from_dict(performances)\n",
    "metrics_df"
   ]
  },
  {
   "cell_type": "code",
   "execution_count": 54,
   "metadata": {},
   "outputs": [],
   "source": [
    "# Saving the performances\n",
    "metrics_df.to_csv('../../models/custom-features/metrics.csv',index=False)"
   ]
  }
 ],
 "metadata": {
  "kernelspec": {
   "display_name": "authentic-ai",
   "language": "python",
   "name": "python3"
  },
  "language_info": {
   "codemirror_mode": {
    "name": "ipython",
    "version": 3
   },
   "file_extension": ".py",
   "mimetype": "text/x-python",
   "name": "python",
   "nbconvert_exporter": "python",
   "pygments_lexer": "ipython3",
   "version": "3.10.0"
  }
 },
 "nbformat": 4,
 "nbformat_minor": 2
}
