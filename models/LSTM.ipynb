{
  "nbformat": 4,
  "nbformat_minor": 0,
  "metadata": {
    "colab": {
      "provenance": [],
      "gpuType": "T4"
    },
    "kernelspec": {
      "name": "python3",
      "display_name": "Python 3"
    },
    "language_info": {
      "name": "python"
    },
    "accelerator": "GPU"
  },
  "cells": [
    {
      "cell_type": "markdown",
      "source": [
        "# LSTM\n",
        "\n",
        "I found that the classical ML approach is good; however, the models seem to cap at a weighted average score of 0.75 on the test dataset. I am going to try utilizing deep learning approaches to better tackle the problem"
      ],
      "metadata": {
        "id": "7TngsO1MbH_q"
      }
    },
    {
      "cell_type": "code",
      "execution_count": null,
      "metadata": {
        "id": "c6WLYfOCa9Ef"
      },
      "outputs": [],
      "source": [
        "# Libraries\n",
        "import pandas as pd\n",
        "import numpy as np\n",
        "import matplotlib.pyplot as plt\n",
        "from tqdm import tqdm\n",
        "import torch\n",
        "import torch.nn as nn\n",
        "import torchtext\n",
        "from torch.utils.data import TensorDataset, DataLoader\n",
        "from sklearn.metrics import roc_auc_score\n",
        "import torchtext\n",
        "from torchtext.data.utils import get_tokenizer\n",
        "from nltk.stem import SnowballStemmer\n",
        "import re\n",
        "from collections import Counter, OrderedDict\n",
        "import tensorflow as tf\n",
        "\n",
        "tqdm.pandas()\n",
        "\n",
        "# Getting the device\n",
        "device = torch.device(\"cuda\" if torch.cuda.is_available() else \"cpu\")"
      ]
    },
    {
      "cell_type": "code",
      "source": [
        "# Getting the data\n",
        "# For Google Colab\n",
        "training_data = pd.read_csv('train.csv')[['essay','LLM_written']]\n",
        "valid_data = pd.read_csv('validation.csv')[['essay','LLM_written']]"
      ],
      "metadata": {
        "id": "TkVfuI2wbkho"
      },
      "execution_count": null,
      "outputs": []
    },
    {
      "cell_type": "markdown",
      "source": [
        "## Preprocessing\n",
        "\n",
        "1. Convert Contractions to Full Form -> I am going to convert contractions to full form so that contractions aren't treated differently.\n",
        "2. I will then tokenize the words using the Spacy Tokenizer.\n",
        "3. Stemming because lemmatization will take a long time."
      ],
      "metadata": {
        "id": "EwILJgokbqOv"
      }
    },
    {
      "cell_type": "code",
      "source": [
        "# Creating a dictionary for the contradictions\n",
        "# Dictionary is from https://stackoverflow.com/questions/19790188/expanding-english-language-contractions-in-python\n",
        "contractions = {\n",
        "\"ain't\": \"am not / are not / is not / has not / have not\",\n",
        "\"aren't\": \"are not / am not\",\n",
        "\"can't\": \"cannot\",\n",
        "\"can't've\": \"cannot have\",\n",
        "\"'cause\": \"because\",\n",
        "\"could've\": \"could have\",\n",
        "\"couldn't\": \"could not\",\n",
        "\"couldn't've\": \"could not have\",\n",
        "\"didn't\": \"did not\",\n",
        "\"doesn't\": \"does not\",\n",
        "\"don't\": \"do not\",\n",
        "\"hadn't\": \"had not\",\n",
        "\"hadn't've\": \"had not have\",\n",
        "\"hasn't\": \"has not\",\n",
        "\"haven't\": \"have not\",\n",
        "\"he'd\": \"he had / he would\",\n",
        "\"he'd've\": \"he would have\",\n",
        "\"he'll\": \"he shall / he will\",\n",
        "\"he'll've\": \"he shall have / he will have\",\n",
        "\"he's\": \"he has / he is\",\n",
        "\"how'd\": \"how did\",\n",
        "\"how'd'y\": \"how do you\",\n",
        "\"how'll\": \"how will\",\n",
        "\"how's\": \"how has / how is / how does\",\n",
        "\"I'd\": \"I had / I would\",\n",
        "\"I'd've\": \"I would have\",\n",
        "\"I'll\": \"I shall / I will\",\n",
        "\"I'll've\": \"I shall have / I will have\",\n",
        "\"I'm\": \"I am\",\n",
        "\"I've\": \"I have\",\n",
        "\"isn't\": \"is not\",\n",
        "\"it'd\": \"it had / it would\",\n",
        "\"it'd've\": \"it would have\",\n",
        "\"it'll\": \"it shall / it will\",\n",
        "\"it'll've\": \"it shall have / it will have\",\n",
        "\"it's\": \"it has / it is\",\n",
        "\"let's\": \"let us\",\n",
        "\"ma'am\": \"madam\",\n",
        "\"mayn't\": \"may not\",\n",
        "\"might've\": \"might have\",\n",
        "\"mightn't\": \"might not\",\n",
        "\"mightn't've\": \"might not have\",\n",
        "\"must've\": \"must have\",\n",
        "\"mustn't\": \"must not\",\n",
        "\"mustn't've\": \"must not have\",\n",
        "\"needn't\": \"need not\",\n",
        "\"needn't've\": \"need not have\",\n",
        "\"o'clock\": \"of the clock\",\n",
        "\"oughtn't\": \"ought not\",\n",
        "\"oughtn't've\": \"ought not have\",\n",
        "\"shan't\": \"shall not\",\n",
        "\"sha'n't\": \"shall not\",\n",
        "\"shan't've\": \"shall not have\",\n",
        "\"she'd\": \"she had / she would\",\n",
        "\"she'd've\": \"she would have\",\n",
        "\"she'll\": \"she shall / she will\",\n",
        "\"she'll've\": \"she shall have / she will have\",\n",
        "\"she's\": \"she has / she is\",\n",
        "\"should've\": \"should have\",\n",
        "\"shouldn't\": \"should not\",\n",
        "\"shouldn't've\": \"should not have\",\n",
        "\"so've\": \"so have\",\n",
        "\"so's\": \"so as / so is\",\n",
        "\"that'd\": \"that would / that had\",\n",
        "\"that'd've\": \"that would have\",\n",
        "\"that's\": \"that has / that is\",\n",
        "\"there'd\": \"there had / there would\",\n",
        "\"there'd've\": \"there would have\",\n",
        "\"there's\": \"there has / there is\",\n",
        "\"they'd\": \"they had / they would\",\n",
        "\"they'd've\": \"they would have\",\n",
        "\"they'll\": \"they shall / they will\",\n",
        "\"they'll've\": \"they shall have / they will have\",\n",
        "\"they're\": \"they are\",\n",
        "\"they've\": \"they have\",\n",
        "\"to've\": \"to have\",\n",
        "\"wasn't\": \"was not\",\n",
        "\"we'd\": \"we had / we would\",\n",
        "\"we'd've\": \"we would have\",\n",
        "\"we'll\": \"we will\",\n",
        "\"we'll've\": \"we will have\",\n",
        "\"we're\": \"we are\",\n",
        "\"we've\": \"we have\",\n",
        "\"weren't\": \"were not\",\n",
        "\"what'll\": \"what shall / what will\",\n",
        "\"what'll've\": \"what shall have / what will have\",\n",
        "\"what're\": \"what are\",\n",
        "\"what's\": \"what has / what is\",\n",
        "\"what've\": \"what have\",\n",
        "\"when's\": \"when has / when is\",\n",
        "\"when've\": \"when have\",\n",
        "\"where'd\": \"where did\",\n",
        "\"where's\": \"where has / where is\",\n",
        "\"where've\": \"where have\",\n",
        "\"who'll\": \"who shall / who will\",\n",
        "\"who'll've\": \"who shall have / who will have\",\n",
        "\"who's\": \"who has / who is\",\n",
        "\"who've\": \"who have\",\n",
        "\"why's\": \"why has / why is\",\n",
        "\"why've\": \"why have\",\n",
        "\"will've\": \"will have\",\n",
        "\"won't\": \"will not\",\n",
        "\"won't've\": \"will not have\",\n",
        "\"would've\": \"would have\",\n",
        "\"wouldn't\": \"would not\",\n",
        "\"wouldn't've\": \"would not have\",\n",
        "\"y'all\": \"you all\",\n",
        "\"y'all'd\": \"you all would\",\n",
        "\"y'all'd've\": \"you all would have\",\n",
        "\"y'all're\": \"you all are\",\n",
        "\"y'all've\": \"you all have\",\n",
        "\"you'd\": \"you had / you would\",\n",
        "\"you'd've\": \"you would have\",\n",
        "\"you'll\": \"you shall / you will\",\n",
        "\"you'll've\": \"you shall have / you will have\",\n",
        "\"you're\": \"you are\",\n",
        "\"you've\": \"you have\"\n",
        "}"
      ],
      "metadata": {
        "id": "3DSvIY-_brcJ"
      },
      "execution_count": null,
      "outputs": []
    },
    {
      "cell_type": "code",
      "source": [
        "# Getting the tokenizer\n",
        "tokenizer = get_tokenizer('spacy',language='en_core_web_sm')\n",
        "\n",
        "# Getting the stemmer\n",
        "stemmer = SnowballStemmer(language='english')"
      ],
      "metadata": {
        "id": "DetmA-0nb82v"
      },
      "execution_count": null,
      "outputs": []
    },
    {
      "cell_type": "code",
      "source": [
        "# A function for preprocessing\n",
        "def preprocess(essay:str):\n",
        "    preprocessed_essay = essay.lower()\n",
        "\n",
        "\n",
        "    # Iterating through the contractions and replacing the\n",
        "    for contraction in contractions.keys():\n",
        "        preprocessed_essay = re.sub(contraction.lower(),contractions[contraction].lower(),preprocessed_essay)\n",
        "\n",
        "    # Subbing out \\n and \\t\n",
        "    preprocessed_essay = re.sub(\"\\n\",\"\",preprocessed_essay)\n",
        "    preprocessed_essay = re.sub(\"\\t\",\"\",preprocessed_essay)\n",
        "\n",
        "    # Replacing /xa0 = non-breaking space in Latin1\n",
        "    preprocessed_essay = preprocessed_essay.replace(u'\\xa0', u' ')\n",
        "\n",
        "    final_preprocessed_essay = []\n",
        "\n",
        "    # Running through tokenizer and returning the non-whitespace tokens\n",
        "    for token in tokenizer(preprocessed_essay):\n",
        "        temp_token = token.strip(\" \")\n",
        "\n",
        "        if temp_token != \"\":\n",
        "            final_preprocessed_essay.append(stemmer.stem(token))\n",
        "\n",
        "    return final_preprocessed_essay"
      ],
      "metadata": {
        "id": "xafxqVj4cBIt"
      },
      "execution_count": null,
      "outputs": []
    },
    {
      "cell_type": "code",
      "source": [
        "# Running the training essays and validation essays through preprocessing\n",
        "train_essays = training_data['essay'].progress_apply(preprocess)"
      ],
      "metadata": {
        "colab": {
          "base_uri": "https://localhost:8080/"
        },
        "id": "5hhTdJw2cDVj",
        "outputId": "7c4e4b0e-67b7-4d2f-d8e8-86a6e3bf5bfb"
      },
      "execution_count": null,
      "outputs": [
        {
          "output_type": "stream",
          "name": "stderr",
          "text": [
            "100%|██████████| 44733/44733 [04:24<00:00, 169.06it/s]\n"
          ]
        }
      ]
    },
    {
      "cell_type": "code",
      "source": [
        "# Running the validation essays through preprocessing\n",
        "valid_essays = valid_data['essay'].progress_apply(preprocess)"
      ],
      "metadata": {
        "colab": {
          "base_uri": "https://localhost:8080/"
        },
        "id": "r_E8jKsucFcV",
        "outputId": "42093e9f-5f74-46fe-9fcf-68e2cf623053"
      },
      "execution_count": null,
      "outputs": [
        {
          "output_type": "stream",
          "name": "stderr",
          "text": [
            "100%|██████████| 5195/5195 [01:10<00:00, 74.21it/s]\n"
          ]
        }
      ]
    },
    {
      "cell_type": "code",
      "source": [
        "# Putting the unique tokens into a counter with {token:count}\n",
        "unique_tokens = Counter(token for essay in train_essays for token in set(essay))"
      ],
      "metadata": {
        "id": "6MAdhczBp39r"
      },
      "execution_count": null,
      "outputs": []
    },
    {
      "cell_type": "code",
      "source": [
        "# Putting the unique tokens into an ordered dict\n",
        "unique_tokens_dict = OrderedDict(unique_tokens.most_common()[:25000])\n",
        "\n",
        "# Checking how many tokens I have\n",
        "len(unique_tokens_dict)"
      ],
      "metadata": {
        "colab": {
          "base_uri": "https://localhost:8080/"
        },
        "id": "w5MV_GmItMkJ",
        "outputId": "b5cb17a9-191e-4475-b2d2-340351857460"
      },
      "execution_count": null,
      "outputs": [
        {
          "output_type": "execute_result",
          "data": {
            "text/plain": [
              "25000"
            ]
          },
          "metadata": {},
          "execution_count": 10
        }
      ]
    },
    {
      "cell_type": "code",
      "source": [
        "# Making the vocabulary\n",
        "vocabulary = torchtext.vocab.vocab(unique_tokens_dict,specials=['<unk>','<pad>'],special_first=True)\n",
        "\n",
        "# Setting the default index\n",
        "vocabulary.set_default_index(vocabulary['<unk>'])"
      ],
      "metadata": {
        "id": "0i5iAOS_oK82"
      },
      "execution_count": null,
      "outputs": []
    },
    {
      "cell_type": "code",
      "source": [
        "# Saving the vocabulary\n",
        "torch.save(vocabulary,'vocab.pt')"
      ],
      "metadata": {
        "id": "ciYeOeuau5jD"
      },
      "execution_count": null,
      "outputs": []
    },
    {
      "cell_type": "code",
      "source": [
        "# Function to put each essay through the vocabulary\n",
        "def put_through_vocab(essay:str) -> list:\n",
        "  return vocabulary(essay)\n",
        "\n",
        "# Indexed\n",
        "indexed_essays_train = [put_through_vocab(essay) for essay in train_essays]\n",
        "indexed_essays_valid = [put_through_vocab(essay) for essay in valid_essays]"
      ],
      "metadata": {
        "id": "AXveV8fNxc9c"
      },
      "execution_count": null,
      "outputs": []
    },
    {
      "cell_type": "code",
      "source": [
        "# Padding the essays\n",
        "train_padded = tf.keras.utils.pad_sequences(indexed_essays_train,maxlen=512,padding='post',truncating='post',value=vocabulary['<pad>'])\n",
        "valid_padded = tf.keras.utils.pad_sequences(indexed_essays_valid,maxlen=512,padding='post',truncating='post',value=vocabulary['<pad>'])"
      ],
      "metadata": {
        "id": "mB3lu05byO_u"
      },
      "execution_count": null,
      "outputs": []
    },
    {
      "cell_type": "code",
      "source": [
        "# Creating the dataloaders\n",
        "X_train_tensor = torch.from_numpy(train_padded)\n",
        "y_train_tensor = torch.from_numpy(training_data['LLM_written'].values)\n",
        "X_valid_tensor = torch.from_numpy(valid_padded)\n",
        "y_valid_tensor = torch.from_numpy(valid_data['LLM_written'].values)\n",
        "training_dataset = TensorDataset(X_train_tensor,y_train_tensor)\n",
        "valid_dataset = TensorDataset(X_valid_tensor,y_valid_tensor)\n",
        "training_loader = DataLoader(training_dataset,batch_size=32,shuffle=True)\n",
        "valid_loader = DataLoader(training_dataset,batch_size=32,shuffle=True)"
      ],
      "metadata": {
        "id": "w1JBsHflTQ_A"
      },
      "execution_count": null,
      "outputs": []
    },
    {
      "cell_type": "markdown",
      "source": [
        "## Model\n",
        "\n",
        "Data is prepared and ready to be used for training. Now, I need to build the model."
      ],
      "metadata": {
        "id": "Grmwh_cSzFrd"
      }
    },
    {
      "cell_type": "code",
      "source": [
        "# Class for the model\n",
        "class LSTM(nn.Module):\n",
        "  # Constructor\n",
        "  def __init__(self,vocab_size,embedding_dim=256,hidden_size=100,dropout=0.2,bidirect=False):\n",
        "    super().__init__()\n",
        "\n",
        "    # Creating the layers\n",
        "    self.embedding = nn.Embedding(vocab_size,embedding_dim,padding_idx=vocabulary['<pad>'])\n",
        "    self.lstm = nn.LSTM(embedding_dim,hidden_size,num_layers=2,bias=True,batch_first=True,bidirectional=bidirect)\n",
        "    if bidirect:\n",
        "      self.output = nn.Linear(hidden_size*2,1,bias=True)\n",
        "    else:\n",
        "      self.output = nn.Linear(hidden_size,1,bias=True)\n",
        "    self.dropout = nn.Dropout(dropout)\n",
        "\n",
        "  # Forward Pass\n",
        "  def forward(self,X):\n",
        "    # Running X through the embedding\n",
        "    output = self.embedding(X)\n",
        "\n",
        "    # Running the embedding through the LSTM\n",
        "    output, (_,_) = self.lstm(output)\n",
        "\n",
        "    # Running the final output through the linear classifier\n",
        "    output = self.output(self.dropout(output[:,-1,:]))\n",
        "    return nn.functional.sigmoid(output)"
      ],
      "metadata": {
        "id": "0jOAQCQyy4Zn"
      },
      "execution_count": null,
      "outputs": []
    },
    {
      "cell_type": "code",
      "source": [
        "# Setting up the model\n",
        "lstm = LSTM(len(vocabulary),embedding_dim=512,hidden_size=256,bidirect=True)\n",
        "lstm.to(device)"
      ],
      "metadata": {
        "colab": {
          "base_uri": "https://localhost:8080/"
        },
        "id": "rzyqB70ZSPks",
        "outputId": "583d1a44-df2b-4c4d-bd59-0360cbe4785c"
      },
      "execution_count": null,
      "outputs": [
        {
          "output_type": "execute_result",
          "data": {
            "text/plain": [
              "LSTM(\n",
              "  (embedding): Embedding(25002, 512, padding_idx=1)\n",
              "  (lstm): LSTM(512, 256, num_layers=2, batch_first=True, bidirectional=True)\n",
              "  (output): Linear(in_features=512, out_features=1, bias=True)\n",
              "  (dropout): Dropout(p=0.2, inplace=False)\n",
              ")"
            ]
          },
          "metadata": {},
          "execution_count": 17
        }
      ]
    },
    {
      "cell_type": "code",
      "source": [
        "# Setting up the model training parameters\n",
        "EPOCHS = 100\n",
        "LEARNING_RATE = 0.003\n",
        "LOSS = nn.BCELoss()\n",
        "OPTIMIZER = torch.optim.Adam(lstm.parameters(),LEARNING_RATE)\n",
        "history = []\n",
        "early_stopping_threshold = 10\n",
        "best_roc_auc = 0\n",
        "current_count = 0"
      ],
      "metadata": {
        "id": "ofyubZ7KUQ8D"
      },
      "execution_count": null,
      "outputs": []
    },
    {
      "cell_type": "code",
      "source": [
        "for epoch in range(EPOCHS):\n",
        "    train_loss = 0\n",
        "    train_preds = None\n",
        "    valid_preds = None\n",
        "    train_targets = None\n",
        "    valid_targets = None\n",
        "    lstm.train()\n",
        "    for X,y in training_loader:\n",
        "        # Making predictions\n",
        "        y = y.to(torch.float32)\n",
        "        # Putting the tensors on the right device\n",
        "        X = X.to(device)\n",
        "        y = y.to(device)\n",
        "\n",
        "        pred = lstm(X)\n",
        "        if train_preds is None:\n",
        "            train_preds = pred.cpu().detach().numpy()\n",
        "        else:\n",
        "            train_preds = np.append(train_preds,pred.cpu().detach().numpy(),axis=0)\n",
        "\n",
        "        # Getting the targets\n",
        "        if train_targets is None:\n",
        "            train_targets = y.cpu().numpy()\n",
        "        else:\n",
        "            train_targets = np.append(train_targets,y.cpu().detach().numpy(),axis=0)\n",
        "\n",
        "        # Getting the loss\n",
        "        loss = LOSS(pred,y.view(-1,1))\n",
        "\n",
        "        # Calculating the gradients\n",
        "        loss.backward()\n",
        "\n",
        "        # Taking a step with the optimizer\n",
        "        OPTIMIZER.step()\n",
        "\n",
        "        # Clear the gradients\n",
        "        OPTIMIZER.zero_grad()\n",
        "\n",
        "        # Adding the loss\n",
        "        train_loss += loss.item()\n",
        "\n",
        "    # Going through a validation loop\n",
        "    lstm.eval()\n",
        "    val_loss = 0\n",
        "    for X,y in valid_loader:\n",
        "        # Making predictions\n",
        "        X = X.to(device)\n",
        "        y = y.to(device)\n",
        "        y = y.to(torch.float32)\n",
        "\n",
        "        with torch.no_grad():\n",
        "            pred = lstm(X)\n",
        "            loss = LOSS(pred,y.view(-1,1))\n",
        "\n",
        "        val_loss += loss.item()\n",
        "        if valid_preds is None:\n",
        "            valid_preds = pred.cpu().detach().numpy()\n",
        "        else:\n",
        "            valid_preds = np.append(valid_preds,pred.cpu().detach().numpy(),axis=0)\n",
        "\n",
        "        # Getting the targets\n",
        "        if valid_targets is None:\n",
        "            valid_targets = y.cpu().numpy()\n",
        "        else:\n",
        "            valid_targets = np.append(valid_targets,y.cpu().detach().numpy(),axis=0)\n",
        "\n",
        "    # Early Stopping\n",
        "    if roc_auc_score(valid_targets,valid_preds) - best_roc_auc > 1e-4:\n",
        "        best_roc_auc = roc_auc_score(valid_targets,valid_preds)\n",
        "        count = 0\n",
        "\n",
        "        # Saving the best model\n",
        "        torch.save(lstm.state_dict(),'bidirect-2-layer-lstm.pt')\n",
        "    else:\n",
        "        count += 1\n",
        "\n",
        "    # Appending the average example loss to the history\n",
        "    print(f'----------EPOCH {epoch} loss----------')\n",
        "    print(f'Train Loss: {train_loss / len(training_loader)}')\n",
        "    print(f'Valid Loss: {val_loss / len(valid_loader)}')\n",
        "    print(f'Training ROC AUC: {roc_auc_score(train_targets,train_preds)}')\n",
        "    print(f'Validation ROC AUC: {roc_auc_score(valid_targets,valid_preds)}')\n",
        "    history.append([train_loss / len(training_loader),val_loss / len(valid_loader),roc_auc_score(train_targets,train_preds),roc_auc_score(valid_targets,valid_preds)])\n",
        "    print('--------------------------------------')\n",
        "    print()\n",
        "\n",
        "    # Stopping the loop\n",
        "    if count == 10:\n",
        "        print('Found no improvement!')\n",
        "        break"
      ],
      "metadata": {
        "colab": {
          "base_uri": "https://localhost:8080/"
        },
        "id": "hzHTmRS9VM9y",
        "outputId": "ecb8488a-0e1f-453a-aaa9-3fe80c679150"
      },
      "execution_count": null,
      "outputs": [
        {
          "output_type": "stream",
          "name": "stdout",
          "text": [
            "----------EPOCH 0 loss----------\n",
            "Train Loss: 0.1782407711634082\n",
            "Valid Loss: 0.031515600614933206\n",
            "Training ROC AUC: 0.9783330429493373\n",
            "Validation ROC AUC: 0.9991519891001359\n",
            "--------------------------------------\n",
            "\n",
            "----------EPOCH 1 loss----------\n",
            "Train Loss: 0.037747919981047116\n",
            "Valid Loss: 0.02185873902185976\n",
            "Training ROC AUC: 0.9986092701586481\n",
            "Validation ROC AUC: 0.9994609635033861\n",
            "--------------------------------------\n",
            "\n",
            "----------EPOCH 2 loss----------\n",
            "Train Loss: 0.02262481187011799\n",
            "Valid Loss: 0.008454969621581796\n",
            "Training ROC AUC: 0.9993491111301605\n",
            "Validation ROC AUC: 0.9999163912230298\n",
            "--------------------------------------\n",
            "\n",
            "----------EPOCH 3 loss----------\n",
            "Train Loss: 0.0210212412153052\n",
            "Valid Loss: 0.009977963845649121\n",
            "Training ROC AUC: 0.999457608266957\n",
            "Validation ROC AUC: 0.9999219678052376\n",
            "--------------------------------------\n",
            "\n",
            "----------EPOCH 4 loss----------\n",
            "Train Loss: 0.010314909042535509\n",
            "Valid Loss: 0.004191451683159871\n",
            "Training ROC AUC: 0.9998140505725165\n",
            "Validation ROC AUC: 0.999976979860007\n",
            "--------------------------------------\n",
            "\n",
            "----------EPOCH 5 loss----------\n",
            "Train Loss: 0.008612234522824993\n",
            "Valid Loss: 0.004897916882154288\n",
            "Training ROC AUC: 0.999895824606425\n",
            "Validation ROC AUC: 0.9999810154308264\n",
            "--------------------------------------\n",
            "\n",
            "----------EPOCH 6 loss----------\n",
            "Train Loss: 0.006499067062598993\n",
            "Valid Loss: 0.003008346725079337\n",
            "Training ROC AUC: 0.9999497124896068\n",
            "Validation ROC AUC: 0.9999973758530665\n",
            "--------------------------------------\n",
            "\n",
            "----------EPOCH 7 loss----------\n",
            "Train Loss: 0.006084290707638135\n",
            "Valid Loss: 0.0024138923971998485\n",
            "Training ROC AUC: 0.9999062607199913\n",
            "Validation ROC AUC: 0.9999833426063991\n",
            "--------------------------------------\n",
            "\n",
            "----------EPOCH 8 loss----------\n",
            "Train Loss: 0.005844314826594589\n",
            "Valid Loss: 0.0014362529286374725\n",
            "Training ROC AUC: 0.9999392774559364\n",
            "Validation ROC AUC: 0.999997818610368\n",
            "--------------------------------------\n",
            "\n",
            "----------EPOCH 9 loss----------\n",
            "Train Loss: 0.003694646893836339\n",
            "Valid Loss: 0.0026600642160284666\n",
            "Training ROC AUC: 0.9999761451005091\n",
            "Validation ROC AUC: 0.9999973499355659\n",
            "--------------------------------------\n",
            "\n",
            "----------EPOCH 10 loss----------\n",
            "Train Loss: 0.020568731805568733\n",
            "Valid Loss: 0.0038372722363182793\n",
            "Training ROC AUC: 0.9996777871534336\n",
            "Validation ROC AUC: 0.9999856417046795\n",
            "--------------------------------------\n",
            "\n",
            "----------EPOCH 11 loss----------\n",
            "Train Loss: 0.005327045141410793\n",
            "Valid Loss: 0.0016154480113599226\n",
            "Training ROC AUC: 0.999944954468459\n",
            "Validation ROC AUC: 0.9999979265999537\n",
            "--------------------------------------\n",
            "\n",
            "----------EPOCH 12 loss----------\n",
            "Train Loss: 0.0025763881205966887\n",
            "Valid Loss: 0.0014467933200711116\n",
            "Training ROC AUC: 0.9999885509441195\n",
            "Validation ROC AUC: 0.9999999589639574\n",
            "--------------------------------------\n",
            "\n",
            "Found no improvement!\n"
          ]
        }
      ]
    },
    {
      "cell_type": "code",
      "source": [
        "# Putting the history into a dataframe for plotting\n",
        "history_df = pd.DataFrame(history,columns=['Training Loss','Validation Loss','Training ROC AUC','Validation ROC AUC'])"
      ],
      "metadata": {
        "id": "02CDT2cbW4oE"
      },
      "execution_count": null,
      "outputs": []
    },
    {
      "cell_type": "code",
      "source": [
        "# Plotting the loss\n",
        "history_df[['Training Loss','Validation Loss']].plot(title='Loss vs. Epochs',xlabel='Epochs',ylabel='Loss')\n",
        "plt.show()"
      ],
      "metadata": {
        "colab": {
          "base_uri": "https://localhost:8080/",
          "height": 472
        },
        "id": "-VyNlNLNW-34",
        "outputId": "37fd4e5e-6627-4db0-ace4-152c14f47483"
      },
      "execution_count": null,
      "outputs": [
        {
          "output_type": "display_data",
          "data": {
            "text/plain": [
              "<Figure size 640x480 with 1 Axes>"
            ],
            "image/png": "[encoded data removed]"
          },
          "metadata": {}
        }
      ]
    },
    {
      "cell_type": "code",
      "source": [
        "# Plotting the ROC AUC\n",
        "history_df[['Training ROC AUC','Validation ROC AUC']].plot(title='ROC AUC vs. Epochs',xlabel='Epochs',ylabel='ROC AUC')\n",
        "plt.show()"
      ],
      "metadata": {
        "colab": {
          "base_uri": "https://localhost:8080/",
          "height": 472
        },
        "id": "Zt2T7k-ZXC0s",
        "outputId": "cec96313-d8f7-4f10-aa56-f05eb9db832a"
      },
      "execution_count": null,
      "outputs": [
        {
          "output_type": "display_data",
          "data": {
            "text/plain": [
              "<Figure size 640x480 with 1 Axes>"
            ],
            "image/png": "[encoded data removed]"
          },
          "metadata": {}
        }
      ]
    },
    {
      "cell_type": "code",
      "source": [
        "# Loading the best model\n",
        "best_model = LSTM(len(vocabulary),embedding_dim=512,hidden_size=256,bidirect=True)\n",
        "best_model.load_state_dict(torch.load('bidirect-2-layer-lstm.pt'))\n",
        "best_model.to(device)"
      ],
      "metadata": {
        "colab": {
          "base_uri": "https://localhost:8080/"
        },
        "id": "3RPtPRQzXFzn",
        "outputId": "9cc54049-c848-4add-9aff-e366f0944242"
      },
      "execution_count": null,
      "outputs": [
        {
          "output_type": "execute_result",
          "data": {
            "text/plain": [
              "LSTM(\n",
              "  (embedding): Embedding(25002, 512, padding_idx=1)\n",
              "  (lstm): LSTM(512, 256, num_layers=2, batch_first=True, bidirectional=True)\n",
              "  (output): Linear(in_features=512, out_features=1, bias=True)\n",
              "  (dropout): Dropout(p=0.2, inplace=False)\n",
              ")"
            ]
          },
          "metadata": {},
          "execution_count": 24
        }
      ]
    },
    {
      "cell_type": "code",
      "source": [
        "# Inference loop\n",
        "with torch.no_grad():\n",
        "    best_model.eval()\n",
        "    train_preds = None\n",
        "    val_preds = None\n",
        "    train_targets = None\n",
        "    val_targets = None\n",
        "    for X,y in training_loader:\n",
        "        # Making predictions\n",
        "        X = X.to(device)\n",
        "        pred = best_model(X)\n",
        "        if train_preds is None:\n",
        "            train_preds = pred.cpu().detach().numpy()\n",
        "        else:\n",
        "            train_preds = np.append(train_preds,pred.cpu().detach().numpy(),axis=0)\n",
        "\n",
        "        # Getting the targets\n",
        "        if train_targets is None:\n",
        "            train_targets = y.cpu().numpy()\n",
        "        else:\n",
        "            train_targets = np.append(train_targets,y.cpu().detach().numpy(),axis=0)\n",
        "    for X,y in valid_loader:\n",
        "        # Making predictions\n",
        "        X = X.to(device)\n",
        "        pred = best_model(X)\n",
        "        if valid_preds is None:\n",
        "            valid_preds = pred.cpu().detach().numpy()\n",
        "        else:\n",
        "            valid_preds = np.append(valid_preds,pred.cpu().detach().numpy(),axis=0)\n",
        "\n",
        "        # Getting the targets\n",
        "        if valid_targets is None:\n",
        "            valid_targets = y.numpy()\n",
        "        else:\n",
        "            valid_targets = np.append(valid_targets,y.detach().numpy(),axis=0)"
      ],
      "metadata": {
        "id": "ucY6ivjQXN6f"
      },
      "execution_count": null,
      "outputs": []
    },
    {
      "cell_type": "code",
      "source": [
        "# Making predictions\n",
        "print('Predictions for LSTM')\n",
        "train_score = roc_auc_score(train_targets,train_preds)\n",
        "valid_score = roc_auc_score(valid_targets,valid_preds)\n",
        "print(f'Training ROC AUC: {train_score}')\n",
        "print(f'Validation ROC AUC: {valid_score}')"
      ],
      "metadata": {
        "colab": {
          "base_uri": "https://localhost:8080/"
        },
        "id": "cBPwUKYjXXdN",
        "outputId": "93c56aa8-73e3-43ae-a63e-0ea7e4570df8"
      },
      "execution_count": null,
      "outputs": [
        {
          "output_type": "stream",
          "name": "stdout",
          "text": [
            "Predictions for LSTM\n",
            "Training ROC AUC: 0.9999163912230298\n",
            "Validation ROC AUC: 0.9999750924720221\n"
          ]
        }
      ]
    },
    {
      "cell_type": "code",
      "source": [
        "# Creating a dictionary for the model performances\n",
        "performances = {\n",
        "    'model':[],\n",
        "    'Train ROC AUC':[],\n",
        "    'Valid ROC AUC':[]\n",
        "}"
      ],
      "metadata": {
        "id": "s9CbyquAehUp"
      },
      "execution_count": null,
      "outputs": []
    },
    {
      "cell_type": "code",
      "source": [
        "# Adding the metrics\n",
        "model = 'LSTM'\n",
        "performances['model'].append(model)\n",
        "performances['Train ROC AUC'].append(train_score)\n",
        "performances['Valid ROC AUC'].append(valid_score)"
      ],
      "metadata": {
        "id": "w_lZdoGteh1J"
      },
      "execution_count": null,
      "outputs": []
    },
    {
      "cell_type": "code",
      "source": [
        "# Printing out the model performances in a dataframe and saving it\n",
        "metrics_df = pd.DataFrame().from_dict(performances)\n",
        "metrics_df"
      ],
      "metadata": {
        "colab": {
          "base_uri": "https://localhost:8080/",
          "height": 89
        },
        "id": "4IEGPb2pemvi",
        "outputId": "2b73f05d-92a3-4b97-a50e-1859d5294855"
      },
      "execution_count": null,
      "outputs": [
        {
          "output_type": "execute_result",
          "data": {
            "text/plain": [
              "  model  Train ROC AUC  Valid ROC AUC\n",
              "0  LSTM       0.999899       0.999885"
            ],
            "text/html": [
              "\n",
              "  <div id=\"df-0dba9373-1052-4bd2-bf01-3139502fc0ae\" class=\"colab-df-container\">\n",
              "    <div>\n",
              "<style scoped>\n",
              "    .dataframe tbody tr th:only-of-type {\n",
              "        vertical-align: middle;\n",
              "    }\n",
              "\n",
              "    .dataframe tbody tr th {\n",
              "        vertical-align: top;\n",
              "    }\n",
              "\n",
              "    .dataframe thead th {\n",
              "        text-align: right;\n",
              "    }\n",
              "</style>\n",
              "<table border=\"1\" class=\"dataframe\">\n",
              "  <thead>\n",
              "    <tr style=\"text-align: right;\">\n",
              "      <th></th>\n",
              "      <th>model</th>\n",
              "      <th>Train ROC AUC</th>\n",
              "      <th>Valid ROC AUC</th>\n",
              "    </tr>\n",
              "  </thead>\n",
              "  <tbody>\n",
              "    <tr>\n",
              "      <th>0</th>\n",
              "      <td>LSTM</td>\n",
              "      <td>0.999899</td>\n",
              "      <td>0.999885</td>\n",
              "    </tr>\n",
              "  </tbody>\n",
              "</table>\n",
              "</div>\n",
              "    <div class=\"colab-df-buttons\">\n",
              "\n",
              "  <div class=\"colab-df-container\">\n",
              "    <button class=\"colab-df-convert\" onclick=\"convertToInteractive('df-0dba9373-1052-4bd2-bf01-3139502fc0ae')\"\n",
              "            title=\"Convert this dataframe to an interactive table.\"\n",
              "            style=\"display:none;\">\n",
              "\n",
              "  <svg xmlns=\"http://www.w3.org/2000/svg\" height=\"24px\" viewBox=\"0 -960 960 960\">\n",
              "    <path d=\"M120-120v-720h720v720H120Zm60-500h600v-160H180v160Zm220 220h160v-160H400v160Zm0 220h160v-160H400v160ZM180-400h160v-160H180v160Zm440 0h160v-160H620v160ZM180-180h160v-160H180v160Zm440 0h160v-160H620v160Z\"/>\n",
              "  </svg>\n",
              "    </button>\n",
              "\n",
              "  <style>\n",
              "    .colab-df-container {\n",
              "      display:flex;\n",
              "      gap: 12px;\n",
              "    }\n",
              "\n",
              "    .colab-df-convert {\n",
              "      background-color: #E8F0FE;\n",
              "      border: none;\n",
              "      border-radius: 50%;\n",
              "      cursor: pointer;\n",
              "      display: none;\n",
              "      fill: #1967D2;\n",
              "      height: 32px;\n",
              "      padding: 0 0 0 0;\n",
              "      width: 32px;\n",
              "    }\n",
              "\n",
              "    .colab-df-convert:hover {\n",
              "      background-color: #E2EBFA;\n",
              "      box-shadow: 0px 1px 2px rgba(60, 64, 67, 0.3), 0px 1px 3px 1px rgba(60, 64, 67, 0.15);\n",
              "      fill: #174EA6;\n",
              "    }\n",
              "\n",
              "    .colab-df-buttons div {\n",
              "      margin-bottom: 4px;\n",
              "    }\n",
              "\n",
              "    [theme=dark] .colab-df-convert {\n",
              "      background-color: #3B4455;\n",
              "      fill: #D2E3FC;\n",
              "    }\n",
              "\n",
              "    [theme=dark] .colab-df-convert:hover {\n",
              "      background-color: #434B5C;\n",
              "      box-shadow: 0px 1px 3px 1px rgba(0, 0, 0, 0.15);\n",
              "      filter: drop-shadow(0px 1px 2px rgba(0, 0, 0, 0.3));\n",
              "      fill: #FFFFFF;\n",
              "    }\n",
              "  </style>\n",
              "\n",
              "    <script>\n",
              "      const buttonEl =\n",
              "        document.querySelector('#df-0dba9373-1052-4bd2-bf01-3139502fc0ae button.colab-df-convert');\n",
              "      buttonEl.style.display =\n",
              "        google.colab.kernel.accessAllowed ? 'block' : 'none';\n",
              "\n",
              "      async function convertToInteractive(key) {\n",
              "        const element = document.querySelector('#df-0dba9373-1052-4bd2-bf01-3139502fc0ae');\n",
              "        const dataTable =\n",
              "          await google.colab.kernel.invokeFunction('convertToInteractive',\n",
              "                                                    [key], {});\n",
              "        if (!dataTable) return;\n",
              "\n",
              "        const docLinkHtml = 'Like what you see? Visit the ' +\n",
              "          '<a target=\"_blank\" href=https://colab.research.google.com/notebooks/data_table.ipynb>data table notebook</a>'\n",
              "          + ' to learn more about interactive tables.';\n",
              "        element.innerHTML = '';\n",
              "        dataTable['output_type'] = 'display_data';\n",
              "        await google.colab.output.renderOutput(dataTable, element);\n",
              "        const docLink = document.createElement('div');\n",
              "        docLink.innerHTML = docLinkHtml;\n",
              "        element.appendChild(docLink);\n",
              "      }\n",
              "    </script>\n",
              "  </div>\n",
              "\n",
              "\n",
              "  <div id=\"id_b637d583-b357-4b5b-aa73-7528cb776abb\">\n",
              "    <style>\n",
              "      .colab-df-generate {\n",
              "        background-color: #E8F0FE;\n",
              "        border: none;\n",
              "        border-radius: 50%;\n",
              "        cursor: pointer;\n",
              "        display: none;\n",
              "        fill: #1967D2;\n",
              "        height: 32px;\n",
              "        padding: 0 0 0 0;\n",
              "        width: 32px;\n",
              "      }\n",
              "\n",
              "      .colab-df-generate:hover {\n",
              "        background-color: #E2EBFA;\n",
              "        box-shadow: 0px 1px 2px rgba(60, 64, 67, 0.3), 0px 1px 3px 1px rgba(60, 64, 67, 0.15);\n",
              "        fill: #174EA6;\n",
              "      }\n",
              "\n",
              "      [theme=dark] .colab-df-generate {\n",
              "        background-color: #3B4455;\n",
              "        fill: #D2E3FC;\n",
              "      }\n",
              "\n",
              "      [theme=dark] .colab-df-generate:hover {\n",
              "        background-color: #434B5C;\n",
              "        box-shadow: 0px 1px 3px 1px rgba(0, 0, 0, 0.15);\n",
              "        filter: drop-shadow(0px 1px 2px rgba(0, 0, 0, 0.3));\n",
              "        fill: #FFFFFF;\n",
              "      }\n",
              "    </style>\n",
              "    <button class=\"colab-df-generate\" onclick=\"generateWithVariable('metrics_df')\"\n",
              "            title=\"Generate code using this dataframe.\"\n",
              "            style=\"display:none;\">\n",
              "\n",
              "  <svg xmlns=\"http://www.w3.org/2000/svg\" height=\"24px\"viewBox=\"0 0 24 24\"\n",
              "       width=\"24px\">\n",
              "    <path d=\"M7,19H8.4L18.45,9,17,7.55,7,17.6ZM5,21V16.75L18.45,3.32a2,2,0,0,1,2.83,0l1.4,1.43a1.91,1.91,0,0,1,.58,1.4,1.91,1.91,0,0,1-.58,1.4L9.25,21ZM18.45,9,17,7.55Zm-12,3A5.31,5.31,0,0,0,4.9,8.1,5.31,5.31,0,0,0,1,6.5,5.31,5.31,0,0,0,4.9,4.9,5.31,5.31,0,0,0,6.5,1,5.31,5.31,0,0,0,8.1,4.9,5.31,5.31,0,0,0,12,6.5,5.46,5.46,0,0,0,6.5,12Z\"/>\n",
              "  </svg>\n",
              "    </button>\n",
              "    <script>\n",
              "      (() => {\n",
              "      const buttonEl =\n",
              "        document.querySelector('#id_b637d583-b357-4b5b-aa73-7528cb776abb button.colab-df-generate');\n",
              "      buttonEl.style.display =\n",
              "        google.colab.kernel.accessAllowed ? 'block' : 'none';\n",
              "\n",
              "      buttonEl.onclick = () => {\n",
              "        google.colab.notebook.generateWithVariable('metrics_df');\n",
              "      }\n",
              "      })();\n",
              "    </script>\n",
              "  </div>\n",
              "\n",
              "    </div>\n",
              "  </div>\n"
            ]
          },
          "metadata": {},
          "execution_count": 27
        }
      ]
    },
    {
      "cell_type": "code",
      "source": [
        "# Saving the performances\n",
        "metrics_df.to_csv('metrics.csv',index=False)"
      ],
      "metadata": {
        "id": "KyjPpWkCenVQ"
      },
      "execution_count": null,
      "outputs": []
    }
  ]
}