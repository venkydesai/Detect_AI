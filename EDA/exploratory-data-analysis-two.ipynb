{
 "cells": [
  {
   "cell_type": "markdown",
   "metadata": {},
   "source": [
    "# Exploratory Data Analysis 2\n",
    "\n",
    "In this first notebook, I looked at differences in the overall essays from each class. In this notebook, I dive deeper and ask questions about the physical words and the language structure of each essay."
   ]
  },
  {
   "cell_type": "code",
   "execution_count": 48,
   "metadata": {},
   "outputs": [],
   "source": [
    "import pandas as pd\n",
    "import matplotlib.pyplot as plt\n",
    "import seaborn as sns\n",
    "import sys\n",
    "import sqlalchemy\n",
    "from tqdm import tqdm\n",
    "from nltk.tokenize import RegexpTokenizer\n",
    "from nltk.corpus import stopwords\n",
    "import nltk\n",
    "from torchtext.data import get_tokenizer\n",
    "from torchtext.data.utils import ngrams_iterator\n",
    "import spacy\n",
    "from transformers import pipeline, AutoTokenizer\n",
    "from sklearn.model_selection import train_test_split\n",
    "\n",
    "# Adding the credentials\n",
    "sys.path.append('../')\n",
    "from credentials import credentials\n",
    "\n",
    "# Making pandas tqdm\n",
    "tqdm.pandas()"
   ]
  },
  {
   "cell_type": "code",
   "execution_count": 2,
   "metadata": {},
   "outputs": [
    {
     "name": "stdout",
     "output_type": "stream",
     "text": [
      "2024-01-12 02:08:30,000 INFO sqlalchemy.engine.Engine SELECT DATABASE()\n",
      "2024-01-12 02:08:30,001 INFO sqlalchemy.engine.Engine [raw sql] {}\n",
      "2024-01-12 02:08:30,004 INFO sqlalchemy.engine.Engine SELECT @@sql_mode\n",
      "2024-01-12 02:08:30,005 INFO sqlalchemy.engine.Engine [raw sql] {}\n",
      "2024-01-12 02:08:30,007 INFO sqlalchemy.engine.Engine SELECT @@lower_case_table_names\n",
      "2024-01-12 02:08:30,009 INFO sqlalchemy.engine.Engine [raw sql] {}\n"
     ]
    }
   ],
   "source": [
    "# Creating the database engine \n",
    "connector_string = f'mysql+mysqlconnector://{credentials[\"user\"]}:{credentials[\"password\"]}@{credentials[\"host\"]}/AuthenticAI'\n",
    "db_engine = sqlalchemy.create_engine(connector_string,echo=True)\n",
    "\n",
    "# Connecting to the database\n",
    "db_conn = db_engine.connect()"
   ]
  },
  {
   "cell_type": "markdown",
   "metadata": {},
   "source": [
    "## How many unique words per essay?\n",
    "\n",
    "According to papers, it seems that human text tends to have more unique words than LLM generated text. Furthermore, the ratio of unique words to total words tends to be higher. Researchers attribute this result to LLMs being more like dreams/mimickers of human text so they are very rule based and not \"conscious\". In this section, I see how many unique words each essay has, what the ratio to unique words to total words is for each essay. "
   ]
  },
  {
   "cell_type": "code",
   "execution_count": 3,
   "metadata": {},
   "outputs": [],
   "source": [
    "# Getting the tokenizer\n",
    "tokenizer = RegexpTokenizer(r'[a-zA-Z]+')"
   ]
  },
  {
   "cell_type": "code",
   "execution_count": 4,
   "metadata": {},
   "outputs": [],
   "source": [
    "# Making a function to get the unique words\n",
    "def get_unique_words(text:str) -> int:\n",
    "    # Tokenize the text\n",
    "    tokenized = set(tokenizer.tokenize(text))\n",
    "    return len(tokenized)"
   ]
  },
  {
   "cell_type": "code",
   "execution_count": 5,
   "metadata": {},
   "outputs": [
    {
     "name": "stdout",
     "output_type": "stream",
     "text": [
      "2024-01-12 02:08:33,621 INFO sqlalchemy.engine.Engine BEGIN (implicit)\n",
      "2024-01-12 02:08:33,622 INFO sqlalchemy.engine.Engine select * from essays;\n",
      "2024-01-12 02:08:33,623 INFO sqlalchemy.engine.Engine [generated in 0.00287s] {}\n"
     ]
    },
    {
     "data": {
      "text/html": [
       "<div>\n",
       "<style scoped>\n",
       "    .dataframe tbody tr th:only-of-type {\n",
       "        vertical-align: middle;\n",
       "    }\n",
       "\n",
       "    .dataframe tbody tr th {\n",
       "        vertical-align: top;\n",
       "    }\n",
       "\n",
       "    .dataframe thead th {\n",
       "        text-align: right;\n",
       "    }\n",
       "</style>\n",
       "<table border=\"1\" class=\"dataframe\">\n",
       "  <thead>\n",
       "    <tr style=\"text-align: right;\">\n",
       "      <th></th>\n",
       "      <th>row_id</th>\n",
       "      <th>prompt</th>\n",
       "      <th>essay</th>\n",
       "      <th>word_count</th>\n",
       "      <th>LLM_written</th>\n",
       "    </tr>\n",
       "  </thead>\n",
       "  <tbody>\n",
       "    <tr>\n",
       "      <th>0</th>\n",
       "      <td>1</td>\n",
       "      <td>Write a letter to your state senator in which ...</td>\n",
       "      <td>Dear State Senator,\\n\\nI'm writting to you tod...</td>\n",
       "      <td>291</td>\n",
       "      <td>1</td>\n",
       "    </tr>\n",
       "    <tr>\n",
       "      <th>1</th>\n",
       "      <td>2</td>\n",
       "      <td>Some schools require students to complete summ...</td>\n",
       "      <td>Uh, hi! So, like, summers are, like, awesome r...</td>\n",
       "      <td>311</td>\n",
       "      <td>1</td>\n",
       "    </tr>\n",
       "    <tr>\n",
       "      <th>2</th>\n",
       "      <td>3</td>\n",
       "      <td>When people ask for advice, they sometimes tal...</td>\n",
       "      <td>When peoples ask for advices, they sometimes t...</td>\n",
       "      <td>333</td>\n",
       "      <td>1</td>\n",
       "    </tr>\n",
       "    <tr>\n",
       "      <th>3</th>\n",
       "      <td>4</td>\n",
       "      <td>Many people believe that arts education is ess...</td>\n",
       "      <td>I think art edukation is super impotent for ki...</td>\n",
       "      <td>308</td>\n",
       "      <td>1</td>\n",
       "    </tr>\n",
       "    <tr>\n",
       "      <th>4</th>\n",
       "      <td>5</td>\n",
       "      <td>In recent years, there has been a push towards...</td>\n",
       "      <td>I think we should totally switch to renewable ...</td>\n",
       "      <td>307</td>\n",
       "      <td>1</td>\n",
       "    </tr>\n",
       "    <tr>\n",
       "      <th>...</th>\n",
       "      <td>...</td>\n",
       "      <td>...</td>\n",
       "      <td>...</td>\n",
       "      <td>...</td>\n",
       "      <td>...</td>\n",
       "    </tr>\n",
       "    <tr>\n",
       "      <th>49924</th>\n",
       "      <td>49925</td>\n",
       "      <td>Provide the full text for the following summar...</td>\n",
       "      <td>Selected Works of Lu Hsun Research Paper\\n\\nFi...</td>\n",
       "      <td>2631</td>\n",
       "      <td>0</td>\n",
       "    </tr>\n",
       "    <tr>\n",
       "      <th>49925</th>\n",
       "      <td>49926</td>\n",
       "      <td>Create the inputted essay that provided the fo...</td>\n",
       "      <td>Self-Understanding Role in Organizational Beha...</td>\n",
       "      <td>1061</td>\n",
       "      <td>0</td>\n",
       "    </tr>\n",
       "    <tr>\n",
       "      <th>49926</th>\n",
       "      <td>49927</td>\n",
       "      <td>Write the full essay for the following summary...</td>\n",
       "      <td>“Sequoia Gardens” by Ernest Finney Literature ...</td>\n",
       "      <td>1134</td>\n",
       "      <td>0</td>\n",
       "    </tr>\n",
       "    <tr>\n",
       "      <th>49927</th>\n",
       "      <td>49928</td>\n",
       "      <td>Convert the following summary back into the or...</td>\n",
       "      <td>Service Marketing: Food Market Essay\\n\\nTable ...</td>\n",
       "      <td>555</td>\n",
       "      <td>0</td>\n",
       "    </tr>\n",
       "    <tr>\n",
       "      <th>49928</th>\n",
       "      <td>49929</td>\n",
       "      <td>Provide a essay that could have been the input...</td>\n",
       "      <td>Sex Education in District School Curricular Es...</td>\n",
       "      <td>901</td>\n",
       "      <td>0</td>\n",
       "    </tr>\n",
       "  </tbody>\n",
       "</table>\n",
       "<p>49929 rows × 5 columns</p>\n",
       "</div>"
      ],
      "text/plain": [
       "       row_id                                             prompt  \\\n",
       "0           1  Write a letter to your state senator in which ...   \n",
       "1           2  Some schools require students to complete summ...   \n",
       "2           3  When people ask for advice, they sometimes tal...   \n",
       "3           4  Many people believe that arts education is ess...   \n",
       "4           5  In recent years, there has been a push towards...   \n",
       "...       ...                                                ...   \n",
       "49924   49925  Provide the full text for the following summar...   \n",
       "49925   49926  Create the inputted essay that provided the fo...   \n",
       "49926   49927  Write the full essay for the following summary...   \n",
       "49927   49928  Convert the following summary back into the or...   \n",
       "49928   49929  Provide a essay that could have been the input...   \n",
       "\n",
       "                                                   essay  word_count  \\\n",
       "0      Dear State Senator,\\n\\nI'm writting to you tod...         291   \n",
       "1      Uh, hi! So, like, summers are, like, awesome r...         311   \n",
       "2      When peoples ask for advices, they sometimes t...         333   \n",
       "3      I think art edukation is super impotent for ki...         308   \n",
       "4      I think we should totally switch to renewable ...         307   \n",
       "...                                                  ...         ...   \n",
       "49924  Selected Works of Lu Hsun Research Paper\\n\\nFi...        2631   \n",
       "49925  Self-Understanding Role in Organizational Beha...        1061   \n",
       "49926  “Sequoia Gardens” by Ernest Finney Literature ...        1134   \n",
       "49927  Service Marketing: Food Market Essay\\n\\nTable ...         555   \n",
       "49928  Sex Education in District School Curricular Es...         901   \n",
       "\n",
       "       LLM_written  \n",
       "0                1  \n",
       "1                1  \n",
       "2                1  \n",
       "3                1  \n",
       "4                1  \n",
       "...            ...  \n",
       "49924            0  \n",
       "49925            0  \n",
       "49926            0  \n",
       "49927            0  \n",
       "49928            0  \n",
       "\n",
       "[49929 rows x 5 columns]"
      ]
     },
     "execution_count": 5,
     "metadata": {},
     "output_type": "execute_result"
    }
   ],
   "source": [
    "# Getting the data \n",
    "data = pd.DataFrame([row for row in db_conn.execute(sqlalchemy.text('select * from essays;'))])\n",
    "data"
   ]
  },
  {
   "cell_type": "code",
   "execution_count": 6,
   "metadata": {},
   "outputs": [
    {
     "name": "stderr",
     "output_type": "stream",
     "text": [
      "  1%|          | 365/49929 [00:00<00:13, 3646.97it/s]"
     ]
    },
    {
     "name": "stderr",
     "output_type": "stream",
     "text": [
      "100%|██████████| 49929/49929 [00:20<00:00, 2461.55it/s]\n"
     ]
    }
   ],
   "source": [
    "# Applying the unique word count function\n",
    "data['unique_word_count'] = data['essay'].progress_apply(get_unique_words)"
   ]
  },
  {
   "cell_type": "code",
   "execution_count": 7,
   "metadata": {},
   "outputs": [
    {
     "data": {
      "image/png": "[encoded data removed]",
      "text/plain": [
       "<Figure size 1500x600 with 1 Axes>"
      ]
     },
     "metadata": {},
     "output_type": "display_data"
    }
   ],
   "source": [
    "# Making a bar plot\n",
    "plt.figure(figsize=(15,6))\n",
    "sns.boxplot(data,x='unique_word_count',hue='LLM_written')\n",
    "plt.title('Box Plot of Unique Word Counts for Each Class')\n",
    "plt.show()"
   ]
  },
  {
   "cell_type": "markdown",
   "metadata": {},
   "source": [
    "This box plot shows that the LLM written essays have little outliers in terms of the number of unique words whilst the student essays have a lot of outliers in terms of unique words in the essay. "
   ]
  },
  {
   "cell_type": "code",
   "execution_count": 8,
   "metadata": {},
   "outputs": [
    {
     "name": "stdout",
     "output_type": "stream",
     "text": [
      "Student Unique Words\n",
      "count    31856.000000\n",
      "mean       204.574837\n",
      "std        129.898618\n",
      "min         36.000000\n",
      "25%        136.000000\n",
      "50%        177.000000\n",
      "75%        231.000000\n",
      "max       2708.000000\n",
      "Name: unique_word_count, dtype: float64\n",
      "\n",
      "LLM Unique Words\n",
      "count    18073.000000\n",
      "mean       163.999945\n",
      "std         49.783137\n",
      "min          1.000000\n",
      "25%        129.000000\n",
      "50%        166.000000\n",
      "75%        199.000000\n",
      "max        369.000000\n",
      "Name: unique_word_count, dtype: float64\n"
     ]
    }
   ],
   "source": [
    "# Looking at the describe statistics \n",
    "print('Student Unique Words')\n",
    "print(data[data['LLM_written'] == 0]['unique_word_count'].describe())\n",
    "print()\n",
    "print('LLM Unique Words')\n",
    "print(data[data['LLM_written'] == 1]['unique_word_count'].describe())"
   ]
  },
  {
   "cell_type": "markdown",
   "metadata": {},
   "source": [
    "From the descriptive statistics, I see that the student essays tend to have a higher average number of unique words. However, this value may be skewed due to many outliers. Specifically, one essays seems to have as many as 2708 unique words. That is much higher than the the LLM essays. THe LLM essays, on the other hand, have much lower number of unique words as evidenced by the mean and standard deviation. Furthermore, the maximum number of unique words for a LLM is lower. However, is this because that student essays tend to be longer? Obviously, if an essay is longer there are more opportunities to include unique words. To close off this analysis, I will need to look at the ratio between unique words and total words for each essay."
   ]
  },
  {
   "cell_type": "code",
   "execution_count": 9,
   "metadata": {},
   "outputs": [],
   "source": [
    "data['unique_to_total'] = data['unique_word_count'] / data['word_count']"
   ]
  },
  {
   "cell_type": "code",
   "execution_count": 10,
   "metadata": {},
   "outputs": [
    {
     "data": {
      "image/png": "[encoded data removed]",
      "text/plain": [
       "<Figure size 1500x600 with 1 Axes>"
      ]
     },
     "metadata": {},
     "output_type": "display_data"
    }
   ],
   "source": [
    "# Making a bar plot\n",
    "plt.figure(figsize=(15,6))\n",
    "sns.boxplot(data,x='unique_to_total',hue='LLM_written')\n",
    "plt.title('Box Plot of Unique Word Counts to Total Words Ratio for Each Class')\n",
    "plt.show()"
   ]
  },
  {
   "cell_type": "code",
   "execution_count": 11,
   "metadata": {},
   "outputs": [
    {
     "name": "stdout",
     "output_type": "stream",
     "text": [
      "Student Unique Words to Total\n",
      "count    31856.000000\n",
      "mean         0.453038\n",
      "std          0.090548\n",
      "min          0.009246\n",
      "25%          0.391618\n",
      "50%          0.453050\n",
      "75%          0.514572\n",
      "max          0.812500\n",
      "Name: unique_to_total, dtype: float64\n",
      "\n",
      "LLM Unique Word to Total\n",
      "count    18073.000000\n",
      "mean         0.492315\n",
      "std          0.090620\n",
      "min          0.040000\n",
      "25%          0.429043\n",
      "50%          0.480962\n",
      "75%          0.548117\n",
      "max          0.862745\n",
      "Name: unique_to_total, dtype: float64\n"
     ]
    }
   ],
   "source": [
    "# Looking at the describe statistics \n",
    "print('Student Unique Words to Total')\n",
    "print(data[data['LLM_written'] == 0]['unique_to_total'].describe())\n",
    "print()\n",
    "print('LLM Unique Word to Total')\n",
    "print(data[data['LLM_written'] == 1]['unique_to_total'].describe())"
   ]
  },
  {
   "cell_type": "markdown",
   "metadata": {},
   "source": [
    "From this analysis, it seems that the first finding, student essays have more unique words than LLM essays, was flawed. The box plot shows that the LLM written essays tend to have more unique words in comparison to the total amount of words whereas a student written essay tends to have less unique words in comparison to total words. However, one flaw with this comparison is that student essays tend to be larger. Thus, for the unique word count / total word count to be high, unique word count needs to be much higher. \n",
    "\n",
    "Both experiments realize great findings but there is a great flaw in both. To mitigate this flaw, I will look at essays that are less than 400 words (the median of word count for student essays)."
   ]
  },
  {
   "cell_type": "code",
   "execution_count": 12,
   "metadata": {},
   "outputs": [
    {
     "data": {
      "text/plain": [
       "LLM_written\n",
       "0    15898\n",
       "1    12015\n",
       "Name: count, dtype: int64"
      ]
     },
     "execution_count": 12,
     "metadata": {},
     "output_type": "execute_result"
    }
   ],
   "source": [
    "smaller_word_count = data[data['word_count'] <= 400]\n",
    "smaller_word_count['LLM_written'].value_counts()"
   ]
  },
  {
   "cell_type": "code",
   "execution_count": 13,
   "metadata": {},
   "outputs": [
    {
     "data": {
      "image/png": "[encoded data removed]",
      "text/plain": [
       "<Figure size 1500x600 with 1 Axes>"
      ]
     },
     "metadata": {},
     "output_type": "display_data"
    }
   ],
   "source": [
    "# Making a box plot\n",
    "plt.figure(figsize=(15,6))\n",
    "sns.boxplot(smaller_word_count,x='unique_word_count',hue='LLM_written')\n",
    "plt.title('Box Plot of Unique Word Counts for Each Class for Essays <= 400 words')\n",
    "plt.show()"
   ]
  },
  {
   "cell_type": "code",
   "execution_count": 14,
   "metadata": {},
   "outputs": [
    {
     "data": {
      "image/png": "[encoded data removed]",
      "text/plain": [
       "<Figure size 1500x600 with 1 Axes>"
      ]
     },
     "metadata": {},
     "output_type": "display_data"
    }
   ],
   "source": [
    "# Making a bar plot\n",
    "plt.figure(figsize=(15,6))\n",
    "sns.boxplot(smaller_word_count,x='unique_to_total',hue='LLM_written')\n",
    "plt.title('Box Plot of Unique Word Counts to Total Word Counts for Each Class for Essays <= 400 words')\n",
    "plt.show()"
   ]
  },
  {
   "cell_type": "markdown",
   "metadata": {},
   "source": [
    "Analysis:\n",
    "\n",
    "If I cap the essay word at 400, I see that I am left with about 15000 student essays and 12000 LLM written essays. I chose 400 since that is the median of the word count of the student essays. If I perform the same analysis, I can see that LLM written essays tend to have more unique words and a higher unique word ratio. While the first experiment showed that student written essays tend to have more unique words. This finding can be attributed to the fact that student written essays are much longer than LLM written ones. Hence, there is more room to add words. \n",
    "\n",
    "TLDR: A high unique word count + a high unique word count / total_word_count indicates that the essay might be written by a LLM. I can utilize these 2 findings as features."
   ]
  },
  {
   "cell_type": "markdown",
   "metadata": {},
   "source": [
    "## How many stop words does per essay? Is there a difference between a LLM and a student written essay?\n",
    "\n",
    "Stop words are defined as \"filler\" words such as the, a, I. These words don't provide much context to a piece of text. In this experiment, I see if there is a difference in the number of stop words for a LLM and a student written essay. I also see the ratio of stop words to total words for each essay to determine how much of a factor total_word_count makes. "
   ]
  },
  {
   "cell_type": "code",
   "execution_count": 15,
   "metadata": {},
   "outputs": [
    {
     "name": "stdout",
     "output_type": "stream",
     "text": [
      "['i', 'me', 'my', 'myself', 'we', 'our', 'ours', 'ourselves', 'you', \"you're\", \"you've\", \"you'll\", \"you'd\", 'your', 'yours', 'yourself', 'yourselves', 'he', 'him', 'his', 'himself', 'she', \"she's\", 'her', 'hers', 'herself', 'it', \"it's\", 'its', 'itself', 'they', 'them', 'their', 'theirs', 'themselves', 'what', 'which', 'who', 'whom', 'this', 'that', \"that'll\", 'these', 'those', 'am', 'is', 'are', 'was', 'were', 'be', 'been', 'being', 'have', 'has', 'had', 'having', 'do', 'does', 'did', 'doing', 'a', 'an', 'the', 'and', 'but', 'if', 'or', 'because', 'as', 'until', 'while', 'of', 'at', 'by', 'for', 'with', 'about', 'against', 'between', 'into', 'through', 'during', 'before', 'after', 'above', 'below', 'to', 'from', 'up', 'down', 'in', 'out', 'on', 'off', 'over', 'under', 'again', 'further', 'then', 'once', 'here', 'there', 'when', 'where', 'why', 'how', 'all', 'any', 'both', 'each', 'few', 'more', 'most', 'other', 'some', 'such', 'no', 'nor', 'not', 'only', 'own', 'same', 'so', 'than', 'too', 'very', 's', 't', 'can', 'will', 'just', 'don', \"don't\", 'should', \"should've\", 'now', 'd', 'll', 'm', 'o', 're', 've', 'y', 'ain', 'aren', \"aren't\", 'couldn', \"couldn't\", 'didn', \"didn't\", 'doesn', \"doesn't\", 'hadn', \"hadn't\", 'hasn', \"hasn't\", 'haven', \"haven't\", 'isn', \"isn't\", 'ma', 'mightn', \"mightn't\", 'mustn', \"mustn't\", 'needn', \"needn't\", 'shan', \"shan't\", 'shouldn', \"shouldn't\", 'wasn', \"wasn't\", 'weren', \"weren't\", 'won', \"won't\", 'wouldn', \"wouldn't\"]\n"
     ]
    },
    {
     "name": "stderr",
     "output_type": "stream",
     "text": [
      "[nltk_data] Downloading package stopwords to\n",
      "[nltk_data]     /Users/jinalshah/nltk_data...\n",
      "[nltk_data]   Package stopwords is already up-to-date!\n"
     ]
    }
   ],
   "source": [
    "# Getting the list of stop words\n",
    "nltk.download('stopwords')\n",
    "stop_words = stopwords.words('english')\n",
    "print(stop_words)"
   ]
  },
  {
   "cell_type": "code",
   "execution_count": 16,
   "metadata": {},
   "outputs": [],
   "source": [
    "# Making a function to count the stop words for each essay\n",
    "def stop_word_count(text:str) -> int:\n",
    "    # Tokenize the text\n",
    "    tokenized = tokenizer.tokenize(text)\n",
    "    count = 0\n",
    "\n",
    "    for word in tokenized:\n",
    "        if word in stop_words:\n",
    "            count += 1\n",
    "    \n",
    "    return count"
   ]
  },
  {
   "cell_type": "code",
   "execution_count": 17,
   "metadata": {},
   "outputs": [
    {
     "name": "stderr",
     "output_type": "stream",
     "text": [
      "100%|██████████| 49929/49929 [02:02<00:00, 407.28it/s] \n"
     ]
    }
   ],
   "source": [
    "# Getting the stop word count\n",
    "data['stop_word_count'] = data['essay'].progress_apply(stop_word_count)"
   ]
  },
  {
   "cell_type": "code",
   "execution_count": 18,
   "metadata": {},
   "outputs": [
    {
     "data": {
      "image/png": "[encoded data removed]",
      "text/plain": [
       "<Figure size 1500x600 with 1 Axes>"
      ]
     },
     "metadata": {},
     "output_type": "display_data"
    }
   ],
   "source": [
    "# Making a box plot\n",
    "plt.figure(figsize=(15,6))\n",
    "sns.boxplot(data,x='stop_word_count',hue='LLM_written')\n",
    "plt.title('Box Plot of Stop Words')\n",
    "plt.show()"
   ]
  },
  {
   "cell_type": "code",
   "execution_count": 19,
   "metadata": {},
   "outputs": [
    {
     "name": "stdout",
     "output_type": "stream",
     "text": [
      "Student Stop Words\n",
      "count    31856.000000\n",
      "mean       228.544638\n",
      "std        190.343216\n",
      "min          0.000000\n",
      "25%        135.000000\n",
      "50%        191.000000\n",
      "75%        263.000000\n",
      "max       7989.000000\n",
      "Name: stop_word_count, dtype: float64\n",
      "\n",
      "Student Stop Word\n",
      "count    18073.000000\n",
      "mean       143.845128\n",
      "std         52.410970\n",
      "min          0.000000\n",
      "25%        105.000000\n",
      "50%        142.000000\n",
      "75%        178.000000\n",
      "max        360.000000\n",
      "Name: stop_word_count, dtype: float64\n"
     ]
    }
   ],
   "source": [
    "# Looking at the describe statistics \n",
    "print('Student Stop Words')\n",
    "print(data[data['LLM_written'] == 0]['stop_word_count'].describe())\n",
    "print()\n",
    "print('Student Stop Word')\n",
    "print(data[data['LLM_written'] == 1]['stop_word_count'].describe())"
   ]
  },
  {
   "cell_type": "code",
   "execution_count": 20,
   "metadata": {},
   "outputs": [],
   "source": [
    "# Stop word ratio\n",
    "data['stop_word_ratio'] = data['stop_word_count'] / data['word_count']"
   ]
  },
  {
   "cell_type": "code",
   "execution_count": 21,
   "metadata": {},
   "outputs": [
    {
     "data": {
      "image/png": "[encoded data removed]",
      "text/plain": [
       "<Figure size 1500x600 with 1 Axes>"
      ]
     },
     "metadata": {},
     "output_type": "display_data"
    }
   ],
   "source": [
    "# Making a box plot\n",
    "plt.figure(figsize=(15,6))\n",
    "sns.boxplot(data,x='stop_word_ratio',hue='LLM_written')\n",
    "plt.title('Box Plot of Stop Word Ratio')\n",
    "plt.show()"
   ]
  },
  {
   "cell_type": "markdown",
   "metadata": {},
   "source": [
    "From this boxplot, it is clear that student essays include a higher ratio of stop words/total words. However, there are a lot of outliers that fall outside the first quartile. Initially, it seems like student essays tend to include more stop words. However, there are a lot of outliers. I want to see how much word_count impacts this. Will perform the same experiment on essays <= 400 words."
   ]
  },
  {
   "cell_type": "code",
   "execution_count": 22,
   "metadata": {},
   "outputs": [
    {
     "data": {
      "text/plain": [
       "LLM_written\n",
       "0    15898\n",
       "1    12015\n",
       "Name: count, dtype: int64"
      ]
     },
     "execution_count": 22,
     "metadata": {},
     "output_type": "execute_result"
    }
   ],
   "source": [
    "smaller_word_count = data[data['word_count'] <= 400]\n",
    "smaller_word_count['LLM_written'].value_counts()"
   ]
  },
  {
   "cell_type": "code",
   "execution_count": 23,
   "metadata": {},
   "outputs": [
    {
     "data": {
      "image/png": "[encoded data removed]",
      "text/plain": [
       "<Figure size 1500x600 with 1 Axes>"
      ]
     },
     "metadata": {},
     "output_type": "display_data"
    }
   ],
   "source": [
    "# Making a box plot\n",
    "plt.figure(figsize=(15,6))\n",
    "sns.boxplot(smaller_word_count,x='stop_word_count',hue='LLM_written')\n",
    "plt.title('Box Plot of Stop Words for Essays less than 400 words')\n",
    "plt.show()"
   ]
  },
  {
   "cell_type": "code",
   "execution_count": 24,
   "metadata": {},
   "outputs": [
    {
     "data": {
      "image/png": "[encoded data removed]",
      "text/plain": [
       "<Figure size 1500x600 with 1 Axes>"
      ]
     },
     "metadata": {},
     "output_type": "display_data"
    }
   ],
   "source": [
    "# Making a box plot\n",
    "plt.figure(figsize=(15,6))\n",
    "sns.boxplot(smaller_word_count,x='stop_word_ratio',hue='LLM_written')\n",
    "plt.title('Box Plot of Stop Words/Total Words for Essays less than 400 words')\n",
    "plt.show()"
   ]
  },
  {
   "cell_type": "markdown",
   "metadata": {},
   "source": [
    "Analysis:\n",
    "\n",
    "This experiment leads to simple results: Students tend to utilize more stop words than LLMs. This conclusion can be drawn when we look at the distribution of the stop_word_count for both classes. Even when we cap the word_count at 400, we can see that the median of stop word count is higher in the student essays. Furthermore, there is a higher ratio of stop words to total words in the student essays. This leads me to conclude that student essays tend to incorporate more stop words. This makes sense since the last experiment showed that LLMs tend to incorporate more unique words. \n",
    "\n",
    "TLDR: Include columns for stop word count and stop word to total word count."
   ]
  },
  {
   "cell_type": "markdown",
   "metadata": {},
   "source": [
    "## How does the counts of punctuation differ?\n",
    "\n",
    "In this section, I want to analyze how punctuation differs between the 2 classes. Do students utilize more diverse punctuation? Is there is difference in the counts between each class?"
   ]
  },
  {
   "cell_type": "code",
   "execution_count": 25,
   "metadata": {},
   "outputs": [],
   "source": [
    "# Getting the tokenizer\n",
    "pytorch_tokenizer = get_tokenizer('spacy',language='en_core_web_sm')"
   ]
  },
  {
   "cell_type": "code",
   "execution_count": 26,
   "metadata": {},
   "outputs": [],
   "source": [
    "# Functions for counting punctuations\n",
    "# (?, !, ;, :)\n",
    "def count_punc(text: str) -> int:\n",
    "    tokenized_text = pytorch_tokenizer(text)\n",
    "    count_q = 0\n",
    "    count_ex = 0\n",
    "    count_semi = 0\n",
    "    count_col = 0\n",
    "    for token in tokenized_text:\n",
    "        if token == \"?\":\n",
    "            count_q += 1\n",
    "        elif token == \"!\":\n",
    "            count_ex += 1\n",
    "        elif token == \";\":\n",
    "            count_semi += 1\n",
    "        elif token == \":\":\n",
    "            count_col += 1\n",
    "    \n",
    "    return count_q, count_ex,count_semi, count_col"
   ]
  },
  {
   "cell_type": "code",
   "execution_count": 27,
   "metadata": {},
   "outputs": [
    {
     "name": "stderr",
     "output_type": "stream",
     "text": [
      "  0%|          | 0/49929 [00:00<?, ?it/s]"
     ]
    },
    {
     "name": "stderr",
     "output_type": "stream",
     "text": [
      "100%|██████████| 49929/49929 [01:45<00:00, 471.75it/s] \n"
     ]
    },
    {
     "data": {
      "text/html": [
       "<div>\n",
       "<style scoped>\n",
       "    .dataframe tbody tr th:only-of-type {\n",
       "        vertical-align: middle;\n",
       "    }\n",
       "\n",
       "    .dataframe tbody tr th {\n",
       "        vertical-align: top;\n",
       "    }\n",
       "\n",
       "    .dataframe thead th {\n",
       "        text-align: right;\n",
       "    }\n",
       "</style>\n",
       "<table border=\"1\" class=\"dataframe\">\n",
       "  <thead>\n",
       "    <tr style=\"text-align: right;\">\n",
       "      <th></th>\n",
       "      <th>row_id</th>\n",
       "      <th>prompt</th>\n",
       "      <th>essay</th>\n",
       "      <th>word_count</th>\n",
       "      <th>LLM_written</th>\n",
       "      <th>unique_word_count</th>\n",
       "      <th>unique_to_total</th>\n",
       "      <th>stop_word_count</th>\n",
       "      <th>stop_word_ratio</th>\n",
       "      <th>count_question</th>\n",
       "      <th>count_exclamation</th>\n",
       "      <th>count_semi</th>\n",
       "      <th>count_colon</th>\n",
       "    </tr>\n",
       "  </thead>\n",
       "  <tbody>\n",
       "    <tr>\n",
       "      <th>0</th>\n",
       "      <td>1</td>\n",
       "      <td>Write a letter to your state senator in which ...</td>\n",
       "      <td>Dear State Senator,\\n\\nI'm writting to you tod...</td>\n",
       "      <td>291</td>\n",
       "      <td>1</td>\n",
       "      <td>131</td>\n",
       "      <td>0.450172</td>\n",
       "      <td>137</td>\n",
       "      <td>0.470790</td>\n",
       "      <td>0</td>\n",
       "      <td>2</td>\n",
       "      <td>0</td>\n",
       "      <td>0</td>\n",
       "    </tr>\n",
       "    <tr>\n",
       "      <th>1</th>\n",
       "      <td>2</td>\n",
       "      <td>Some schools require students to complete summ...</td>\n",
       "      <td>Uh, hi! So, like, summers are, like, awesome r...</td>\n",
       "      <td>311</td>\n",
       "      <td>1</td>\n",
       "      <td>121</td>\n",
       "      <td>0.389068</td>\n",
       "      <td>137</td>\n",
       "      <td>0.440514</td>\n",
       "      <td>3</td>\n",
       "      <td>4</td>\n",
       "      <td>0</td>\n",
       "      <td>0</td>\n",
       "    </tr>\n",
       "    <tr>\n",
       "      <th>2</th>\n",
       "      <td>3</td>\n",
       "      <td>When people ask for advice, they sometimes tal...</td>\n",
       "      <td>When peoples ask for advices, they sometimes t...</td>\n",
       "      <td>333</td>\n",
       "      <td>1</td>\n",
       "      <td>155</td>\n",
       "      <td>0.465465</td>\n",
       "      <td>158</td>\n",
       "      <td>0.474474</td>\n",
       "      <td>0</td>\n",
       "      <td>1</td>\n",
       "      <td>0</td>\n",
       "      <td>0</td>\n",
       "    </tr>\n",
       "    <tr>\n",
       "      <th>3</th>\n",
       "      <td>4</td>\n",
       "      <td>Many people believe that arts education is ess...</td>\n",
       "      <td>I think art edukation is super impotent for ki...</td>\n",
       "      <td>308</td>\n",
       "      <td>1</td>\n",
       "      <td>130</td>\n",
       "      <td>0.422078</td>\n",
       "      <td>121</td>\n",
       "      <td>0.392857</td>\n",
       "      <td>0</td>\n",
       "      <td>0</td>\n",
       "      <td>0</td>\n",
       "      <td>0</td>\n",
       "    </tr>\n",
       "    <tr>\n",
       "      <th>4</th>\n",
       "      <td>5</td>\n",
       "      <td>In recent years, there has been a push towards...</td>\n",
       "      <td>I think we should totally switch to renewable ...</td>\n",
       "      <td>307</td>\n",
       "      <td>1</td>\n",
       "      <td>146</td>\n",
       "      <td>0.475570</td>\n",
       "      <td>138</td>\n",
       "      <td>0.449511</td>\n",
       "      <td>0</td>\n",
       "      <td>2</td>\n",
       "      <td>0</td>\n",
       "      <td>0</td>\n",
       "    </tr>\n",
       "  </tbody>\n",
       "</table>\n",
       "</div>"
      ],
      "text/plain": [
       "   row_id                                             prompt  \\\n",
       "0       1  Write a letter to your state senator in which ...   \n",
       "1       2  Some schools require students to complete summ...   \n",
       "2       3  When people ask for advice, they sometimes tal...   \n",
       "3       4  Many people believe that arts education is ess...   \n",
       "4       5  In recent years, there has been a push towards...   \n",
       "\n",
       "                                               essay  word_count  LLM_written  \\\n",
       "0  Dear State Senator,\\n\\nI'm writting to you tod...         291            1   \n",
       "1  Uh, hi! So, like, summers are, like, awesome r...         311            1   \n",
       "2  When peoples ask for advices, they sometimes t...         333            1   \n",
       "3  I think art edukation is super impotent for ki...         308            1   \n",
       "4  I think we should totally switch to renewable ...         307            1   \n",
       "\n",
       "   unique_word_count  unique_to_total  stop_word_count  stop_word_ratio  \\\n",
       "0                131         0.450172              137         0.470790   \n",
       "1                121         0.389068              137         0.440514   \n",
       "2                155         0.465465              158         0.474474   \n",
       "3                130         0.422078              121         0.392857   \n",
       "4                146         0.475570              138         0.449511   \n",
       "\n",
       "   count_question  count_exclamation  count_semi  count_colon  \n",
       "0               0                  2           0            0  \n",
       "1               3                  4           0            0  \n",
       "2               0                  1           0            0  \n",
       "3               0                  0           0            0  \n",
       "4               0                  2           0            0  "
      ]
     },
     "execution_count": 27,
     "metadata": {},
     "output_type": "execute_result"
    }
   ],
   "source": [
    "# Making columns and adding to the dataframe\n",
    "counts = data['essay'].progress_apply(count_punc)\n",
    "data['count_question'] = [row[0] for row in counts]\n",
    "data['count_exclamation'] = [row[1] for row in counts]\n",
    "data['count_semi'] = [row[2] for row in counts]\n",
    "data['count_colon'] = [row[3] for row in counts]\n",
    "data.head()"
   ]
  },
  {
   "cell_type": "code",
   "execution_count": 28,
   "metadata": {},
   "outputs": [
    {
     "name": "stdout",
     "output_type": "stream",
     "text": [
      "Student\n",
      "       count_question  count_exclamation    count_semi   count_colon\n",
      "count    31856.000000       31856.000000  31856.000000  31856.000000\n",
      "mean         0.717918           0.247175      0.331523      0.551701\n",
      "std          1.523315           1.095986      1.532854      2.615727\n",
      "min          0.000000           0.000000      0.000000      0.000000\n",
      "25%          0.000000           0.000000      0.000000      0.000000\n",
      "50%          0.000000           0.000000      0.000000      0.000000\n",
      "75%          1.000000           0.000000      0.000000      0.000000\n",
      "max         73.000000          67.000000     87.000000    115.000000\n",
      "\n",
      "LLM\n",
      "       count_question  count_exclamation    count_semi   count_colon\n",
      "count    18073.000000       18073.000000  18073.000000  18073.000000\n",
      "mean         0.214242           0.172799      0.064295      0.359044\n",
      "std          0.781610           0.934122      0.356692      1.207527\n",
      "min          0.000000           0.000000      0.000000      0.000000\n",
      "25%          0.000000           0.000000      0.000000      0.000000\n",
      "50%          0.000000           0.000000      0.000000      0.000000\n",
      "75%          0.000000           0.000000      0.000000      0.000000\n",
      "max         14.000000          29.000000     27.000000     25.000000\n"
     ]
    }
   ],
   "source": [
    "print('Student')\n",
    "print(data[data['LLM_written'] == 0][['count_question','count_exclamation','count_semi','count_colon']].describe())\n",
    "print()\n",
    "print('LLM')\n",
    "print(data[data['LLM_written'] == 1][['count_question','count_exclamation','count_semi','count_colon']].describe())"
   ]
  },
  {
   "cell_type": "markdown",
   "metadata": {},
   "source": [
    "Across the board, students tend to utilize every character of punctuation more. The means are higher, but the medians are the same. What is curious is that the max counts for these marks are much higher for students than for LLMs. This means that students tend to use punctuation more. If we compare some of them, we can see that for question marks and semi-colons, the mean is much higher for the student essays. The student essays also have a higher standard deviation for each mark. This means that the counts are more spread, leading me to believe that they can get very high in comparison to the LLM essays. \n",
    "\n",
    "TLDR: The counts of each the punctuation marks matter. Can use this as a feature. The higher the punctuation mark count, the more likely for a student essay. More question marks and semi-colons are big predictors."
   ]
  },
  {
   "cell_type": "markdown",
   "metadata": {},
   "source": [
    "## What n-grams separate each essay?\n",
    "\n",
    "In this section, I want to see what n-grams separate each essay. Are there words and phrases that appear more in LLM essays than in student essays?"
   ]
  },
  {
   "cell_type": "markdown",
   "metadata": {},
   "source": [
    "### Unigrams\n",
    "\n",
    "I start with unigrams and work my way till tri-grams. "
   ]
  },
  {
   "cell_type": "code",
   "execution_count": 29,
   "metadata": {},
   "outputs": [
    {
     "name": "stderr",
     "output_type": "stream",
     "text": [
      "100%|██████████| 49929/49929 [01:30<00:00, 551.15it/s] \n"
     ]
    }
   ],
   "source": [
    "# I can tokenize each essay and store the unigram counts in 2 fold, one for the student and one for the llm\n",
    "unigrams = {}\n",
    "tokenized_essays = data['essay'].progress_apply(lambda row: pytorch_tokenizer(row))"
   ]
  },
  {
   "cell_type": "code",
   "execution_count": 30,
   "metadata": {},
   "outputs": [
    {
     "name": "stderr",
     "output_type": "stream",
     "text": [
      "  1%|          | 275/49929 [00:00<01:00, 826.64it/s] "
     ]
    },
    {
     "name": "stderr",
     "output_type": "stream",
     "text": [
      "100%|██████████| 49929/49929 [00:33<00:00, 1483.38it/s]\n"
     ]
    }
   ],
   "source": [
    "# Iterating through each tokenized essay to get the unigrams\n",
    "unigrams = {'student':{},'llm':{}}\n",
    "labels = data['LLM_written'].tolist()\n",
    "for index in tqdm(range(len(labels))):\n",
    "    if labels[index] == 0:\n",
    "        label = 'student'\n",
    "    else:\n",
    "        label = 'llm'\n",
    "    for token in tokenized_essays[index]:\n",
    "        if token in unigrams[label].keys():\n",
    "            count = unigrams[label][token] + 1\n",
    "            unigrams[label][token] = count\n",
    "        else:\n",
    "            unigrams[label][token] = 1"
   ]
  },
  {
   "cell_type": "code",
   "execution_count": 31,
   "metadata": {},
   "outputs": [
    {
     "data": {
      "text/html": [
       "<div>\n",
       "<style scoped>\n",
       "    .dataframe tbody tr th:only-of-type {\n",
       "        vertical-align: middle;\n",
       "    }\n",
       "\n",
       "    .dataframe tbody tr th {\n",
       "        vertical-align: top;\n",
       "    }\n",
       "\n",
       "    .dataframe thead th {\n",
       "        text-align: right;\n",
       "    }\n",
       "</style>\n",
       "<table border=\"1\" class=\"dataframe\">\n",
       "  <thead>\n",
       "    <tr style=\"text-align: right;\">\n",
       "      <th></th>\n",
       "      <th>student</th>\n",
       "      <th>llm</th>\n",
       "      <th>student_dom</th>\n",
       "      <th>llm_dom</th>\n",
       "    </tr>\n",
       "  </thead>\n",
       "  <tbody>\n",
       "    <tr>\n",
       "      <th>.</th>\n",
       "      <td>768211.0</td>\n",
       "      <td>316983.0</td>\n",
       "      <td>451228.0</td>\n",
       "      <td>-451228.0</td>\n",
       "    </tr>\n",
       "    <tr>\n",
       "      <th>the</th>\n",
       "      <td>733551.0</td>\n",
       "      <td>294927.0</td>\n",
       "      <td>438624.0</td>\n",
       "      <td>-438624.0</td>\n",
       "    </tr>\n",
       "    <tr>\n",
       "      <th>to</th>\n",
       "      <td>552682.0</td>\n",
       "      <td>211626.0</td>\n",
       "      <td>341056.0</td>\n",
       "      <td>-341056.0</td>\n",
       "    </tr>\n",
       "    <tr>\n",
       "      <th>,</th>\n",
       "      <td>616315.0</td>\n",
       "      <td>360686.0</td>\n",
       "      <td>255629.0</td>\n",
       "      <td>-255629.0</td>\n",
       "    </tr>\n",
       "    <tr>\n",
       "      <th>and</th>\n",
       "      <td>396441.0</td>\n",
       "      <td>208677.0</td>\n",
       "      <td>187764.0</td>\n",
       "      <td>-187764.0</td>\n",
       "    </tr>\n",
       "    <tr>\n",
       "      <th>of</th>\n",
       "      <td>358998.0</td>\n",
       "      <td>171866.0</td>\n",
       "      <td>187132.0</td>\n",
       "      <td>-187132.0</td>\n",
       "    </tr>\n",
       "    <tr>\n",
       "      <th>a</th>\n",
       "      <td>342398.0</td>\n",
       "      <td>158499.0</td>\n",
       "      <td>183899.0</td>\n",
       "      <td>-183899.0</td>\n",
       "    </tr>\n",
       "    <tr>\n",
       "      <th>in</th>\n",
       "      <td>245559.0</td>\n",
       "      <td>95368.0</td>\n",
       "      <td>150191.0</td>\n",
       "      <td>-150191.0</td>\n",
       "    </tr>\n",
       "    <tr>\n",
       "      <th>that</th>\n",
       "      <td>250431.0</td>\n",
       "      <td>104857.0</td>\n",
       "      <td>145574.0</td>\n",
       "      <td>-145574.0</td>\n",
       "    </tr>\n",
       "    <tr>\n",
       "      <th>is</th>\n",
       "      <td>238553.0</td>\n",
       "      <td>97215.0</td>\n",
       "      <td>141338.0</td>\n",
       "      <td>-141338.0</td>\n",
       "    </tr>\n",
       "    <tr>\n",
       "      <th>you</th>\n",
       "      <td>161138.0</td>\n",
       "      <td>23230.0</td>\n",
       "      <td>137908.0</td>\n",
       "      <td>-137908.0</td>\n",
       "    </tr>\n",
       "    <tr>\n",
       "      <th>they</th>\n",
       "      <td>151045.0</td>\n",
       "      <td>23624.0</td>\n",
       "      <td>127421.0</td>\n",
       "      <td>-127421.0</td>\n",
       "    </tr>\n",
       "    <tr>\n",
       "      <th>be</th>\n",
       "      <td>166977.0</td>\n",
       "      <td>47913.0</td>\n",
       "      <td>119064.0</td>\n",
       "      <td>-119064.0</td>\n",
       "    </tr>\n",
       "    <tr>\n",
       "      <th>\\n\\n</th>\n",
       "      <td>204375.0</td>\n",
       "      <td>87614.0</td>\n",
       "      <td>116761.0</td>\n",
       "      <td>-116761.0</td>\n",
       "    </tr>\n",
       "    <tr>\n",
       "      <th>it</th>\n",
       "      <td>170932.0</td>\n",
       "      <td>59249.0</td>\n",
       "      <td>111683.0</td>\n",
       "      <td>-111683.0</td>\n",
       "    </tr>\n",
       "    <tr>\n",
       "      <th>have</th>\n",
       "      <td>133374.0</td>\n",
       "      <td>32282.0</td>\n",
       "      <td>101092.0</td>\n",
       "      <td>-101092.0</td>\n",
       "    </tr>\n",
       "    <tr>\n",
       "      <th>do</th>\n",
       "      <td>98786.0</td>\n",
       "      <td>9259.0</td>\n",
       "      <td>89527.0</td>\n",
       "      <td>-89527.0</td>\n",
       "    </tr>\n",
       "    <tr>\n",
       "      <th>for</th>\n",
       "      <td>147749.0</td>\n",
       "      <td>62082.0</td>\n",
       "      <td>85667.0</td>\n",
       "      <td>-85667.0</td>\n",
       "    </tr>\n",
       "    <tr>\n",
       "      <th>are</th>\n",
       "      <td>138202.0</td>\n",
       "      <td>54694.0</td>\n",
       "      <td>83508.0</td>\n",
       "      <td>-83508.0</td>\n",
       "    </tr>\n",
       "    <tr>\n",
       "      <th>would</th>\n",
       "      <td>90453.0</td>\n",
       "      <td>15462.0</td>\n",
       "      <td>74991.0</td>\n",
       "      <td>-74991.0</td>\n",
       "    </tr>\n",
       "  </tbody>\n",
       "</table>\n",
       "</div>"
      ],
      "text/plain": [
       "        student       llm  student_dom   llm_dom\n",
       ".      768211.0  316983.0     451228.0 -451228.0\n",
       "the    733551.0  294927.0     438624.0 -438624.0\n",
       "to     552682.0  211626.0     341056.0 -341056.0\n",
       ",      616315.0  360686.0     255629.0 -255629.0\n",
       "and    396441.0  208677.0     187764.0 -187764.0\n",
       "of     358998.0  171866.0     187132.0 -187132.0\n",
       "a      342398.0  158499.0     183899.0 -183899.0\n",
       "in     245559.0   95368.0     150191.0 -150191.0\n",
       "that   250431.0  104857.0     145574.0 -145574.0\n",
       "is     238553.0   97215.0     141338.0 -141338.0\n",
       "you    161138.0   23230.0     137908.0 -137908.0\n",
       "they   151045.0   23624.0     127421.0 -127421.0\n",
       "be     166977.0   47913.0     119064.0 -119064.0\n",
       "\\n\\n   204375.0   87614.0     116761.0 -116761.0\n",
       "it     170932.0   59249.0     111683.0 -111683.0\n",
       "have   133374.0   32282.0     101092.0 -101092.0\n",
       "do      98786.0    9259.0      89527.0  -89527.0\n",
       "for    147749.0   62082.0      85667.0  -85667.0\n",
       "are    138202.0   54694.0      83508.0  -83508.0\n",
       "would   90453.0   15462.0      74991.0  -74991.0"
      ]
     },
     "execution_count": 31,
     "metadata": {},
     "output_type": "execute_result"
    }
   ],
   "source": [
    "unigrams_df = pd.DataFrame.from_dict(unigrams).fillna(value=0)\n",
    "unigrams_df['student_dom'] = unigrams_df['student'] - unigrams_df['llm']\n",
    "unigrams_df['llm_dom'] = unigrams_df['llm'] - unigrams_df['student']\n",
    "unigrams_df.sort_values(by='student_dom',ascending=False).head(20)"
   ]
  },
  {
   "cell_type": "markdown",
   "metadata": {},
   "source": [
    "From this table, I didn't learn much other than the fact that the student essays tend to have more commas. All the other tokens are stop words or \\n\\n. There isn't really a word or set of words that differentiate."
   ]
  },
  {
   "cell_type": "code",
   "execution_count": 32,
   "metadata": {},
   "outputs": [
    {
     "data": {
      "text/html": [
       "<div>\n",
       "<style scoped>\n",
       "    .dataframe tbody tr th:only-of-type {\n",
       "        vertical-align: middle;\n",
       "    }\n",
       "\n",
       "    .dataframe tbody tr th {\n",
       "        vertical-align: top;\n",
       "    }\n",
       "\n",
       "    .dataframe thead th {\n",
       "        text-align: right;\n",
       "    }\n",
       "</style>\n",
       "<table border=\"1\" class=\"dataframe\">\n",
       "  <thead>\n",
       "    <tr style=\"text-align: right;\">\n",
       "      <th></th>\n",
       "      <th>student</th>\n",
       "      <th>llm</th>\n",
       "      <th>student_dom</th>\n",
       "      <th>llm_dom</th>\n",
       "    </tr>\n",
       "  </thead>\n",
       "  <tbody>\n",
       "    <tr>\n",
       "      <th>potential</th>\n",
       "      <td>2144.0</td>\n",
       "      <td>12420.0</td>\n",
       "      <td>-10276.0</td>\n",
       "      <td>10276.0</td>\n",
       "    </tr>\n",
       "    <tr>\n",
       "      <th>Face</th>\n",
       "      <td>4692.0</td>\n",
       "      <td>14087.0</td>\n",
       "      <td>-9395.0</td>\n",
       "      <td>9395.0</td>\n",
       "    </tr>\n",
       "    <tr>\n",
       "      <th>concerns</th>\n",
       "      <td>672.0</td>\n",
       "      <td>6321.0</td>\n",
       "      <td>-5649.0</td>\n",
       "      <td>5649.0</td>\n",
       "    </tr>\n",
       "    <tr>\n",
       "      <th>reduce</th>\n",
       "      <td>3463.0</td>\n",
       "      <td>9036.0</td>\n",
       "      <td>-5573.0</td>\n",
       "      <td>5573.0</td>\n",
       "    </tr>\n",
       "    <tr>\n",
       "      <th>conclusion</th>\n",
       "      <td>6699.0</td>\n",
       "      <td>12092.0</td>\n",
       "      <td>-5393.0</td>\n",
       "      <td>5393.0</td>\n",
       "    </tr>\n",
       "    <tr>\n",
       "      <th>geological</th>\n",
       "      <td>33.0</td>\n",
       "      <td>5307.0</td>\n",
       "      <td>-5274.0</td>\n",
       "      <td>5274.0</td>\n",
       "    </tr>\n",
       "    <tr>\n",
       "      <th>natural</th>\n",
       "      <td>4304.0</td>\n",
       "      <td>9537.0</td>\n",
       "      <td>-5233.0</td>\n",
       "      <td>5233.0</td>\n",
       "    </tr>\n",
       "    <tr>\n",
       "      <th>privacy</th>\n",
       "      <td>464.0</td>\n",
       "      <td>5678.0</td>\n",
       "      <td>-5214.0</td>\n",
       "      <td>5214.0</td>\n",
       "    </tr>\n",
       "    <tr>\n",
       "      <th>benefits</th>\n",
       "      <td>4118.0</td>\n",
       "      <td>9279.0</td>\n",
       "      <td>-5161.0</td>\n",
       "      <td>5161.0</td>\n",
       "    </tr>\n",
       "    <tr>\n",
       "      <th>lead</th>\n",
       "      <td>4839.0</td>\n",
       "      <td>9909.0</td>\n",
       "      <td>-5070.0</td>\n",
       "      <td>5070.0</td>\n",
       "    </tr>\n",
       "    <tr>\n",
       "      <th>exploring</th>\n",
       "      <td>1183.0</td>\n",
       "      <td>6243.0</td>\n",
       "      <td>-5060.0</td>\n",
       "      <td>5060.0</td>\n",
       "    </tr>\n",
       "    <tr>\n",
       "      <th>By</th>\n",
       "      <td>4040.0</td>\n",
       "      <td>9073.0</td>\n",
       "      <td>-5033.0</td>\n",
       "      <td>5033.0</td>\n",
       "    </tr>\n",
       "    <tr>\n",
       "      <th>significant</th>\n",
       "      <td>2020.0</td>\n",
       "      <td>7008.0</td>\n",
       "      <td>-4988.0</td>\n",
       "      <td>4988.0</td>\n",
       "    </tr>\n",
       "    <tr>\n",
       "      <th>Additionally</th>\n",
       "      <td>1110.0</td>\n",
       "      <td>6093.0</td>\n",
       "      <td>-4983.0</td>\n",
       "      <td>4983.0</td>\n",
       "    </tr>\n",
       "    <tr>\n",
       "      <th>usage</th>\n",
       "      <td>7660.0</td>\n",
       "      <td>12529.0</td>\n",
       "      <td>-4869.0</td>\n",
       "      <td>4869.0</td>\n",
       "    </tr>\n",
       "    <tr>\n",
       "      <th>challenges</th>\n",
       "      <td>1864.0</td>\n",
       "      <td>6509.0</td>\n",
       "      <td>-4645.0</td>\n",
       "      <td>4645.0</td>\n",
       "    </tr>\n",
       "    <tr>\n",
       "      <th>While</th>\n",
       "      <td>3636.0</td>\n",
       "      <td>8271.0</td>\n",
       "      <td>-4635.0</td>\n",
       "      <td>4635.0</td>\n",
       "    </tr>\n",
       "    <tr>\n",
       "      <th>scientific</th>\n",
       "      <td>590.0</td>\n",
       "      <td>4906.0</td>\n",
       "      <td>-4316.0</td>\n",
       "      <td>4316.0</td>\n",
       "    </tr>\n",
       "    <tr>\n",
       "      <th>understanding</th>\n",
       "      <td>2900.0</td>\n",
       "      <td>7074.0</td>\n",
       "      <td>-4174.0</td>\n",
       "      <td>4174.0</td>\n",
       "    </tr>\n",
       "    <tr>\n",
       "      <th>FACS</th>\n",
       "      <td>1552.0</td>\n",
       "      <td>5719.0</td>\n",
       "      <td>-4167.0</td>\n",
       "      <td>4167.0</td>\n",
       "    </tr>\n",
       "  </tbody>\n",
       "</table>\n",
       "</div>"
      ],
      "text/plain": [
       "               student      llm  student_dom  llm_dom\n",
       "potential       2144.0  12420.0     -10276.0  10276.0\n",
       "Face            4692.0  14087.0      -9395.0   9395.0\n",
       "concerns         672.0   6321.0      -5649.0   5649.0\n",
       "reduce          3463.0   9036.0      -5573.0   5573.0\n",
       "conclusion      6699.0  12092.0      -5393.0   5393.0\n",
       "geological        33.0   5307.0      -5274.0   5274.0\n",
       "natural         4304.0   9537.0      -5233.0   5233.0\n",
       "privacy          464.0   5678.0      -5214.0   5214.0\n",
       "benefits        4118.0   9279.0      -5161.0   5161.0\n",
       "lead            4839.0   9909.0      -5070.0   5070.0\n",
       "exploring       1183.0   6243.0      -5060.0   5060.0\n",
       "By              4040.0   9073.0      -5033.0   5033.0\n",
       "significant     2020.0   7008.0      -4988.0   4988.0\n",
       "Additionally    1110.0   6093.0      -4983.0   4983.0\n",
       "usage           7660.0  12529.0      -4869.0   4869.0\n",
       "challenges      1864.0   6509.0      -4645.0   4645.0\n",
       "While           3636.0   8271.0      -4635.0   4635.0\n",
       "scientific       590.0   4906.0      -4316.0   4316.0\n",
       "understanding   2900.0   7074.0      -4174.0   4174.0\n",
       "FACS            1552.0   5719.0      -4167.0   4167.0"
      ]
     },
     "execution_count": 32,
     "metadata": {},
     "output_type": "execute_result"
    }
   ],
   "source": [
    "unigrams_df.sort_values(by='llm_dom',ascending=False).head(20)"
   ]
  },
  {
   "cell_type": "markdown",
   "metadata": {},
   "source": [
    "This table doesn't show me anything I didn't already know. I knew that the LLM essays has more unique words than the student essays. But I do notice that a LLM tends to use the words \"potential\" and \"Face\" a lot more. "
   ]
  },
  {
   "cell_type": "markdown",
   "metadata": {},
   "source": [
    "### Bigrams"
   ]
  },
  {
   "cell_type": "code",
   "execution_count": 33,
   "metadata": {},
   "outputs": [
    {
     "name": "stderr",
     "output_type": "stream",
     "text": [
      "100%|██████████| 49929/49929 [00:18<00:00, 2696.21it/s]\n"
     ]
    }
   ],
   "source": [
    "# Getting the tokenized essays by bigrams\n",
    "tokenized_essays_bigrams = []\n",
    "for essay in tqdm(tokenized_essays):\n",
    "    tokenized_essays_bigrams.append(list(ngrams_iterator(essay,2))[len(essay):])"
   ]
  },
  {
   "cell_type": "code",
   "execution_count": 34,
   "metadata": {},
   "outputs": [
    {
     "name": "stderr",
     "output_type": "stream",
     "text": [
      "  0%|          | 146/49929 [00:00<00:34, 1455.74it/s]"
     ]
    },
    {
     "name": "stderr",
     "output_type": "stream",
     "text": [
      "100%|██████████| 49929/49929 [00:38<00:00, 1281.76it/s]\n"
     ]
    }
   ],
   "source": [
    "# Iterating through each tokenized essay to get the bigrams\n",
    "bigrams = {'student':{},'llm':{}}\n",
    "labels = data['LLM_written'].tolist()\n",
    "for index in tqdm(range(len(labels))):\n",
    "    if labels[index] == 0:\n",
    "        label = 'student'\n",
    "    else:\n",
    "        label = 'llm'\n",
    "    for token in tokenized_essays_bigrams[index]:\n",
    "        if token in bigrams[label].keys():\n",
    "            count = bigrams[label][token] + 1\n",
    "            bigrams[label][token] = count\n",
    "        else:\n",
    "            bigrams[label][token] = 1"
   ]
  },
  {
   "cell_type": "code",
   "execution_count": 35,
   "metadata": {},
   "outputs": [
    {
     "data": {
      "text/html": [
       "<div>\n",
       "<style scoped>\n",
       "    .dataframe tbody tr th:only-of-type {\n",
       "        vertical-align: middle;\n",
       "    }\n",
       "\n",
       "    .dataframe tbody tr th {\n",
       "        vertical-align: top;\n",
       "    }\n",
       "\n",
       "    .dataframe thead th {\n",
       "        text-align: right;\n",
       "    }\n",
       "</style>\n",
       "<table border=\"1\" class=\"dataframe\">\n",
       "  <thead>\n",
       "    <tr style=\"text-align: right;\">\n",
       "      <th></th>\n",
       "      <th>student</th>\n",
       "      <th>llm</th>\n",
       "      <th>student_dom</th>\n",
       "      <th>llm_dom</th>\n",
       "    </tr>\n",
       "  </thead>\n",
       "  <tbody>\n",
       "    <tr>\n",
       "      <th>. \\n\\n</th>\n",
       "      <td>164048.0</td>\n",
       "      <td>78498.0</td>\n",
       "      <td>85550.0</td>\n",
       "      <td>-85550.0</td>\n",
       "    </tr>\n",
       "    <tr>\n",
       "      <th>of the</th>\n",
       "      <td>78156.0</td>\n",
       "      <td>29706.0</td>\n",
       "      <td>48450.0</td>\n",
       "      <td>-48450.0</td>\n",
       "    </tr>\n",
       "    <tr>\n",
       "      <th>in the</th>\n",
       "      <td>60783.0</td>\n",
       "      <td>20768.0</td>\n",
       "      <td>40015.0</td>\n",
       "      <td>-40015.0</td>\n",
       "    </tr>\n",
       "    <tr>\n",
       "      <th>. The</th>\n",
       "      <td>50810.0</td>\n",
       "      <td>23693.0</td>\n",
       "      <td>27117.0</td>\n",
       "      <td>-27117.0</td>\n",
       "    </tr>\n",
       "    <tr>\n",
       "      <th>) .</th>\n",
       "      <td>27542.0</td>\n",
       "      <td>583.0</td>\n",
       "      <td>26959.0</td>\n",
       "      <td>-26959.0</td>\n",
       "    </tr>\n",
       "    <tr>\n",
       "      <th>to do</th>\n",
       "      <td>28867.0</td>\n",
       "      <td>2171.0</td>\n",
       "      <td>26696.0</td>\n",
       "      <td>-26696.0</td>\n",
       "    </tr>\n",
       "    <tr>\n",
       "      <th>to be</th>\n",
       "      <td>33389.0</td>\n",
       "      <td>8936.0</td>\n",
       "      <td>24453.0</td>\n",
       "      <td>-24453.0</td>\n",
       "    </tr>\n",
       "    <tr>\n",
       "      <th>to the</th>\n",
       "      <td>33991.0</td>\n",
       "      <td>10479.0</td>\n",
       "      <td>23512.0</td>\n",
       "      <td>-23512.0</td>\n",
       "    </tr>\n",
       "    <tr>\n",
       "      <th>have to</th>\n",
       "      <td>22354.0</td>\n",
       "      <td>1679.0</td>\n",
       "      <td>20675.0</td>\n",
       "      <td>-20675.0</td>\n",
       "    </tr>\n",
       "    <tr>\n",
       "      <th>would be</th>\n",
       "      <td>24101.0</td>\n",
       "      <td>3790.0</td>\n",
       "      <td>20311.0</td>\n",
       "      <td>-20311.0</td>\n",
       "    </tr>\n",
       "    <tr>\n",
       "      <th>do n't</th>\n",
       "      <td>21931.0</td>\n",
       "      <td>1683.0</td>\n",
       "      <td>20248.0</td>\n",
       "      <td>-20248.0</td>\n",
       "    </tr>\n",
       "    <tr>\n",
       "      <th>for the</th>\n",
       "      <td>25466.0</td>\n",
       "      <td>6667.0</td>\n",
       "      <td>18799.0</td>\n",
       "      <td>-18799.0</td>\n",
       "    </tr>\n",
       "    <tr>\n",
       "      <th>, and</th>\n",
       "      <td>68444.0</td>\n",
       "      <td>49807.0</td>\n",
       "      <td>18637.0</td>\n",
       "      <td>-18637.0</td>\n",
       "    </tr>\n",
       "    <tr>\n",
       "      <th>want to</th>\n",
       "      <td>18736.0</td>\n",
       "      <td>1806.0</td>\n",
       "      <td>16930.0</td>\n",
       "      <td>-16930.0</td>\n",
       "    </tr>\n",
       "    <tr>\n",
       "      <th>, but</th>\n",
       "      <td>26189.0</td>\n",
       "      <td>9361.0</td>\n",
       "      <td>16828.0</td>\n",
       "      <td>-16828.0</td>\n",
       "    </tr>\n",
       "    <tr>\n",
       "      <th>able to</th>\n",
       "      <td>21935.0</td>\n",
       "      <td>5452.0</td>\n",
       "      <td>16483.0</td>\n",
       "      <td>-16483.0</td>\n",
       "    </tr>\n",
       "    <tr>\n",
       "      <th>on the</th>\n",
       "      <td>26934.0</td>\n",
       "      <td>10537.0</td>\n",
       "      <td>16397.0</td>\n",
       "      <td>-16397.0</td>\n",
       "    </tr>\n",
       "    <tr>\n",
       "      <th>. I</th>\n",
       "      <td>21826.0</td>\n",
       "      <td>5886.0</td>\n",
       "      <td>15940.0</td>\n",
       "      <td>-15940.0</td>\n",
       "    </tr>\n",
       "    <tr>\n",
       "      <th>. \"</th>\n",
       "      <td>16861.0</td>\n",
       "      <td>1591.0</td>\n",
       "      <td>15270.0</td>\n",
       "      <td>-15270.0</td>\n",
       "    </tr>\n",
       "    <tr>\n",
       "      <th>. If</th>\n",
       "      <td>18822.0</td>\n",
       "      <td>3602.0</td>\n",
       "      <td>15220.0</td>\n",
       "      <td>-15220.0</td>\n",
       "    </tr>\n",
       "  </tbody>\n",
       "</table>\n",
       "</div>"
      ],
      "text/plain": [
       "           student      llm  student_dom  llm_dom\n",
       ". \\n\\n    164048.0  78498.0      85550.0 -85550.0\n",
       "of the     78156.0  29706.0      48450.0 -48450.0\n",
       "in the     60783.0  20768.0      40015.0 -40015.0\n",
       ". The      50810.0  23693.0      27117.0 -27117.0\n",
       ") .        27542.0    583.0      26959.0 -26959.0\n",
       "to do      28867.0   2171.0      26696.0 -26696.0\n",
       "to be      33389.0   8936.0      24453.0 -24453.0\n",
       "to the     33991.0  10479.0      23512.0 -23512.0\n",
       "have to    22354.0   1679.0      20675.0 -20675.0\n",
       "would be   24101.0   3790.0      20311.0 -20311.0\n",
       "do n't     21931.0   1683.0      20248.0 -20248.0\n",
       "for the    25466.0   6667.0      18799.0 -18799.0\n",
       ", and      68444.0  49807.0      18637.0 -18637.0\n",
       "want to    18736.0   1806.0      16930.0 -16930.0\n",
       ", but      26189.0   9361.0      16828.0 -16828.0\n",
       "able to    21935.0   5452.0      16483.0 -16483.0\n",
       "on the     26934.0  10537.0      16397.0 -16397.0\n",
       ". I        21826.0   5886.0      15940.0 -15940.0\n",
       ". \"        16861.0   1591.0      15270.0 -15270.0\n",
       ". If       18822.0   3602.0      15220.0 -15220.0"
      ]
     },
     "execution_count": 35,
     "metadata": {},
     "output_type": "execute_result"
    }
   ],
   "source": [
    "bigrams_df = pd.DataFrame.from_dict(bigrams).fillna(value=0)\n",
    "bigrams_df['student_dom'] = bigrams_df['student'] - bigrams_df['llm']\n",
    "bigrams_df['llm_dom'] = bigrams_df['llm'] - bigrams_df['student']\n",
    "bigrams_df.sort_values(by='student_dom',ascending=False).head(20)"
   ]
  },
  {
   "cell_type": "markdown",
   "metadata": {},
   "source": [
    "For the bigrams, the student essays are still just a combination of stop words like \"to be\" or \"to do\". Again, not a new finding."
   ]
  },
  {
   "cell_type": "code",
   "execution_count": 36,
   "metadata": {},
   "outputs": [
    {
     "data": {
      "text/html": [
       "<div>\n",
       "<style scoped>\n",
       "    .dataframe tbody tr th:only-of-type {\n",
       "        vertical-align: middle;\n",
       "    }\n",
       "\n",
       "    .dataframe tbody tr th {\n",
       "        vertical-align: top;\n",
       "    }\n",
       "\n",
       "    .dataframe thead th {\n",
       "        text-align: right;\n",
       "    }\n",
       "</style>\n",
       "<table border=\"1\" class=\"dataframe\">\n",
       "  <thead>\n",
       "    <tr style=\"text-align: right;\">\n",
       "      <th></th>\n",
       "      <th>student</th>\n",
       "      <th>llm</th>\n",
       "      <th>student_dom</th>\n",
       "      <th>llm_dom</th>\n",
       "    </tr>\n",
       "  </thead>\n",
       "  <tbody>\n",
       "    <tr>\n",
       "      <th>the Face</th>\n",
       "      <td>2875.0</td>\n",
       "      <td>11482.0</td>\n",
       "      <td>-8607.0</td>\n",
       "      <td>8607.0</td>\n",
       "    </tr>\n",
       "    <tr>\n",
       "      <th>conclusion ,</th>\n",
       "      <td>4380.0</td>\n",
       "      <td>11299.0</td>\n",
       "      <td>-6919.0</td>\n",
       "      <td>6919.0</td>\n",
       "    </tr>\n",
       "    <tr>\n",
       "      <th>the potential</th>\n",
       "      <td>531.0</td>\n",
       "      <td>7106.0</td>\n",
       "      <td>-6575.0</td>\n",
       "      <td>6575.0</td>\n",
       "    </tr>\n",
       "    <tr>\n",
       "      <th>, I</th>\n",
       "      <td>10666.0</td>\n",
       "      <td>17004.0</td>\n",
       "      <td>-6338.0</td>\n",
       "      <td>6338.0</td>\n",
       "    </tr>\n",
       "    <tr>\n",
       "      <th>lead to</th>\n",
       "      <td>3173.0</td>\n",
       "      <td>9462.0</td>\n",
       "      <td>-6289.0</td>\n",
       "      <td>6289.0</td>\n",
       "    </tr>\n",
       "    <tr>\n",
       "      <th>car usage</th>\n",
       "      <td>5541.0</td>\n",
       "      <td>11540.0</td>\n",
       "      <td>-5999.0</td>\n",
       "      <td>5999.0</td>\n",
       "    </tr>\n",
       "    <tr>\n",
       "      <th>. By</th>\n",
       "      <td>3045.0</td>\n",
       "      <td>8904.0</td>\n",
       "      <td>-5859.0</td>\n",
       "      <td>5859.0</td>\n",
       "    </tr>\n",
       "    <tr>\n",
       "      <th>, which</th>\n",
       "      <td>9877.0</td>\n",
       "      <td>15554.0</td>\n",
       "      <td>-5677.0</td>\n",
       "      <td>5677.0</td>\n",
       "    </tr>\n",
       "    <tr>\n",
       "      <th>In conclusion</th>\n",
       "      <td>5542.0</td>\n",
       "      <td>11109.0</td>\n",
       "      <td>-5567.0</td>\n",
       "      <td>5567.0</td>\n",
       "    </tr>\n",
       "    <tr>\n",
       "      <th>Additionally ,</th>\n",
       "      <td>1073.0</td>\n",
       "      <td>6092.0</td>\n",
       "      <td>-5019.0</td>\n",
       "      <td>5019.0</td>\n",
       "    </tr>\n",
       "    <tr>\n",
       "      <th>the Electoral</th>\n",
       "      <td>7561.0</td>\n",
       "      <td>12192.0</td>\n",
       "      <td>-4631.0</td>\n",
       "      <td>4631.0</td>\n",
       "    </tr>\n",
       "    <tr>\n",
       "      <th>believe that</th>\n",
       "      <td>6041.0</td>\n",
       "      <td>10605.0</td>\n",
       "      <td>-4564.0</td>\n",
       "      <td>4564.0</td>\n",
       "    </tr>\n",
       "    <tr>\n",
       "      <th>. Additionally</th>\n",
       "      <td>748.0</td>\n",
       "      <td>5288.0</td>\n",
       "      <td>-4540.0</td>\n",
       "      <td>4540.0</td>\n",
       "    </tr>\n",
       "    <tr>\n",
       "      <th>Electoral College</th>\n",
       "      <td>10771.0</td>\n",
       "      <td>15147.0</td>\n",
       "      <td>-4376.0</td>\n",
       "      <td>4376.0</td>\n",
       "    </tr>\n",
       "    <tr>\n",
       "      <th>. While</th>\n",
       "      <td>2459.0</td>\n",
       "      <td>6795.0</td>\n",
       "      <td>-4336.0</td>\n",
       "      <td>4336.0</td>\n",
       "    </tr>\n",
       "    <tr>\n",
       "      <th>, we</th>\n",
       "      <td>5008.0</td>\n",
       "      <td>9273.0</td>\n",
       "      <td>-4265.0</td>\n",
       "      <td>4265.0</td>\n",
       "    </tr>\n",
       "    <tr>\n",
       "      <th>exploring Venus</th>\n",
       "      <td>522.0</td>\n",
       "      <td>4748.0</td>\n",
       "      <td>-4226.0</td>\n",
       "      <td>4226.0</td>\n",
       "    </tr>\n",
       "    <tr>\n",
       "      <th>Cowboys program</th>\n",
       "      <td>904.0</td>\n",
       "      <td>5124.0</td>\n",
       "      <td>-4220.0</td>\n",
       "      <td>4220.0</td>\n",
       "    </tr>\n",
       "    <tr>\n",
       "      <th>help to</th>\n",
       "      <td>1079.0</td>\n",
       "      <td>4897.0</td>\n",
       "      <td>-3818.0</td>\n",
       "      <td>3818.0</td>\n",
       "    </tr>\n",
       "    <tr>\n",
       "      <th>, such</th>\n",
       "      <td>2547.0</td>\n",
       "      <td>6336.0</td>\n",
       "      <td>-3789.0</td>\n",
       "      <td>3789.0</td>\n",
       "    </tr>\n",
       "  </tbody>\n",
       "</table>\n",
       "</div>"
      ],
      "text/plain": [
       "                   student      llm  student_dom  llm_dom\n",
       "the Face            2875.0  11482.0      -8607.0   8607.0\n",
       "conclusion ,        4380.0  11299.0      -6919.0   6919.0\n",
       "the potential        531.0   7106.0      -6575.0   6575.0\n",
       ", I                10666.0  17004.0      -6338.0   6338.0\n",
       "lead to             3173.0   9462.0      -6289.0   6289.0\n",
       "car usage           5541.0  11540.0      -5999.0   5999.0\n",
       ". By                3045.0   8904.0      -5859.0   5859.0\n",
       ", which             9877.0  15554.0      -5677.0   5677.0\n",
       "In conclusion       5542.0  11109.0      -5567.0   5567.0\n",
       "Additionally ,      1073.0   6092.0      -5019.0   5019.0\n",
       "the Electoral       7561.0  12192.0      -4631.0   4631.0\n",
       "believe that        6041.0  10605.0      -4564.0   4564.0\n",
       ". Additionally       748.0   5288.0      -4540.0   4540.0\n",
       "Electoral College  10771.0  15147.0      -4376.0   4376.0\n",
       ". While             2459.0   6795.0      -4336.0   4336.0\n",
       ", we                5008.0   9273.0      -4265.0   4265.0\n",
       "exploring Venus      522.0   4748.0      -4226.0   4226.0\n",
       "Cowboys program      904.0   5124.0      -4220.0   4220.0\n",
       "help to             1079.0   4897.0      -3818.0   3818.0\n",
       ", such              2547.0   6336.0      -3789.0   3789.0"
      ]
     },
     "execution_count": 36,
     "metadata": {},
     "output_type": "execute_result"
    }
   ],
   "source": [
    "bigrams_df.sort_values(by='llm_dom',ascending=False).head(20)"
   ]
  },
  {
   "cell_type": "markdown",
   "metadata": {},
   "source": [
    "The bigrams present in the LLMs more often seem to have more meaning. We see things like \"In conclusion\" or \"Additionally\" pop up more. We also see parts of the prompts present as well. Let's see if tri-grams are better!"
   ]
  },
  {
   "cell_type": "markdown",
   "metadata": {},
   "source": [
    "### Tri-grams"
   ]
  },
  {
   "cell_type": "code",
   "execution_count": 37,
   "metadata": {},
   "outputs": [
    {
     "name": "stderr",
     "output_type": "stream",
     "text": [
      "100%|██████████| 49929/49929 [00:34<00:00, 1430.98it/s]\n"
     ]
    }
   ],
   "source": [
    "# Getting the tokenized essays by tri-grams\n",
    "tokenized_essays_trigrams = []\n",
    "for essay in tqdm(tokenized_essays):\n",
    "    tokenized_essays_trigrams.append(list(ngrams_iterator(essay,3))[len(essay)*2-1:])"
   ]
  },
  {
   "cell_type": "code",
   "execution_count": 38,
   "metadata": {},
   "outputs": [
    {
     "name": "stderr",
     "output_type": "stream",
     "text": [
      "100%|██████████| 49929/49929 [00:44<00:00, 1116.00it/s]\n"
     ]
    }
   ],
   "source": [
    "# Iterating through each tokenized essay to get the trigrams\n",
    "trigrams = {'student':{},'llm':{}}\n",
    "labels = data['LLM_written'].tolist()\n",
    "for index in tqdm(range(len(labels))):\n",
    "    if labels[index] == 0:\n",
    "        label = 'student'\n",
    "    else:\n",
    "        label = 'llm'\n",
    "    for token in tokenized_essays_trigrams[index]:\n",
    "        if token in trigrams[label].keys():\n",
    "            count = trigrams[label][token] + 1\n",
    "            trigrams[label][token] = count\n",
    "        else:\n",
    "            trigrams[label][token] = 1"
   ]
  },
  {
   "cell_type": "code",
   "execution_count": 39,
   "metadata": {},
   "outputs": [
    {
     "data": {
      "text/html": [
       "<div>\n",
       "<style scoped>\n",
       "    .dataframe tbody tr th:only-of-type {\n",
       "        vertical-align: middle;\n",
       "    }\n",
       "\n",
       "    .dataframe tbody tr th {\n",
       "        vertical-align: top;\n",
       "    }\n",
       "\n",
       "    .dataframe thead th {\n",
       "        text-align: right;\n",
       "    }\n",
       "</style>\n",
       "<table border=\"1\" class=\"dataframe\">\n",
       "  <thead>\n",
       "    <tr style=\"text-align: right;\">\n",
       "      <th></th>\n",
       "      <th>student</th>\n",
       "      <th>llm</th>\n",
       "      <th>student_dom</th>\n",
       "      <th>llm_dom</th>\n",
       "    </tr>\n",
       "  </thead>\n",
       "  <tbody>\n",
       "    <tr>\n",
       "      <th>. \\n\\n The</th>\n",
       "      <td>17067.0</td>\n",
       "      <td>5804.0</td>\n",
       "      <td>11263.0</td>\n",
       "      <td>-11263.0</td>\n",
       "    </tr>\n",
       "    <tr>\n",
       "      <th>be able to</th>\n",
       "      <td>13105.0</td>\n",
       "      <td>2735.0</td>\n",
       "      <td>10370.0</td>\n",
       "      <td>-10370.0</td>\n",
       "    </tr>\n",
       "    <tr>\n",
       "      <th>) . \\n\\n</th>\n",
       "      <td>8444.0</td>\n",
       "      <td>61.0</td>\n",
       "      <td>8383.0</td>\n",
       "      <td>-8383.0</td>\n",
       "    </tr>\n",
       "    <tr>\n",
       "      <th>a lot of</th>\n",
       "      <td>7783.0</td>\n",
       "      <td>1493.0</td>\n",
       "      <td>6290.0</td>\n",
       "      <td>-6290.0</td>\n",
       "    </tr>\n",
       "    <tr>\n",
       "      <th>the electoral college</th>\n",
       "      <td>4669.0</td>\n",
       "      <td>301.0</td>\n",
       "      <td>4368.0</td>\n",
       "      <td>-4368.0</td>\n",
       "    </tr>\n",
       "    <tr>\n",
       "      <th>one of the</th>\n",
       "      <td>5015.0</td>\n",
       "      <td>962.0</td>\n",
       "      <td>4053.0</td>\n",
       "      <td>-4053.0</td>\n",
       "    </tr>\n",
       "    <tr>\n",
       "      <th>they do n't</th>\n",
       "      <td>4106.0</td>\n",
       "      <td>257.0</td>\n",
       "      <td>3849.0</td>\n",
       "      <td>-3849.0</td>\n",
       "    </tr>\n",
       "    <tr>\n",
       "      <th>it would be</th>\n",
       "      <td>4248.0</td>\n",
       "      <td>517.0</td>\n",
       "      <td>3731.0</td>\n",
       "      <td>-3731.0</td>\n",
       "    </tr>\n",
       "    <tr>\n",
       "      <th>I think that</th>\n",
       "      <td>4343.0</td>\n",
       "      <td>912.0</td>\n",
       "      <td>3431.0</td>\n",
       "      <td>-3431.0</td>\n",
       "    </tr>\n",
       "    <tr>\n",
       "      <th>. \\n\\n I</th>\n",
       "      <td>5101.0</td>\n",
       "      <td>1770.0</td>\n",
       "      <td>3331.0</td>\n",
       "      <td>-3331.0</td>\n",
       "    </tr>\n",
       "    <tr>\n",
       "      <th>. I think</th>\n",
       "      <td>3780.0</td>\n",
       "      <td>451.0</td>\n",
       "      <td>3329.0</td>\n",
       "      <td>-3329.0</td>\n",
       "    </tr>\n",
       "    <tr>\n",
       "      <th>. \\n\\n This</th>\n",
       "      <td>3654.0</td>\n",
       "      <td>340.0</td>\n",
       "      <td>3314.0</td>\n",
       "      <td>-3314.0</td>\n",
       "    </tr>\n",
       "    <tr>\n",
       "      <th>do n't have</th>\n",
       "      <td>3553.0</td>\n",
       "      <td>291.0</td>\n",
       "      <td>3262.0</td>\n",
       "      <td>-3262.0</td>\n",
       "    </tr>\n",
       "    <tr>\n",
       "      <th>. If you</th>\n",
       "      <td>4333.0</td>\n",
       "      <td>1085.0</td>\n",
       "      <td>3248.0</td>\n",
       "      <td>-3248.0</td>\n",
       "    </tr>\n",
       "    <tr>\n",
       "      <th>. In the</th>\n",
       "      <td>4468.0</td>\n",
       "      <td>1382.0</td>\n",
       "      <td>3086.0</td>\n",
       "      <td>-3086.0</td>\n",
       "    </tr>\n",
       "    <tr>\n",
       "      <th>they want to</th>\n",
       "      <td>3290.0</td>\n",
       "      <td>230.0</td>\n",
       "      <td>3060.0</td>\n",
       "      <td>-3060.0</td>\n",
       "    </tr>\n",
       "    <tr>\n",
       "      <th>to go to</th>\n",
       "      <td>3181.0</td>\n",
       "      <td>128.0</td>\n",
       "      <td>3053.0</td>\n",
       "      <td>-3053.0</td>\n",
       "    </tr>\n",
       "    <tr>\n",
       "      <th>want to do</th>\n",
       "      <td>3216.0</td>\n",
       "      <td>174.0</td>\n",
       "      <td>3042.0</td>\n",
       "      <td>-3042.0</td>\n",
       "    </tr>\n",
       "    <tr>\n",
       "      <th>because of the</th>\n",
       "      <td>3190.0</td>\n",
       "      <td>198.0</td>\n",
       "      <td>2992.0</td>\n",
       "      <td>-2992.0</td>\n",
       "    </tr>\n",
       "    <tr>\n",
       "      <th>. \\n\\n If</th>\n",
       "      <td>3268.0</td>\n",
       "      <td>294.0</td>\n",
       "      <td>2974.0</td>\n",
       "      <td>-2974.0</td>\n",
       "    </tr>\n",
       "  </tbody>\n",
       "</table>\n",
       "</div>"
      ],
      "text/plain": [
       "                       student     llm  student_dom  llm_dom\n",
       ". \\n\\n The             17067.0  5804.0      11263.0 -11263.0\n",
       "be able to             13105.0  2735.0      10370.0 -10370.0\n",
       ") . \\n\\n                8444.0    61.0       8383.0  -8383.0\n",
       "a lot of                7783.0  1493.0       6290.0  -6290.0\n",
       "the electoral college   4669.0   301.0       4368.0  -4368.0\n",
       "one of the              5015.0   962.0       4053.0  -4053.0\n",
       "they do n't             4106.0   257.0       3849.0  -3849.0\n",
       "it would be             4248.0   517.0       3731.0  -3731.0\n",
       "I think that            4343.0   912.0       3431.0  -3431.0\n",
       ". \\n\\n I                5101.0  1770.0       3331.0  -3331.0\n",
       ". I think               3780.0   451.0       3329.0  -3329.0\n",
       ". \\n\\n This             3654.0   340.0       3314.0  -3314.0\n",
       "do n't have             3553.0   291.0       3262.0  -3262.0\n",
       ". If you                4333.0  1085.0       3248.0  -3248.0\n",
       ". In the                4468.0  1382.0       3086.0  -3086.0\n",
       "they want to            3290.0   230.0       3060.0  -3060.0\n",
       "to go to                3181.0   128.0       3053.0  -3053.0\n",
       "want to do              3216.0   174.0       3042.0  -3042.0\n",
       "because of the          3190.0   198.0       2992.0  -2992.0\n",
       ". \\n\\n If               3268.0   294.0       2974.0  -2974.0"
      ]
     },
     "execution_count": 39,
     "metadata": {},
     "output_type": "execute_result"
    }
   ],
   "source": [
    "trigrams_df = pd.DataFrame.from_dict(trigrams).fillna(value=0)\n",
    "trigrams_df['student_dom'] = trigrams_df['student'] - trigrams_df['llm']\n",
    "trigrams_df['llm_dom'] = trigrams_df['llm'] - trigrams_df['student']\n",
    "trigrams_df.sort_values(by='student_dom',ascending=False).head(20)"
   ]
  },
  {
   "cell_type": "code",
   "execution_count": 40,
   "metadata": {},
   "outputs": [
    {
     "data": {
      "text/html": [
       "<div>\n",
       "<style scoped>\n",
       "    .dataframe tbody tr th:only-of-type {\n",
       "        vertical-align: middle;\n",
       "    }\n",
       "\n",
       "    .dataframe tbody tr th {\n",
       "        vertical-align: top;\n",
       "    }\n",
       "\n",
       "    .dataframe thead th {\n",
       "        text-align: right;\n",
       "    }\n",
       "</style>\n",
       "<table border=\"1\" class=\"dataframe\">\n",
       "  <thead>\n",
       "    <tr style=\"text-align: right;\">\n",
       "      <th></th>\n",
       "      <th>student</th>\n",
       "      <th>llm</th>\n",
       "      <th>student_dom</th>\n",
       "      <th>llm_dom</th>\n",
       "    </tr>\n",
       "  </thead>\n",
       "  <tbody>\n",
       "    <tr>\n",
       "      <th>In conclusion ,</th>\n",
       "      <td>4141.0</td>\n",
       "      <td>11097.0</td>\n",
       "      <td>-6956.0</td>\n",
       "      <td>6956.0</td>\n",
       "    </tr>\n",
       "    <tr>\n",
       "      <th>\\n\\n In conclusion</th>\n",
       "      <td>4893.0</td>\n",
       "      <td>10567.0</td>\n",
       "      <td>-5674.0</td>\n",
       "      <td>5674.0</td>\n",
       "    </tr>\n",
       "    <tr>\n",
       "      <th>the Electoral College</th>\n",
       "      <td>6670.0</td>\n",
       "      <td>12153.0</td>\n",
       "      <td>-5483.0</td>\n",
       "      <td>5483.0</td>\n",
       "    </tr>\n",
       "    <tr>\n",
       "      <th>that the Face</th>\n",
       "      <td>706.0</td>\n",
       "      <td>5615.0</td>\n",
       "      <td>-4909.0</td>\n",
       "      <td>4909.0</td>\n",
       "    </tr>\n",
       "    <tr>\n",
       "      <th>, I believe</th>\n",
       "      <td>858.0</td>\n",
       "      <td>5698.0</td>\n",
       "      <td>-4840.0</td>\n",
       "      <td>4840.0</td>\n",
       "    </tr>\n",
       "    <tr>\n",
       "      <th>I believe that</th>\n",
       "      <td>2980.0</td>\n",
       "      <td>7546.0</td>\n",
       "      <td>-4566.0</td>\n",
       "      <td>4566.0</td>\n",
       "    </tr>\n",
       "    <tr>\n",
       "      <th>. Additionally ,</th>\n",
       "      <td>724.0</td>\n",
       "      <td>5287.0</td>\n",
       "      <td>-4563.0</td>\n",
       "      <td>4563.0</td>\n",
       "    </tr>\n",
       "    <tr>\n",
       "      <th>Seagoing Cowboys program</th>\n",
       "      <td>877.0</td>\n",
       "      <td>5102.0</td>\n",
       "      <td>-4225.0</td>\n",
       "      <td>4225.0</td>\n",
       "    </tr>\n",
       "    <tr>\n",
       "      <th>, we can</th>\n",
       "      <td>581.0</td>\n",
       "      <td>4651.0</td>\n",
       "      <td>-4070.0</td>\n",
       "      <td>4070.0</td>\n",
       "    </tr>\n",
       "    <tr>\n",
       "      <th>, such as</th>\n",
       "      <td>2199.0</td>\n",
       "      <td>6247.0</td>\n",
       "      <td>-4048.0</td>\n",
       "      <td>4048.0</td>\n",
       "    </tr>\n",
       "    <tr>\n",
       "      <th>Face on Mars</th>\n",
       "      <td>1661.0</td>\n",
       "      <td>5339.0</td>\n",
       "      <td>-3678.0</td>\n",
       "      <td>3678.0</td>\n",
       "    </tr>\n",
       "    <tr>\n",
       "      <th>can lead to</th>\n",
       "      <td>964.0</td>\n",
       "      <td>4636.0</td>\n",
       "      <td>-3672.0</td>\n",
       "      <td>3672.0</td>\n",
       "    </tr>\n",
       "    <tr>\n",
       "      <th>limiting car usage</th>\n",
       "      <td>1928.0</td>\n",
       "      <td>5558.0</td>\n",
       "      <td>-3630.0</td>\n",
       "      <td>3630.0</td>\n",
       "    </tr>\n",
       "    <tr>\n",
       "      <th>the Seagoing Cowboys</th>\n",
       "      <td>1395.0</td>\n",
       "      <td>4918.0</td>\n",
       "      <td>-3523.0</td>\n",
       "      <td>3523.0</td>\n",
       "    </tr>\n",
       "    <tr>\n",
       "      <th>, which can</th>\n",
       "      <td>458.0</td>\n",
       "      <td>3823.0</td>\n",
       "      <td>-3365.0</td>\n",
       "      <td>3365.0</td>\n",
       "    </tr>\n",
       "    <tr>\n",
       "      <th>can help to</th>\n",
       "      <td>151.0</td>\n",
       "      <td>3409.0</td>\n",
       "      <td>-3258.0</td>\n",
       "      <td>3258.0</td>\n",
       "    </tr>\n",
       "    <tr>\n",
       "      <th>, the author</th>\n",
       "      <td>1471.0</td>\n",
       "      <td>4669.0</td>\n",
       "      <td>-3198.0</td>\n",
       "      <td>3198.0</td>\n",
       "    </tr>\n",
       "    <tr>\n",
       "      <th>car usage can</th>\n",
       "      <td>362.0</td>\n",
       "      <td>3557.0</td>\n",
       "      <td>-3195.0</td>\n",
       "      <td>3195.0</td>\n",
       "    </tr>\n",
       "    <tr>\n",
       "      <th>the Face is</th>\n",
       "      <td>519.0</td>\n",
       "      <td>3645.0</td>\n",
       "      <td>-3126.0</td>\n",
       "      <td>3126.0</td>\n",
       "    </tr>\n",
       "    <tr>\n",
       "      <th>the Face on</th>\n",
       "      <td>940.0</td>\n",
       "      <td>3990.0</td>\n",
       "      <td>-3050.0</td>\n",
       "      <td>3050.0</td>\n",
       "    </tr>\n",
       "  </tbody>\n",
       "</table>\n",
       "</div>"
      ],
      "text/plain": [
       "                          student      llm  student_dom  llm_dom\n",
       "In conclusion ,            4141.0  11097.0      -6956.0   6956.0\n",
       "\\n\\n In conclusion         4893.0  10567.0      -5674.0   5674.0\n",
       "the Electoral College      6670.0  12153.0      -5483.0   5483.0\n",
       "that the Face               706.0   5615.0      -4909.0   4909.0\n",
       ", I believe                 858.0   5698.0      -4840.0   4840.0\n",
       "I believe that             2980.0   7546.0      -4566.0   4566.0\n",
       ". Additionally ,            724.0   5287.0      -4563.0   4563.0\n",
       "Seagoing Cowboys program    877.0   5102.0      -4225.0   4225.0\n",
       ", we can                    581.0   4651.0      -4070.0   4070.0\n",
       ", such as                  2199.0   6247.0      -4048.0   4048.0\n",
       "Face on Mars               1661.0   5339.0      -3678.0   3678.0\n",
       "can lead to                 964.0   4636.0      -3672.0   3672.0\n",
       "limiting car usage         1928.0   5558.0      -3630.0   3630.0\n",
       "the Seagoing Cowboys       1395.0   4918.0      -3523.0   3523.0\n",
       ", which can                 458.0   3823.0      -3365.0   3365.0\n",
       "can help to                 151.0   3409.0      -3258.0   3258.0\n",
       ", the author               1471.0   4669.0      -3198.0   3198.0\n",
       "car usage can               362.0   3557.0      -3195.0   3195.0\n",
       "the Face is                 519.0   3645.0      -3126.0   3126.0\n",
       "the Face on                 940.0   3990.0      -3050.0   3050.0"
      ]
     },
     "execution_count": 40,
     "metadata": {},
     "output_type": "execute_result"
    }
   ],
   "source": [
    "trigrams_df.sort_values(by='llm_dom',ascending=False).head(20)"
   ]
  },
  {
   "cell_type": "markdown",
   "metadata": {},
   "source": [
    "Very interesting. As we can see both the LLM essays and student essays tend to utilize first-person. We can see trigrams such as \"I believe that\" and \"I think that\" as popular ones in both groups. The LLM essays seem to restate prompts more and follow a classic essay structure. \"In conclusion\" is the most popular trigrams. I wonder if adding a prompt name feature helps. I imagine that this would help detect LLM essays. I see that LLM essays contain key words found in prompts. We can see that they include things like \"the Electoral College\" for the electoral college prompt. However, this method may only work for prompts found in the dataset. Additional prompts may cause the model to go awry. \n",
    "\n",
    "However, what is clear from this analysis is that the more I extend the ngrams (unigram to bigram to trigram), the more clear is becomes that the LLM essays have more structure and less stop words. The words in the LLM trigrams seem to have more \"meaning\" than the words in the student trigrams. If I need to utilize a deep learning approach, I think using a trigram vocabulary would be something to test (a vocabulary of trigrams, unigrams, and bigrams). This is because if I utilize this type of vocabulary, I can hope to capture some of the structure present in LLM essays and missing in student ones."
   ]
  },
  {
   "cell_type": "markdown",
   "metadata": {},
   "source": [
    "## Does emotion play a role?\n",
    "\n",
    "Some papers have mentioned that LLMs sometimes are devoid of emotion meaning that the texts they produce can be somewhat neutral. Furthermore, LLMs are less likely to produce texts that present negative emotions such as anger due to guardrails placed. In my last experiment, I want to see if emotion changes in the essays. Do student essays have a wider variety of emotions present? To do this, I utilize the Emotion English DistilRoBERTa-base model available on Hugging Face.\n",
    "\n",
    "I will utilize a sample of 1000 random examples stratified from labels to see this since it will take a while for the model to make all the predictions without a GPU. "
   ]
  },
  {
   "cell_type": "code",
   "execution_count": 49,
   "metadata": {},
   "outputs": [],
   "source": [
    "model_tokenizer = AutoTokenizer.from_pretrained(\"j-hartmann/emotion-english-distilroberta-base\")\n",
    "def num_of_tokens(text:str) -> int:\n",
    "    tokenized_text = model_tokenizer(text)['input_ids']\n",
    "    return len(tokenized_text)"
   ]
  },
  {
   "cell_type": "code",
   "execution_count": 50,
   "metadata": {},
   "outputs": [
    {
     "name": "stderr",
     "output_type": "stream",
     "text": [
      "  0%|          | 0/49929 [00:00<?, ?it/s]Token indices sequence length is longer than the specified maximum sequence length for this model (649 > 512). Running this sequence through the model will result in indexing errors\n",
      "100%|██████████| 49929/49929 [05:11<00:00, 160.32it/s]\n"
     ]
    }
   ],
   "source": [
    "# Getting the tokenized text for each text\n",
    "data['token_count'] = data['essay'].progress_apply(num_of_tokens)"
   ]
  },
  {
   "cell_type": "code",
   "execution_count": 51,
   "metadata": {},
   "outputs": [],
   "source": [
    "# Selecting the examples that match the token count\n",
    "valid_examples = data[data['token_count'] <= 512]"
   ]
  },
  {
   "cell_type": "code",
   "execution_count": 52,
   "metadata": {},
   "outputs": [
    {
     "data": {
      "text/plain": [
       "LLM_written\n",
       "0    569\n",
       "1    431\n",
       "Name: count, dtype: int64"
      ]
     },
     "execution_count": 52,
     "metadata": {},
     "output_type": "execute_result"
    }
   ],
   "source": [
    "_, sample = train_test_split(valid_examples,test_size=1000,random_state=42,shuffle=True,stratify=valid_examples['LLM_written'])\n",
    "sample['LLM_written'].value_counts()"
   ]
  },
  {
   "cell_type": "code",
   "execution_count": 53,
   "metadata": {},
   "outputs": [],
   "source": [
    "# Getting the model\n",
    "classifier = pipeline(\"text-classification\", model=\"j-hartmann/emotion-english-distilroberta-base\")"
   ]
  },
  {
   "cell_type": "code",
   "execution_count": 55,
   "metadata": {},
   "outputs": [
    {
     "name": "stderr",
     "output_type": "stream",
     "text": [
      "100%|██████████| 1000/1000 [11:21<00:00,  1.47it/s]\n"
     ]
    }
   ],
   "source": [
    "# Making predictions\n",
    "emotion_predictions = []\n",
    "for essay in tqdm(sample['essay']):\n",
    "    emotion_predictions.append(classifier(essay))"
   ]
  },
  {
   "cell_type": "code",
   "execution_count": 66,
   "metadata": {},
   "outputs": [
    {
     "data": {
      "text/html": [
       "<div>\n",
       "<style scoped>\n",
       "    .dataframe tbody tr th:only-of-type {\n",
       "        vertical-align: middle;\n",
       "    }\n",
       "\n",
       "    .dataframe tbody tr th {\n",
       "        vertical-align: top;\n",
       "    }\n",
       "\n",
       "    .dataframe thead th {\n",
       "        text-align: right;\n",
       "    }\n",
       "</style>\n",
       "<table border=\"1\" class=\"dataframe\">\n",
       "  <thead>\n",
       "    <tr style=\"text-align: right;\">\n",
       "      <th></th>\n",
       "      <th>row_id</th>\n",
       "      <th>prompt</th>\n",
       "      <th>essay</th>\n",
       "      <th>word_count</th>\n",
       "      <th>LLM_written</th>\n",
       "      <th>unique_word_count</th>\n",
       "      <th>unique_to_total</th>\n",
       "      <th>stop_word_count</th>\n",
       "      <th>stop_word_ratio</th>\n",
       "      <th>count_question</th>\n",
       "      <th>count_exclamation</th>\n",
       "      <th>count_semi</th>\n",
       "      <th>count_colon</th>\n",
       "      <th>token_count</th>\n",
       "      <th>emotion_pred</th>\n",
       "    </tr>\n",
       "  </thead>\n",
       "  <tbody>\n",
       "    <tr>\n",
       "      <th>26498</th>\n",
       "      <td>26499</td>\n",
       "      <td>In the article “Driverless Cars are Coming,” t...</td>\n",
       "      <td>In the article \"Driverless Cars Are Coming\" I ...</td>\n",
       "      <td>431</td>\n",
       "      <td>0</td>\n",
       "      <td>178</td>\n",
       "      <td>0.412993</td>\n",
       "      <td>187</td>\n",
       "      <td>0.433875</td>\n",
       "      <td>1</td>\n",
       "      <td>0</td>\n",
       "      <td>0</td>\n",
       "      <td>0</td>\n",
       "      <td>505</td>\n",
       "      <td>anger</td>\n",
       "    </tr>\n",
       "    <tr>\n",
       "      <th>18719</th>\n",
       "      <td>18720</td>\n",
       "      <td>In \"The Challenge of Exploring Venus,\" the aut...</td>\n",
       "      <td>Studying Venus can be a good thing to do, you ...</td>\n",
       "      <td>155</td>\n",
       "      <td>0</td>\n",
       "      <td>82</td>\n",
       "      <td>0.529032</td>\n",
       "      <td>90</td>\n",
       "      <td>0.580645</td>\n",
       "      <td>0</td>\n",
       "      <td>0</td>\n",
       "      <td>0</td>\n",
       "      <td>0</td>\n",
       "      <td>178</td>\n",
       "      <td>neutral</td>\n",
       "    </tr>\n",
       "    <tr>\n",
       "      <th>24920</th>\n",
       "      <td>24921</td>\n",
       "      <td>Your principal is considering changing school ...</td>\n",
       "      <td>Grades in schools\\n\\nGrades and sports are big...</td>\n",
       "      <td>230</td>\n",
       "      <td>0</td>\n",
       "      <td>121</td>\n",
       "      <td>0.526087</td>\n",
       "      <td>126</td>\n",
       "      <td>0.547826</td>\n",
       "      <td>0</td>\n",
       "      <td>1</td>\n",
       "      <td>0</td>\n",
       "      <td>0</td>\n",
       "      <td>275</td>\n",
       "      <td>neutral</td>\n",
       "    </tr>\n",
       "    <tr>\n",
       "      <th>11900</th>\n",
       "      <td>11901</td>\n",
       "      <td>Write an explanatory essay to inform fellow ci...</td>\n",
       "      <td>In the 21st millions of people rely on cars as...</td>\n",
       "      <td>211</td>\n",
       "      <td>0</td>\n",
       "      <td>141</td>\n",
       "      <td>0.668246</td>\n",
       "      <td>91</td>\n",
       "      <td>0.431280</td>\n",
       "      <td>0</td>\n",
       "      <td>0</td>\n",
       "      <td>0</td>\n",
       "      <td>0</td>\n",
       "      <td>274</td>\n",
       "      <td>neutral</td>\n",
       "    </tr>\n",
       "    <tr>\n",
       "      <th>14931</th>\n",
       "      <td>14932</td>\n",
       "      <td>You have just read the article, 'A Cowboy Who ...</td>\n",
       "      <td>I think you should join the Seagoing Cowboys. ...</td>\n",
       "      <td>348</td>\n",
       "      <td>0</td>\n",
       "      <td>171</td>\n",
       "      <td>0.491379</td>\n",
       "      <td>173</td>\n",
       "      <td>0.497126</td>\n",
       "      <td>4</td>\n",
       "      <td>5</td>\n",
       "      <td>0</td>\n",
       "      <td>0</td>\n",
       "      <td>441</td>\n",
       "      <td>neutral</td>\n",
       "    </tr>\n",
       "  </tbody>\n",
       "</table>\n",
       "</div>"
      ],
      "text/plain": [
       "       row_id                                             prompt  \\\n",
       "26498   26499  In the article “Driverless Cars are Coming,” t...   \n",
       "18719   18720  In \"The Challenge of Exploring Venus,\" the aut...   \n",
       "24920   24921  Your principal is considering changing school ...   \n",
       "11900   11901  Write an explanatory essay to inform fellow ci...   \n",
       "14931   14932  You have just read the article, 'A Cowboy Who ...   \n",
       "\n",
       "                                                   essay  word_count  \\\n",
       "26498  In the article \"Driverless Cars Are Coming\" I ...         431   \n",
       "18719  Studying Venus can be a good thing to do, you ...         155   \n",
       "24920  Grades in schools\\n\\nGrades and sports are big...         230   \n",
       "11900  In the 21st millions of people rely on cars as...         211   \n",
       "14931  I think you should join the Seagoing Cowboys. ...         348   \n",
       "\n",
       "       LLM_written  unique_word_count  unique_to_total  stop_word_count  \\\n",
       "26498            0                178         0.412993              187   \n",
       "18719            0                 82         0.529032               90   \n",
       "24920            0                121         0.526087              126   \n",
       "11900            0                141         0.668246               91   \n",
       "14931            0                171         0.491379              173   \n",
       "\n",
       "       stop_word_ratio  count_question  count_exclamation  count_semi  \\\n",
       "26498         0.433875               1                  0           0   \n",
       "18719         0.580645               0                  0           0   \n",
       "24920         0.547826               0                  1           0   \n",
       "11900         0.431280               0                  0           0   \n",
       "14931         0.497126               4                  5           0   \n",
       "\n",
       "       count_colon  token_count emotion_pred  \n",
       "26498            0          505        anger  \n",
       "18719            0          178      neutral  \n",
       "24920            0          275      neutral  \n",
       "11900            0          274      neutral  \n",
       "14931            0          441      neutral  "
      ]
     },
     "execution_count": 66,
     "metadata": {},
     "output_type": "execute_result"
    }
   ],
   "source": [
    "sample['emotion_pred'] = [exam['label'] for exam in [example[0] for example in emotion_predictions]]\n",
    "sample.head()"
   ]
  },
  {
   "cell_type": "code",
   "execution_count": 68,
   "metadata": {},
   "outputs": [
    {
     "name": "stderr",
     "output_type": "stream",
     "text": [
      "100%|██████████| 1000/1000 [00:00<00:00, 712832.09it/s]\n"
     ]
    }
   ],
   "source": [
    "# Converting LLM_written to categories\n",
    "def llm_written_cat(label:int) -> str:\n",
    "    if label == 1:\n",
    "        return 'LLM'\n",
    "    else:\n",
    "        return 'student'\n",
    "sample['LLM_written_cat'] = sample['LLM_written'].progress_apply(llm_written_cat)        "
   ]
  },
  {
   "cell_type": "code",
   "execution_count": 81,
   "metadata": {},
   "outputs": [
    {
     "data": {
      "image/png": "[encoded data removed]",
      "text/plain": [
       "<Figure size 640x480 with 1 Axes>"
      ]
     },
     "metadata": {},
     "output_type": "display_data"
    }
   ],
   "source": [
    "# Making a histogram\n",
    "plt.title('Emotion Prediction Per Class')\n",
    "plot = sns.countplot(sample,x='LLM_written_cat',hue='emotion_pred')\n",
    "for i in plot.containers:\n",
    "    plot.bar_label(i,)\n",
    "plt.show()"
   ]
  },
  {
   "cell_type": "code",
   "execution_count": 103,
   "metadata": {},
   "outputs": [
    {
     "data": {
      "text/plain": [
       "emotion_pred\n",
       "neutral     0.632689\n",
       "anger       0.098418\n",
       "fear        0.075571\n",
       "joy         0.072056\n",
       "disgust     0.047452\n",
       "sadness     0.045694\n",
       "surprise    0.028120\n",
       "Name: count, dtype: float64"
      ]
     },
     "execution_count": 103,
     "metadata": {},
     "output_type": "execute_result"
    }
   ],
   "source": [
    "# How the emotions are broken up for students\n",
    "probs_given_student = sample[sample['LLM_written'] == 0]['emotion_pred'].value_counts() / sample[sample['LLM_written'] == 0].shape[0]\n",
    "probs_given_student"
   ]
  },
  {
   "cell_type": "code",
   "execution_count": 105,
   "metadata": {},
   "outputs": [
    {
     "data": {
      "text/plain": [
       "emotion_pred\n",
       "neutral     0.777262\n",
       "joy         0.071926\n",
       "fear        0.064965\n",
       "disgust     0.058005\n",
       "anger       0.018561\n",
       "sadness     0.006961\n",
       "surprise    0.002320\n",
       "Name: count, dtype: float64"
      ]
     },
     "execution_count": 105,
     "metadata": {},
     "output_type": "execute_result"
    }
   ],
   "source": [
    "# How the emotions are broken up for LLM\n",
    "probs_given_llm = sample[sample['LLM_written'] == 1]['emotion_pred'].value_counts() / sample[sample['LLM_written'] == 1].shape[0]\n",
    "probs_given_llm"
   ]
  },
  {
   "cell_type": "code",
   "execution_count": 107,
   "metadata": {},
   "outputs": [
    {
     "data": {
      "text/plain": [
       "emotion_pred\n",
       "neutral     0.695\n",
       "joy         0.072\n",
       "fear        0.071\n",
       "anger       0.064\n",
       "disgust     0.052\n",
       "sadness     0.029\n",
       "surprise    0.017\n",
       "Name: count, dtype: float64"
      ]
     },
     "execution_count": 107,
     "metadata": {},
     "output_type": "execute_result"
    }
   ],
   "source": [
    "# Overall probabilities\n",
    "sample_probs = sample['emotion_pred'].value_counts() / sample.shape[0]\n",
    "sample_probs"
   ]
  },
  {
   "cell_type": "code",
   "execution_count": 109,
   "metadata": {},
   "outputs": [
    {
     "data": {
      "text/plain": [
       "emotion_pred\n",
       "anger       0.875000\n",
       "disgust     0.519231\n",
       "fear        0.605634\n",
       "joy         0.569444\n",
       "neutral     0.517986\n",
       "sadness     0.896552\n",
       "surprise    0.941176\n",
       "Name: count, dtype: float64"
      ]
     },
     "execution_count": 109,
     "metadata": {},
     "output_type": "execute_result"
    }
   ],
   "source": [
    "# Using bayes rule to find P(y = student | emotion) and P(y = llm | emotion)\n",
    "total_probs = sample['LLM_written'].value_counts() / sample.shape[0]\n",
    "student_given_emotion = (probs_given_student * total_probs[0]) / sample_probs \n",
    "llm_given_emotion = probs_given_llm * total_probs[1] / sample_probs \n",
    "student_given_emotion"
   ]
  },
  {
   "cell_type": "code",
   "execution_count": 98,
   "metadata": {},
   "outputs": [
    {
     "data": {
      "text/plain": [
       "emotion_pred\n",
       "anger       0.125000\n",
       "disgust     0.480769\n",
       "fear        0.394366\n",
       "joy         0.430556\n",
       "neutral     0.482014\n",
       "sadness     0.103448\n",
       "surprise    0.058824\n",
       "Name: count, dtype: float64"
      ]
     },
     "execution_count": 98,
     "metadata": {},
     "output_type": "execute_result"
    }
   ],
   "source": [
    "llm_given_emotion"
   ]
  },
  {
   "cell_type": "markdown",
   "metadata": {},
   "source": [
    "Analysis:\n",
    "\n",
    "From the plot, I identified that student essays tend to have a lot more anger, surprise, and sadness emotions predicted. From this finding, I decided to utilize Bayes Rule to find P(Y|Emotion) for each Y and each emotion. The probabilities I found lined up with the findings from the plot: If an essay is predicted to have an angry tone, there is almost guranteed to be a student essay. The same can be said for sadness and surprise. For fear, whilst there are no gurantees, there is a higher chance for an essay to be a student's essay if it is predicted to exhibit fear. Disgust, joy, and neutral are relatively the same probabilities. \n",
    "\n",
    "TLDR: I need to add categorical features that mark whether an essay exhibits anger, surprise, sadness or fear. I found this to be suitable predictors."
   ]
  },
  {
   "cell_type": "code",
   "execution_count": 111,
   "metadata": {},
   "outputs": [
    {
     "name": "stdout",
     "output_type": "stream",
     "text": [
      "2024-01-12 03:44:03,306 INFO sqlalchemy.engine.Engine ROLLBACK\n"
     ]
    }
   ],
   "source": [
    "# Closing connections and deleting the engine\n",
    "db_conn.close()\n",
    "db_engine.dispose()"
   ]
  }
 ],
 "metadata": {
  "kernelspec": {
   "display_name": "authentic-ai",
   "language": "python",
   "name": "python3"
  },
  "language_info": {
   "codemirror_mode": {
    "name": "ipython",
    "version": 3
   },
   "file_extension": ".py",
   "mimetype": "text/x-python",
   "name": "python",
   "nbconvert_exporter": "python",
   "pygments_lexer": "ipython3",
   "version": "3.10.0"
  }
 },
 "nbformat": 4,
 "nbformat_minor": 2
}
