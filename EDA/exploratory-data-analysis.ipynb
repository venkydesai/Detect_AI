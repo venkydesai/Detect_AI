{
 "cells": [
  {
   "cell_type": "markdown",
   "metadata": {},
   "source": [
    "# Exploratory Data Analysis\n",
    "\n",
    "This notebook will go through the exploratory data analysis of the data. I will ask questions based on my learnings in research papers and explore the data."
   ]
  },
  {
   "cell_type": "code",
   "execution_count": 47,
   "metadata": {},
   "outputs": [],
   "source": [
    "# Importing libraries\n",
    "import pandas as pd\n",
    "import matplotlib.pyplot as plt\n",
    "import seaborn as sns\n",
    "import sys\n",
    "import sqlalchemy\n",
    "from transformers import pipeline, RobertaTokenizer\n",
    "from tqdm import tqdm\n",
    "from sklearn.model_selection import train_test_split\n",
    "from sklearn.metrics import accuracy_score, confusion_matrix, ConfusionMatrixDisplay\n",
    "import language_tool_python\n",
    "import torchtext\n",
    "from torchtext.data import get_tokenizer\n",
    "\n",
    "# Adding the credentials\n",
    "sys.path.append('../')\n",
    "from credentials import credentials\n",
    "\n",
    "# Making pandas tqdm\n",
    "tqdm.pandas()"
   ]
  },
  {
   "cell_type": "code",
   "execution_count": 2,
   "metadata": {},
   "outputs": [
    {
     "name": "stdout",
     "output_type": "stream",
     "text": [
      "2024-01-10 21:15:26,348 INFO sqlalchemy.engine.Engine SELECT DATABASE()\n"
     ]
    },
    {
     "name": "stderr",
     "output_type": "stream",
     "text": [
      "SELECT DATABASE()\n"
     ]
    },
    {
     "name": "stdout",
     "output_type": "stream",
     "text": [
      "2024-01-10 21:15:26,350 INFO sqlalchemy.engine.Engine [raw sql] {}\n"
     ]
    },
    {
     "name": "stderr",
     "output_type": "stream",
     "text": [
      "[raw sql] {}\n"
     ]
    },
    {
     "name": "stdout",
     "output_type": "stream",
     "text": [
      "2024-01-10 21:15:26,355 INFO sqlalchemy.engine.Engine SELECT @@sql_mode\n"
     ]
    },
    {
     "name": "stderr",
     "output_type": "stream",
     "text": [
      "SELECT @@sql_mode\n"
     ]
    },
    {
     "name": "stdout",
     "output_type": "stream",
     "text": [
      "2024-01-10 21:15:26,357 INFO sqlalchemy.engine.Engine [raw sql] {}\n"
     ]
    },
    {
     "name": "stderr",
     "output_type": "stream",
     "text": [
      "[raw sql] {}\n"
     ]
    },
    {
     "name": "stdout",
     "output_type": "stream",
     "text": [
      "2024-01-10 21:15:26,361 INFO sqlalchemy.engine.Engine SELECT @@lower_case_table_names\n"
     ]
    },
    {
     "name": "stderr",
     "output_type": "stream",
     "text": [
      "SELECT @@lower_case_table_names\n"
     ]
    },
    {
     "name": "stdout",
     "output_type": "stream",
     "text": [
      "2024-01-10 21:15:26,363 INFO sqlalchemy.engine.Engine [raw sql] {}\n"
     ]
    },
    {
     "name": "stderr",
     "output_type": "stream",
     "text": [
      "[raw sql] {}\n"
     ]
    }
   ],
   "source": [
    "# Creating the database engine \n",
    "connector_string = f'mysql+mysqlconnector://{credentials[\"user\"]}:{credentials[\"password\"]}@{credentials[\"host\"]}/AuthenticAI'\n",
    "db_engine = sqlalchemy.create_engine(connector_string,echo=True)\n",
    "\n",
    "# Connecting to the database\n",
    "db_conn = db_engine.connect()"
   ]
  },
  {
   "cell_type": "markdown",
   "metadata": {},
   "source": [
    "## What is the distribution of the labels? How many student written essays are there? How many LLM generated essays? Is there an imbalance?"
   ]
  },
  {
   "cell_type": "code",
   "execution_count": 3,
   "metadata": {},
   "outputs": [
    {
     "name": "stdout",
     "output_type": "stream",
     "text": [
      "2024-01-10 21:15:28,065 INFO sqlalchemy.engine.Engine BEGIN (implicit)\n"
     ]
    },
    {
     "name": "stderr",
     "output_type": "stream",
     "text": [
      "BEGIN (implicit)\n"
     ]
    },
    {
     "name": "stdout",
     "output_type": "stream",
     "text": [
      "2024-01-10 21:15:28,069 INFO sqlalchemy.engine.Engine select count(*) from essays where essays.LLM_written = 0;\n"
     ]
    },
    {
     "name": "stderr",
     "output_type": "stream",
     "text": [
      "select count(*) from essays where essays.LLM_written = 0;\n"
     ]
    },
    {
     "name": "stdout",
     "output_type": "stream",
     "text": [
      "2024-01-10 21:15:28,072 INFO sqlalchemy.engine.Engine [generated in 0.00854s] {}\n"
     ]
    },
    {
     "name": "stderr",
     "output_type": "stream",
     "text": [
      "[generated in 0.00854s] {}\n"
     ]
    },
    {
     "name": "stdout",
     "output_type": "stream",
     "text": [
      "2024-01-10 21:15:28,985 INFO sqlalchemy.engine.Engine select count(*) from essays where essays.LLM_written = 1;\n"
     ]
    },
    {
     "name": "stderr",
     "output_type": "stream",
     "text": [
      "select count(*) from essays where essays.LLM_written = 1;\n"
     ]
    },
    {
     "name": "stdout",
     "output_type": "stream",
     "text": [
      "2024-01-10 21:15:28,986 INFO sqlalchemy.engine.Engine [generated in 0.00173s] {}\n"
     ]
    },
    {
     "name": "stderr",
     "output_type": "stream",
     "text": [
      "[generated in 0.00173s] {}\n"
     ]
    }
   ],
   "source": [
    "student_written_count = [i[0] for i in db_conn.execute(sqlalchemy.text('select count(*) from essays where essays.LLM_written = 0;'))][0]\n",
    "llm_written_count = [i[0] for i in db_conn.execute(sqlalchemy.text('select count(*) from essays where essays.LLM_written = 1;'))][0]"
   ]
  },
  {
   "cell_type": "code",
   "execution_count": 4,
   "metadata": {},
   "outputs": [
    {
     "data": {
      "image/png": "[encoded data removed]",
      "text/plain": [
       "<Figure size 640x480 with 1 Axes>"
      ]
     },
     "metadata": {},
     "output_type": "display_data"
    }
   ],
   "source": [
    "# Plotting the numbers in a pie chart\n",
    "classes = ['Student Written','LLM Written']\n",
    "data = [student_written_count, llm_written_count]\n",
    "\n",
    "plt.pie(x=data,labels=classes,autopct='%.0f%%')\n",
    "plt.title('Percentage of Data per Class')\n",
    "plt.show()"
   ]
  },
  {
   "cell_type": "markdown",
   "metadata": {},
   "source": [
    "## What is the mean, median, and standard deviation of the number of words per each class? Is there a significant difference?"
   ]
  },
  {
   "cell_type": "code",
   "execution_count": 5,
   "metadata": {},
   "outputs": [
    {
     "name": "stdout",
     "output_type": "stream",
     "text": [
      "2024-01-10 21:15:31,395 INFO sqlalchemy.engine.Engine select word_count, LLM_written from essays;\n"
     ]
    },
    {
     "name": "stderr",
     "output_type": "stream",
     "text": [
      "select word_count, LLM_written from essays;\n"
     ]
    },
    {
     "name": "stdout",
     "output_type": "stream",
     "text": [
      "2024-01-10 21:15:31,400 INFO sqlalchemy.engine.Engine [generated in 0.00498s] {}\n"
     ]
    },
    {
     "name": "stderr",
     "output_type": "stream",
     "text": [
      "[generated in 0.00498s] {}\n"
     ]
    }
   ],
   "source": [
    "word_counts = pd.DataFrame([i for i in db_conn.execute(sqlalchemy.text('select word_count, LLM_written from essays;'))])"
   ]
  },
  {
   "cell_type": "code",
   "execution_count": 6,
   "metadata": {},
   "outputs": [
    {
     "data": {
      "image/png": "[encoded data removed]",
      "text/plain": [
       "<Figure size 1500x600 with 1 Axes>"
      ]
     },
     "metadata": {},
     "output_type": "display_data"
    }
   ],
   "source": [
    "plt.figure(figsize=(15,6))\n",
    "sns.boxplot(data=word_counts,x='word_count',hue='LLM_written')\n",
    "plt.title('Box Plot of Word Counts for Each Class')\n",
    "plt.show()"
   ]
  },
  {
   "cell_type": "markdown",
   "metadata": {},
   "source": [
    "Figure isn't great due to various outliers in the student written essays. Perhaps plotting distributions could help."
   ]
  },
  {
   "cell_type": "code",
   "execution_count": 7,
   "metadata": {},
   "outputs": [
    {
     "data": {
      "image/png": "[encoded data removed]",
      "text/plain": [
       "<Figure size 640x480 with 1 Axes>"
      ]
     },
     "metadata": {},
     "output_type": "display_data"
    }
   ],
   "source": [
    "plt.title('Distribution of Word Counts for Each Class')\n",
    "sns.histplot(data=word_counts,x='word_count',hue='LLM_written')\n",
    "plt.show()"
   ]
  },
  {
   "cell_type": "markdown",
   "metadata": {},
   "source": [
    "This plot is a bit better, but not by much. It illustrates that the distribution of student written essays is skewed ,and it looks as the central statistic is bigger. However, the student essays seem to have more standard deviation and variance."
   ]
  },
  {
   "cell_type": "code",
   "execution_count": 8,
   "metadata": {},
   "outputs": [
    {
     "name": "stdout",
     "output_type": "stream",
     "text": [
      "Student Written Essay Descriptive Statistics\n",
      "count    31856.000000\n",
      "mean       500.700402\n",
      "std        515.048760\n",
      "min         48.000000\n",
      "25%        284.000000\n",
      "50%        401.000000\n",
      "75%        558.000000\n",
      "max      19729.000000\n",
      "Name: word_count, dtype: float64\n",
      "\n",
      "LLM Written Essay Descriptive Statistics\n",
      "count    18073.000000\n",
      "mean       346.715985\n",
      "std        124.453252\n",
      "min         25.000000\n",
      "25%        258.000000\n",
      "50%        345.000000\n",
      "75%        433.000000\n",
      "max        821.000000\n",
      "Name: word_count, dtype: float64\n"
     ]
    }
   ],
   "source": [
    "print('Student Written Essay Descriptive Statistics')\n",
    "print(word_counts[word_counts['LLM_written'] == 0]['word_count'].describe())\n",
    "print()\n",
    "print('LLM Written Essay Descriptive Statistics')\n",
    "print(word_counts[word_counts['LLM_written'] == 1]['word_count'].describe())"
   ]
  },
  {
   "cell_type": "markdown",
   "metadata": {},
   "source": [
    "The table confirms suspicions that the student written essays tend to have a higher word count than the LLM written essays. If we look at the statistics, we can see that the median number of words for the student written essays is 56 words than the LLM written essays. Furthermore, the maximum number of words in a student written essay is 19729, which is much larger than the maximum number of words in the LLM written essays (821). While the standard deviation for the student written essays is much higher, the median and max count confirm the fact that student written essays tend to have higher word count than LLM written essays. This is a good feature to have for the classical ML models. "
   ]
  },
  {
   "cell_type": "markdown",
   "metadata": {},
   "source": [
    "## Can a LLM detect whether an essay is LLM Generated?\n",
    "\n",
    "In this section, I want to see if a LLM can detect whether an essay was written by a LLM. This question stems from the paper \"Will ChatGPT get you caught? Rethinking of Plagiarism Detection\". In this paper, the researchers showed that ChatGPT was able to achieve an accuracy of over 92% in detecting whether an essay was written by ChatGPT. However, one cavet of the paper was that the dataset was composed of essays written only by ChatGPT. Furthermore, OpenAI's API is not free, hence I won't be able to test this result and see how it works on my dataset. Fortunately, in the research paper \"Release Strategies and the Social Impacts of Language Models\", the researchers were able to fine-tune a RoBERTA model to get an accuracy of approximately 95% of this task. An important thing to mention here is that the model was fine-tuned on outputs from GPT-2; however, the model is open source on Hugging Face and free of charge, thus it would be a good idea to test this theory.\n",
    "\n",
    "In short, in this section, I utilize the RoBERTA Base OpenAI Detector by OpenAI (available on Hugging Face) to see if a LLM can detect whether an essay was written by a LLM. The results of this experiment will be interesting as this model has been trained to detect text written by GPT-2 ,and my data contains essays written from a variety of LLMs."
   ]
  },
  {
   "cell_type": "code",
   "execution_count": 9,
   "metadata": {},
   "outputs": [
    {
     "name": "stderr",
     "output_type": "stream",
     "text": [
      "Some weights of the model checkpoint at roberta-base-openai-detector were not used when initializing RobertaForSequenceClassification: ['roberta.pooler.dense.weight', 'roberta.pooler.dense.bias']\n",
      "- This IS expected if you are initializing RobertaForSequenceClassification from the checkpoint of a model trained on another task or with another architecture (e.g. initializing a BertForSequenceClassification model from a BertForPreTraining model).\n",
      "- This IS NOT expected if you are initializing RobertaForSequenceClassification from the checkpoint of a model that you expect to be exactly identical (initializing a BertForSequenceClassification model from a BertForSequenceClassification model).\n"
     ]
    }
   ],
   "source": [
    "# Getting the model and tokenizer\n",
    "detector = pipeline(\"text-classification\",\"roberta-base-openai-detector\")\n",
    "tokenizer = RobertaTokenizer.from_pretrained('roberta-base')"
   ]
  },
  {
   "cell_type": "code",
   "execution_count": 10,
   "metadata": {},
   "outputs": [
    {
     "name": "stdout",
     "output_type": "stream",
     "text": [
      "2024-01-10 21:15:56,310 INFO sqlalchemy.engine.Engine select essay, LLM_written from essays;\n"
     ]
    },
    {
     "name": "stderr",
     "output_type": "stream",
     "text": [
      "select essay, LLM_written from essays;\n"
     ]
    },
    {
     "name": "stdout",
     "output_type": "stream",
     "text": [
      "2024-01-10 21:15:56,355 INFO sqlalchemy.engine.Engine [generated in 0.04732s] {}\n"
     ]
    },
    {
     "name": "stderr",
     "output_type": "stream",
     "text": [
      "[generated in 0.04732s] {}\n"
     ]
    }
   ],
   "source": [
    "# Getting the text and corresponding labels\n",
    "text_and_labels = pd.DataFrame([i for i in db_conn.execute(sqlalchemy.text('select essay, LLM_written from essays;'))])"
   ]
  },
  {
   "cell_type": "code",
   "execution_count": 11,
   "metadata": {},
   "outputs": [],
   "source": [
    "# A function to see the length of the tokenized text\n",
    "# RoBERTA has a limit of 512 tokens and breaks if you provide more.\n",
    "# I need to choose the examples with <= 512 tokens\n",
    "def num_of_tokens(text:str) -> int:\n",
    "    tokenized_text = tokenizer(text)['input_ids']\n",
    "    return len(tokenized_text)"
   ]
  },
  {
   "cell_type": "code",
   "execution_count": 13,
   "metadata": {},
   "outputs": [
    {
     "name": "stderr",
     "output_type": "stream",
     "text": [
      "100%|██████████| 49929/49929 [07:18<00:00, 113.93it/s]\n"
     ]
    },
    {
     "data": {
      "text/html": [
       "<div>\n",
       "<style scoped>\n",
       "    .dataframe tbody tr th:only-of-type {\n",
       "        vertical-align: middle;\n",
       "    }\n",
       "\n",
       "    .dataframe tbody tr th {\n",
       "        vertical-align: top;\n",
       "    }\n",
       "\n",
       "    .dataframe thead th {\n",
       "        text-align: right;\n",
       "    }\n",
       "</style>\n",
       "<table border=\"1\" class=\"dataframe\">\n",
       "  <thead>\n",
       "    <tr style=\"text-align: right;\">\n",
       "      <th></th>\n",
       "      <th>essay</th>\n",
       "      <th>LLM_written</th>\n",
       "      <th>token_count</th>\n",
       "    </tr>\n",
       "  </thead>\n",
       "  <tbody>\n",
       "    <tr>\n",
       "      <th>0</th>\n",
       "      <td>Dear State Senator,\\n\\nI'm writting to you tod...</td>\n",
       "      <td>1</td>\n",
       "      <td>343</td>\n",
       "    </tr>\n",
       "    <tr>\n",
       "      <th>1</th>\n",
       "      <td>Uh, hi! So, like, summers are, like, awesome r...</td>\n",
       "      <td>1</td>\n",
       "      <td>449</td>\n",
       "    </tr>\n",
       "    <tr>\n",
       "      <th>2</th>\n",
       "      <td>When peoples ask for advices, they sometimes t...</td>\n",
       "      <td>1</td>\n",
       "      <td>383</td>\n",
       "    </tr>\n",
       "    <tr>\n",
       "      <th>3</th>\n",
       "      <td>I think art edukation is super impotent for ki...</td>\n",
       "      <td>1</td>\n",
       "      <td>388</td>\n",
       "    </tr>\n",
       "    <tr>\n",
       "      <th>4</th>\n",
       "      <td>I think we should totally switch to renewable ...</td>\n",
       "      <td>1</td>\n",
       "      <td>350</td>\n",
       "    </tr>\n",
       "  </tbody>\n",
       "</table>\n",
       "</div>"
      ],
      "text/plain": [
       "                                               essay  LLM_written  token_count\n",
       "0  Dear State Senator,\\n\\nI'm writting to you tod...            1          343\n",
       "1  Uh, hi! So, like, summers are, like, awesome r...            1          449\n",
       "2  When peoples ask for advices, they sometimes t...            1          383\n",
       "3  I think art edukation is super impotent for ki...            1          388\n",
       "4  I think we should totally switch to renewable ...            1          350"
      ]
     },
     "execution_count": 13,
     "metadata": {},
     "output_type": "execute_result"
    }
   ],
   "source": [
    "# Getting the tokenized text for each text\n",
    "text_and_labels['token_count'] = text_and_labels['essay'].progress_apply(num_of_tokens)\n",
    "text_and_labels.head()"
   ]
  },
  {
   "cell_type": "code",
   "execution_count": 14,
   "metadata": {},
   "outputs": [
    {
     "data": {
      "text/html": [
       "<div>\n",
       "<style scoped>\n",
       "    .dataframe tbody tr th:only-of-type {\n",
       "        vertical-align: middle;\n",
       "    }\n",
       "\n",
       "    .dataframe tbody tr th {\n",
       "        vertical-align: top;\n",
       "    }\n",
       "\n",
       "    .dataframe thead th {\n",
       "        text-align: right;\n",
       "    }\n",
       "</style>\n",
       "<table border=\"1\" class=\"dataframe\">\n",
       "  <thead>\n",
       "    <tr style=\"text-align: right;\">\n",
       "      <th></th>\n",
       "      <th>essay</th>\n",
       "      <th>LLM_written</th>\n",
       "      <th>token_count</th>\n",
       "    </tr>\n",
       "  </thead>\n",
       "  <tbody>\n",
       "    <tr>\n",
       "      <th>0</th>\n",
       "      <td>Dear State Senator,\\n\\nI'm writting to you tod...</td>\n",
       "      <td>1</td>\n",
       "      <td>343</td>\n",
       "    </tr>\n",
       "    <tr>\n",
       "      <th>1</th>\n",
       "      <td>Uh, hi! So, like, summers are, like, awesome r...</td>\n",
       "      <td>1</td>\n",
       "      <td>449</td>\n",
       "    </tr>\n",
       "    <tr>\n",
       "      <th>2</th>\n",
       "      <td>When peoples ask for advices, they sometimes t...</td>\n",
       "      <td>1</td>\n",
       "      <td>383</td>\n",
       "    </tr>\n",
       "    <tr>\n",
       "      <th>3</th>\n",
       "      <td>I think art edukation is super impotent for ki...</td>\n",
       "      <td>1</td>\n",
       "      <td>388</td>\n",
       "    </tr>\n",
       "    <tr>\n",
       "      <th>4</th>\n",
       "      <td>I think we should totally switch to renewable ...</td>\n",
       "      <td>1</td>\n",
       "      <td>350</td>\n",
       "    </tr>\n",
       "  </tbody>\n",
       "</table>\n",
       "</div>"
      ],
      "text/plain": [
       "                                               essay  LLM_written  token_count\n",
       "0  Dear State Senator,\\n\\nI'm writting to you tod...            1          343\n",
       "1  Uh, hi! So, like, summers are, like, awesome r...            1          449\n",
       "2  When peoples ask for advices, they sometimes t...            1          383\n",
       "3  I think art edukation is super impotent for ki...            1          388\n",
       "4  I think we should totally switch to renewable ...            1          350"
      ]
     },
     "execution_count": 14,
     "metadata": {},
     "output_type": "execute_result"
    }
   ],
   "source": [
    "# Selecting the examples that match the token count\n",
    "valid_examples = text_and_labels[text_and_labels['token_count'] <= 512]\n",
    "valid_examples.head()"
   ]
  },
  {
   "cell_type": "code",
   "execution_count": 15,
   "metadata": {},
   "outputs": [
    {
     "data": {
      "text/plain": [
       "(31095, 3)"
      ]
     },
     "execution_count": 15,
     "metadata": {},
     "output_type": "execute_result"
    }
   ],
   "source": [
    "# Checking how many examples there are\n",
    "valid_examples.shape"
   ]
  },
  {
   "cell_type": "code",
   "execution_count": 16,
   "metadata": {},
   "outputs": [
    {
     "data": {
      "text/plain": [
       "LLM_written\n",
       "0    569\n",
       "1    431\n",
       "Name: count, dtype: int64"
      ]
     },
     "execution_count": 16,
     "metadata": {},
     "output_type": "execute_result"
    }
   ],
   "source": [
    "# Running the model through 31000 examples takes some time since \n",
    "# I am running it on CPU. It takes about 2 mins to get predictions on \n",
    "# 100 examples. Will run on 500 randomly selected examples (Stratified by LLM_written) \n",
    "# and make prediction. \n",
    "_, sample = train_test_split(valid_examples,test_size=1000,random_state=42,shuffle=True,stratify=valid_examples['LLM_written'])\n",
    "sample['LLM_written'].value_counts()"
   ]
  },
  {
   "cell_type": "code",
   "execution_count": 17,
   "metadata": {},
   "outputs": [],
   "source": [
    "# Getting the predictions\n",
    "predictions = detector(sample['essay'].tolist())"
   ]
  },
  {
   "cell_type": "code",
   "execution_count": 18,
   "metadata": {},
   "outputs": [
    {
     "data": {
      "text/html": [
       "<div>\n",
       "<style scoped>\n",
       "    .dataframe tbody tr th:only-of-type {\n",
       "        vertical-align: middle;\n",
       "    }\n",
       "\n",
       "    .dataframe tbody tr th {\n",
       "        vertical-align: top;\n",
       "    }\n",
       "\n",
       "    .dataframe thead th {\n",
       "        text-align: right;\n",
       "    }\n",
       "</style>\n",
       "<table border=\"1\" class=\"dataframe\">\n",
       "  <thead>\n",
       "    <tr style=\"text-align: right;\">\n",
       "      <th></th>\n",
       "      <th>essay</th>\n",
       "      <th>LLM_written</th>\n",
       "      <th>token_count</th>\n",
       "      <th>predictions</th>\n",
       "    </tr>\n",
       "  </thead>\n",
       "  <tbody>\n",
       "    <tr>\n",
       "      <th>26498</th>\n",
       "      <td>In the article \"Driverless Cars Are Coming\" I ...</td>\n",
       "      <td>0</td>\n",
       "      <td>505</td>\n",
       "      <td>0</td>\n",
       "    </tr>\n",
       "    <tr>\n",
       "      <th>18719</th>\n",
       "      <td>Studying Venus can be a good thing to do, you ...</td>\n",
       "      <td>0</td>\n",
       "      <td>178</td>\n",
       "      <td>0</td>\n",
       "    </tr>\n",
       "    <tr>\n",
       "      <th>24920</th>\n",
       "      <td>Grades in schools\\n\\nGrades and sports are big...</td>\n",
       "      <td>0</td>\n",
       "      <td>275</td>\n",
       "      <td>0</td>\n",
       "    </tr>\n",
       "    <tr>\n",
       "      <th>11900</th>\n",
       "      <td>In the 21st millions of people rely on cars as...</td>\n",
       "      <td>0</td>\n",
       "      <td>274</td>\n",
       "      <td>0</td>\n",
       "    </tr>\n",
       "    <tr>\n",
       "      <th>14931</th>\n",
       "      <td>I think you should join the Seagoing Cowboys. ...</td>\n",
       "      <td>0</td>\n",
       "      <td>441</td>\n",
       "      <td>0</td>\n",
       "    </tr>\n",
       "  </tbody>\n",
       "</table>\n",
       "</div>"
      ],
      "text/plain": [
       "                                                   essay  LLM_written  \\\n",
       "26498  In the article \"Driverless Cars Are Coming\" I ...            0   \n",
       "18719  Studying Venus can be a good thing to do, you ...            0   \n",
       "24920  Grades in schools\\n\\nGrades and sports are big...            0   \n",
       "11900  In the 21st millions of people rely on cars as...            0   \n",
       "14931  I think you should join the Seagoing Cowboys. ...            0   \n",
       "\n",
       "       token_count  predictions  \n",
       "26498          505            0  \n",
       "18719          178            0  \n",
       "24920          275            0  \n",
       "11900          274            0  \n",
       "14931          441            0  "
      ]
     },
     "execution_count": 18,
     "metadata": {},
     "output_type": "execute_result"
    }
   ],
   "source": [
    "# Getting the list of predictions\n",
    "pred_list = [0 if pred['label'] == 'Real' else 1 for pred in predictions]\n",
    "sample['predictions'] = pred_list\n",
    "sample.head()"
   ]
  },
  {
   "cell_type": "code",
   "execution_count": 19,
   "metadata": {},
   "outputs": [
    {
     "name": "stdout",
     "output_type": "stream",
     "text": [
      "Accuracy: 86.3%\n"
     ]
    }
   ],
   "source": [
    "# Calculating the accuracy\n",
    "accuracy = accuracy_score(sample['LLM_written'],sample['predictions'])\n",
    "print(f'Accuracy: {accuracy * 100}%')"
   ]
  },
  {
   "cell_type": "code",
   "execution_count": 20,
   "metadata": {},
   "outputs": [
    {
     "data": {
      "image/png": "[encoded data removed]",
      "text/plain": [
       "<Figure size 640x480 with 2 Axes>"
      ]
     },
     "metadata": {},
     "output_type": "display_data"
    }
   ],
   "source": [
    "# Looking at a confusion matrix\n",
    "matrix = confusion_matrix(sample['LLM_written'],sample['predictions'])\n",
    "display = ConfusionMatrixDisplay(matrix)\n",
    "display.plot()\n",
    "plt.show()"
   ]
  },
  {
   "cell_type": "code",
   "execution_count": 21,
   "metadata": {},
   "outputs": [
    {
     "name": "stdout",
     "output_type": "stream",
     "text": [
      "P(Y = 0 | X = student written essay) = 0.9507908611599297\n",
      "P(Y = 1 | X = LLM written essay) = 0.7470997679814385\n"
     ]
    }
   ],
   "source": [
    "# Accuracies for each class\n",
    "print(f'P(Y = 0 | X = student written essay) = {matrix[0][0] / (matrix[0][0] + matrix[0][1])}')\n",
    "print(f'P(Y = 1 | X = LLM written essay) = {matrix[1][1] / (matrix[1][1] + matrix[1][0])}')"
   ]
  },
  {
   "cell_type": "markdown",
   "metadata": {},
   "source": [
    "Conclusion: The LLM was able to detect whether an essay is LLM Generated.\n",
    "\n",
    "After taking a sample of 1000 randomly selected examples (stratified by class label), I found that the LLM was able to make correct predictions at an accuracy of 86%. While this is a drop-off from the paper's accuracy (95%), this can attributed to the diversity in the essays. No essay was from GPT-2, rather more powerful models such as GPT 3.5 and LLama 2 were used. Thus, it is expected for an accuracy drop off to occur. \n",
    "\n",
    "The confusion matrix is able to convey 2 key things: 1) the model is to detect Y = 0 (essay was written by a student) at a very high accuracy, with very few false positives and 2) the model does \"struggle\" to detect Y = 1 (essay was written by a LLM) as there are many more false negatives. However, this behavior isn't surprising since the LLM used here (RoBERTa base OpenAI Detector) was trained to predict outputs from GPT-2. The LLMs that wrote the essays in the dataset are far more advanced, thus making it much harder for RoBERTa base OpenAI Detector to detect text written by them. All things considered, it would be useful to incorporate this behavior as a feature for classical ML models since RoBERTa base OpenAI Detector performs decently well in this prediction task. "
   ]
  },
  {
   "cell_type": "markdown",
   "metadata": {},
   "source": [
    "## Can the number of grammatical errors affect prediction?\n",
    "\n",
    "In research papers, researchers tended to use human evaluators to see if an essay was written by a LLM or a human. The researchers found that the human evaluators were able to utilize the number of grammatical mistakes as a \"predictor\". They found that the more grammatical mistakes a piece of text hand, the higher the chance that it was written by a person. In this section, I ask the following question: Can the number of grammatical mistakes serve as a predictor in my task?"
   ]
  },
  {
   "cell_type": "code",
   "execution_count": 22,
   "metadata": {},
   "outputs": [],
   "source": [
    "# Setting up language_tool_python locally\n",
    "tool = language_tool_python.LanguageTool('en-US',config={'cacheSize': 1000})"
   ]
  },
  {
   "cell_type": "code",
   "execution_count": 23,
   "metadata": {},
   "outputs": [],
   "source": [
    "# Creating a function to build a column that checks how many grammer errors are present\n",
    "def grammer_error_count(text:str) -> int:\n",
    "    errors = tool.check(text)\n",
    "    return len(errors)"
   ]
  },
  {
   "cell_type": "code",
   "execution_count": 24,
   "metadata": {},
   "outputs": [
    {
     "name": "stdout",
     "output_type": "stream",
     "text": [
      "2024-01-10 21:58:00,065 INFO sqlalchemy.engine.Engine select essay, LLM_written from essays;\n"
     ]
    },
    {
     "name": "stderr",
     "output_type": "stream",
     "text": [
      "select essay, LLM_written from essays;\n"
     ]
    },
    {
     "name": "stdout",
     "output_type": "stream",
     "text": [
      "2024-01-10 21:58:00,068 INFO sqlalchemy.engine.Engine [cached since 2524s ago] {}\n"
     ]
    },
    {
     "name": "stderr",
     "output_type": "stream",
     "text": [
      "[cached since 2524s ago] {}\n"
     ]
    },
    {
     "data": {
      "text/html": [
       "<div>\n",
       "<style scoped>\n",
       "    .dataframe tbody tr th:only-of-type {\n",
       "        vertical-align: middle;\n",
       "    }\n",
       "\n",
       "    .dataframe tbody tr th {\n",
       "        vertical-align: top;\n",
       "    }\n",
       "\n",
       "    .dataframe thead th {\n",
       "        text-align: right;\n",
       "    }\n",
       "</style>\n",
       "<table border=\"1\" class=\"dataframe\">\n",
       "  <thead>\n",
       "    <tr style=\"text-align: right;\">\n",
       "      <th></th>\n",
       "      <th>essay</th>\n",
       "      <th>LLM_written</th>\n",
       "    </tr>\n",
       "  </thead>\n",
       "  <tbody>\n",
       "    <tr>\n",
       "      <th>0</th>\n",
       "      <td>Dear State Senator,\\n\\nI'm writting to you tod...</td>\n",
       "      <td>1</td>\n",
       "    </tr>\n",
       "    <tr>\n",
       "      <th>1</th>\n",
       "      <td>Uh, hi! So, like, summers are, like, awesome r...</td>\n",
       "      <td>1</td>\n",
       "    </tr>\n",
       "    <tr>\n",
       "      <th>2</th>\n",
       "      <td>When peoples ask for advices, they sometimes t...</td>\n",
       "      <td>1</td>\n",
       "    </tr>\n",
       "    <tr>\n",
       "      <th>3</th>\n",
       "      <td>I think art edukation is super impotent for ki...</td>\n",
       "      <td>1</td>\n",
       "    </tr>\n",
       "    <tr>\n",
       "      <th>4</th>\n",
       "      <td>I think we should totally switch to renewable ...</td>\n",
       "      <td>1</td>\n",
       "    </tr>\n",
       "  </tbody>\n",
       "</table>\n",
       "</div>"
      ],
      "text/plain": [
       "                                               essay  LLM_written\n",
       "0  Dear State Senator,\\n\\nI'm writting to you tod...            1\n",
       "1  Uh, hi! So, like, summers are, like, awesome r...            1\n",
       "2  When peoples ask for advices, they sometimes t...            1\n",
       "3  I think art edukation is super impotent for ki...            1\n",
       "4  I think we should totally switch to renewable ...            1"
      ]
     },
     "execution_count": 24,
     "metadata": {},
     "output_type": "execute_result"
    }
   ],
   "source": [
    "# Getting the essays and labels\n",
    "text_and_labels = pd.DataFrame([i for i in db_conn.execute(sqlalchemy.text('select essay, LLM_written from essays;'))])\n",
    "text_and_labels.head()"
   ]
  },
  {
   "cell_type": "code",
   "execution_count": 25,
   "metadata": {},
   "outputs": [
    {
     "data": {
      "text/plain": [
       "LLM_written\n",
       "0    3190\n",
       "1    1810\n",
       "Name: count, dtype: int64"
      ]
     },
     "execution_count": 25,
     "metadata": {},
     "output_type": "execute_result"
    }
   ],
   "source": [
    "# Taking a sample of the data since it would take a while to do the entire dataset\n",
    "_, sample = train_test_split(text_and_labels,test_size=5000,random_state=42,shuffle=True,stratify=text_and_labels['LLM_written'])\n",
    "sample['LLM_written'].value_counts()"
   ]
  },
  {
   "cell_type": "code",
   "execution_count": 26,
   "metadata": {},
   "outputs": [
    {
     "name": "stderr",
     "output_type": "stream",
     "text": [
      "  0%|          | 0/5000 [00:00<?, ?it/s]"
     ]
    },
    {
     "name": "stderr",
     "output_type": "stream",
     "text": [
      "100%|██████████| 5000/5000 [25:31<00:00,  3.26it/s]  \n"
     ]
    }
   ],
   "source": [
    "sample['grammar_error_count'] = sample['essay'].progress_apply(grammer_error_count)"
   ]
  },
  {
   "cell_type": "code",
   "execution_count": 27,
   "metadata": {},
   "outputs": [],
   "source": [
    "# Getting the data of the different classes\n",
    "student = sample[sample['LLM_written'] == 0]\n",
    "llm_written = sample[sample['LLM_written'] == 1]"
   ]
  },
  {
   "cell_type": "code",
   "execution_count": 28,
   "metadata": {},
   "outputs": [
    {
     "name": "stdout",
     "output_type": "stream",
     "text": [
      "Student Grammatical Errors\n",
      "count    3190.000000\n",
      "mean       17.138558\n",
      "std        21.626514\n",
      "min         0.000000\n",
      "25%         7.000000\n",
      "50%        12.000000\n",
      "75%        21.000000\n",
      "max       441.000000\n",
      "Name: grammar_error_count, dtype: float64\n",
      "\n",
      "LLM Grammatical Errors\n",
      "count    1810.00000\n",
      "mean        1.18453\n",
      "std         2.84250\n",
      "min         0.00000\n",
      "25%         0.00000\n",
      "50%         0.00000\n",
      "75%         1.00000\n",
      "max        45.00000\n",
      "Name: grammar_error_count, dtype: float64\n"
     ]
    }
   ],
   "source": [
    "# Looking at the descriptive statistics for the grammar errors\n",
    "print('Student Grammatical Errors')\n",
    "print(student['grammar_error_count'].describe())\n",
    "print()\n",
    "print('LLM Grammatical Errors')\n",
    "print(llm_written['grammar_error_count'].describe())"
   ]
  },
  {
   "cell_type": "code",
   "execution_count": 29,
   "metadata": {},
   "outputs": [
    {
     "data": {
      "image/png": "[encoded data removed]",
      "text/plain": [
       "<Figure size 640x480 with 1 Axes>"
      ]
     },
     "metadata": {},
     "output_type": "display_data"
    }
   ],
   "source": [
    "plt.title('Average Number of Grammar Mistakes per Class')\n",
    "plot = sns.barplot(data=sample,x='LLM_written',y='grammar_error_count',errorbar=None)\n",
    "for i in plot.containers:\n",
    "    plot.bar_label(i,)\n",
    "plt.show()"
   ]
  },
  {
   "cell_type": "markdown",
   "metadata": {},
   "source": [
    "Conclusion:\n",
    "\n",
    "In a sample of 5000 examples, I found that ,on average, the student written essays would have approximately 15-16 more grammatical mistakes. As the plot shows, the student written essays,on average, have a lot more grammar errors than the LLM written ones. If we observe the descriptive statistics table, we can see that the mean and median are much higher for much higher for the student written essays. Furthermore, there is much bigger standard deviation, as one essay was found to have 441 grammar mistakes. This analysis provides confidence that the number of grammar mistakes is a good predictor of whether an essay was written by a LLM. Even in this small sample, it is clear that student written essays have a higher number of grammatical errors than a LLM written essay. For classical ML approaches, I should include this as a feature."
   ]
  },
  {
   "cell_type": "markdown",
   "metadata": {},
   "source": [
    "In this notebook, I performed an in-depth analysis on the overall differences between the 2 classes in terms of essays. My findings will be used to build features for a classical ML solution. However, I haven't properly analyzed the physical text. This will be done in a new notebook as this notebook is getting large. "
   ]
  },
  {
   "cell_type": "code",
   "execution_count": 60,
   "metadata": {},
   "outputs": [
    {
     "name": "stdout",
     "output_type": "stream",
     "text": [
      "2024-01-10 23:28:49,843 INFO sqlalchemy.engine.Engine ROLLBACK\n"
     ]
    },
    {
     "name": "stderr",
     "output_type": "stream",
     "text": [
      "ROLLBACK\n"
     ]
    }
   ],
   "source": [
    "# Closing connections and deleting the engine\n",
    "db_conn.close()\n",
    "db_engine.dispose()"
   ]
  }
 ],
 "metadata": {
  "kernelspec": {
   "display_name": "authentic-ai",
   "language": "python",
   "name": "python3"
  },
  "language_info": {
   "codemirror_mode": {
    "name": "ipython",
    "version": 3
   },
   "file_extension": ".py",
   "mimetype": "text/x-python",
   "name": "python",
   "nbconvert_exporter": "python",
   "pygments_lexer": "ipython3",
   "version": "3.10.0"
  }
 },
 "nbformat": 4,
 "nbformat_minor": 2
}
